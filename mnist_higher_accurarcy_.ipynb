{
  "nbformat": 4,
  "nbformat_minor": 0,
  "metadata": {
    "colab": {
      "name": "mnist-higher accurarcy...ipynb",
      "provenance": [],
      "authorship_tag": "ABX9TyPKrwQF7fze0o3fPIrbyTCX",
      "include_colab_link": true
    },
    "kernelspec": {
      "name": "python3",
      "display_name": "Python 3"
    },
    "accelerator": "TPU"
  },
  "cells": [
    {
      "cell_type": "markdown",
      "metadata": {
        "id": "view-in-github",
        "colab_type": "text"
      },
      "source": [
        "<a href=\"https://colab.research.google.com/github/atulya97/Deep-Learning/blob/master/mnist_higher_accurarcy_.ipynb\" target=\"_parent\"><img src=\"https://colab.research.google.com/assets/colab-badge.svg\" alt=\"Open In Colab\"/></a>"
      ]
    },
    {
      "cell_type": "code",
      "metadata": {
        "id": "-PGahFuLuJuB",
        "colab_type": "code",
        "colab": {}
      },
      "source": [
        "import numpy as np \n",
        "import pandas as pd \n",
        "import matplotlib.pyplot as plt\n"
      ],
      "execution_count": 0,
      "outputs": []
    },
    {
      "cell_type": "code",
      "metadata": {
        "id": "RTmaujwp9SHF",
        "colab_type": "code",
        "colab": {}
      },
      "source": [
        "import tensorflow as tf \n",
        "from tensorflow import keras\n"
      ],
      "execution_count": 0,
      "outputs": []
    },
    {
      "cell_type": "code",
      "metadata": {
        "id": "m18psjae-gg_",
        "colab_type": "code",
        "colab": {}
      },
      "source": [
        "tf.random.set_seed(42)\n",
        "np.random.seed(42)"
      ],
      "execution_count": 0,
      "outputs": []
    },
    {
      "cell_type": "code",
      "metadata": {
        "id": "9rtp0C1n-jLT",
        "colab_type": "code",
        "colab": {}
      },
      "source": [
        "mnistDB = keras.datasets.mnist\n"
      ],
      "execution_count": 0,
      "outputs": []
    },
    {
      "cell_type": "code",
      "metadata": {
        "id": "3AjxkowX-vyS",
        "colab_type": "code",
        "colab": {}
      },
      "source": [
        ""
      ],
      "execution_count": 0,
      "outputs": []
    },
    {
      "cell_type": "code",
      "metadata": {
        "id": "xjcW7Mtkl5zV",
        "colab_type": "code",
        "colab": {
          "base_uri": "https://localhost:8080/",
          "height": 50
        },
        "outputId": "e06eb66c-6926-4aa3-a563-90f52622b994"
      },
      "source": [
        "(X_train, y_train),(X_test, y_test) = mnistDB.load_data() #it returns  4 values as two tuples..\n"
      ],
      "execution_count": 6,
      "outputs": [
        {
          "output_type": "stream",
          "text": [
            "Downloading data from https://storage.googleapis.com/tensorflow/tf-keras-datasets/mnist.npz\n",
            "11493376/11490434 [==============================] - 0s 0us/step\n"
          ],
          "name": "stdout"
        }
      ]
    },
    {
      "cell_type": "code",
      "metadata": {
        "id": "kkiEINGHADeW",
        "colab_type": "code",
        "colab": {
          "base_uri": "https://localhost:8080/",
          "height": 282
        },
        "outputId": "b80dd008-02c0-4bbf-e228-e6e731a00d6a"
      },
      "source": [
        "plt.imshow(X_train[16], cmap='binary') \n"
      ],
      "execution_count": 7,
      "outputs": [
        {
          "output_type": "execute_result",
          "data": {
            "text/plain": [
              "<matplotlib.image.AxesImage at 0x7f33f293d208>"
            ]
          },
          "metadata": {
            "tags": []
          },
          "execution_count": 7
        },
        {
          "output_type": "display_data",
          "data": {
            "image/png": "[encoded data removed]",
            "text/plain": [
              "<Figure size 432x288 with 1 Axes>"
            ]
          },
          "metadata": {
            "tags": []
          }
        }
      ]
    },
    {
      "cell_type": "code",
      "metadata": {
        "id": "I5PcdOscAHdU",
        "colab_type": "code",
        "colab": {}
      },
      "source": [
        "X_train = X_train.reshape((60000, 28*28))\n"
      ],
      "execution_count": 0,
      "outputs": []
    },
    {
      "cell_type": "code",
      "metadata": {
        "id": "bip3hJgwALVP",
        "colab_type": "code",
        "colab": {}
      },
      "source": [
        "X_train = X_train.astype('float32')/255 #convert to make it more efficient..\n",
        "#print(X_train[45])"
      ],
      "execution_count": 0,
      "outputs": []
    },
    {
      "cell_type": "code",
      "metadata": {
        "id": "ZVXVN-ilAPlC",
        "colab_type": "code",
        "colab": {}
      },
      "source": [
        "X_test = X_test.reshape((10000, 28*28))\n",
        "X_test = X_test.astype('float32')/255"
      ],
      "execution_count": 0,
      "outputs": []
    },
    {
      "cell_type": "code",
      "metadata": {
        "id": "WTxoOkLfASOy",
        "colab_type": "code",
        "colab": {
          "base_uri": "https://localhost:8080/",
          "height": 319
        },
        "outputId": "40ed42cc-fe0c-4063-f5c5-4bb80cb49a87"
      },
      "source": [
        "dnn = keras.models.Sequential()\n",
        "dnn.add(keras.layers.Dense(50, activation=\"relu\",input_shape=X_train.shape[1:]))\n",
        "dnn.add(keras.layers.Dense(40, activation=\"relu\"))\n",
        "dnn.add(keras.layers.Dense(30, activation=\"relu\"))\n",
        "dnn.add(keras.layers.Dense(30, activation=\"relu\"))\n",
        "\n",
        "dnn.add(keras.layers.Dense(10, activation=\"softmax\"))\n",
        "dnn.summary()"
      ],
      "execution_count": 11,
      "outputs": [
        {
          "output_type": "stream",
          "text": [
            "Model: \"sequential\"\n",
            "_________________________________________________________________\n",
            "Layer (type)                 Output Shape              Param #   \n",
            "=================================================================\n",
            "dense (Dense)                (None, 50)                39250     \n",
            "_________________________________________________________________\n",
            "dense_1 (Dense)              (None, 40)                2040      \n",
            "_________________________________________________________________\n",
            "dense_2 (Dense)              (None, 30)                1230      \n",
            "_________________________________________________________________\n",
            "dense_3 (Dense)              (None, 30)                930       \n",
            "_________________________________________________________________\n",
            "dense_4 (Dense)              (None, 10)                310       \n",
            "=================================================================\n",
            "Total params: 43,760\n",
            "Trainable params: 43,760\n",
            "Non-trainable params: 0\n",
            "_________________________________________________________________\n"
          ],
          "name": "stdout"
        }
      ]
    },
    {
      "cell_type": "code",
      "metadata": {
        "id": "HF5RRJsZAiOK",
        "colab_type": "code",
        "colab": {}
      },
      "source": [
        "dnn.compile(loss='sparse_categorical_crossentropy',optimizer='adam', metrics=['accuracy']) #instead of rmsprop we can also use adam...\n"
      ],
      "execution_count": 0,
      "outputs": []
    },
    {
      "cell_type": "code",
      "metadata": {
        "id": "QMwBuBtQAqZJ",
        "colab_type": "code",
        "colab": {
          "base_uri": "https://localhost:8080/",
          "height": 1000
        },
        "outputId": "0cb46335-d8c2-4b2e-f345-34cd30ea82af"
      },
      "source": [
        "dnn.fit(x=X_train,y=y_train,validation_split=0.3,epochs=50,batch_size=16)"
      ],
      "execution_count": 13,
      "outputs": [
        {
          "output_type": "stream",
          "text": [
            "Epoch 1/50\n",
            "2625/2625 [==============================] - 6s 2ms/step - loss: 0.3569 - accuracy: 0.8915 - val_loss: 0.2213 - val_accuracy: 0.9363\n",
            "Epoch 2/50\n",
            "2625/2625 [==============================] - 6s 2ms/step - loss: 0.1574 - accuracy: 0.9526 - val_loss: 0.1503 - val_accuracy: 0.9568\n",
            "Epoch 3/50\n",
            "2625/2625 [==============================] - 6s 2ms/step - loss: 0.1248 - accuracy: 0.9616 - val_loss: 0.1574 - val_accuracy: 0.9530\n",
            "Epoch 4/50\n",
            "2625/2625 [==============================] - 6s 2ms/step - loss: 0.0990 - accuracy: 0.9681 - val_loss: 0.1516 - val_accuracy: 0.9580\n",
            "Epoch 5/50\n",
            "2625/2625 [==============================] - 6s 2ms/step - loss: 0.0839 - accuracy: 0.9746 - val_loss: 0.1304 - val_accuracy: 0.9629\n",
            "Epoch 6/50\n",
            "2625/2625 [==============================] - 6s 2ms/step - loss: 0.0739 - accuracy: 0.9763 - val_loss: 0.1315 - val_accuracy: 0.9639\n",
            "Epoch 7/50\n",
            "2625/2625 [==============================] - 6s 2ms/step - loss: 0.0638 - accuracy: 0.9803 - val_loss: 0.1386 - val_accuracy: 0.9607\n",
            "Epoch 8/50\n",
            "2625/2625 [==============================] - 6s 2ms/step - loss: 0.0575 - accuracy: 0.9817 - val_loss: 0.1373 - val_accuracy: 0.9647\n",
            "Epoch 9/50\n",
            "2625/2625 [==============================] - 6s 2ms/step - loss: 0.0527 - accuracy: 0.9834 - val_loss: 0.1536 - val_accuracy: 0.9634\n",
            "Epoch 10/50\n",
            "2625/2625 [==============================] - 6s 2ms/step - loss: 0.0469 - accuracy: 0.9844 - val_loss: 0.1556 - val_accuracy: 0.9631\n",
            "Epoch 11/50\n",
            "2625/2625 [==============================] - 6s 2ms/step - loss: 0.0419 - accuracy: 0.9864 - val_loss: 0.1717 - val_accuracy: 0.9601\n",
            "Epoch 12/50\n",
            "2625/2625 [==============================] - 5s 2ms/step - loss: 0.0402 - accuracy: 0.9867 - val_loss: 0.1526 - val_accuracy: 0.9635\n",
            "Epoch 13/50\n",
            "2625/2625 [==============================] - 6s 2ms/step - loss: 0.0389 - accuracy: 0.9873 - val_loss: 0.1484 - val_accuracy: 0.9673\n",
            "Epoch 14/50\n",
            "2625/2625 [==============================] - 5s 2ms/step - loss: 0.0338 - accuracy: 0.9898 - val_loss: 0.1531 - val_accuracy: 0.9634\n",
            "Epoch 15/50\n",
            "2625/2625 [==============================] - 5s 2ms/step - loss: 0.0339 - accuracy: 0.9886 - val_loss: 0.1522 - val_accuracy: 0.9664\n",
            "Epoch 16/50\n",
            "2625/2625 [==============================] - 5s 2ms/step - loss: 0.0320 - accuracy: 0.9894 - val_loss: 0.1698 - val_accuracy: 0.9638\n",
            "Epoch 17/50\n",
            "2625/2625 [==============================] - 6s 2ms/step - loss: 0.0294 - accuracy: 0.9899 - val_loss: 0.1695 - val_accuracy: 0.9652\n",
            "Epoch 18/50\n",
            "2625/2625 [==============================] - 6s 2ms/step - loss: 0.0281 - accuracy: 0.9910 - val_loss: 0.2168 - val_accuracy: 0.9591\n",
            "Epoch 19/50\n",
            "2625/2625 [==============================] - 6s 2ms/step - loss: 0.0273 - accuracy: 0.9915 - val_loss: 0.1672 - val_accuracy: 0.9678\n",
            "Epoch 20/50\n",
            "2625/2625 [==============================] - 5s 2ms/step - loss: 0.0257 - accuracy: 0.9911 - val_loss: 0.1626 - val_accuracy: 0.9678\n",
            "Epoch 21/50\n",
            "2625/2625 [==============================] - 6s 2ms/step - loss: 0.0259 - accuracy: 0.9922 - val_loss: 0.1843 - val_accuracy: 0.9657\n",
            "Epoch 22/50\n",
            "2625/2625 [==============================] - 5s 2ms/step - loss: 0.0222 - accuracy: 0.9926 - val_loss: 0.2027 - val_accuracy: 0.9631\n",
            "Epoch 23/50\n",
            "2625/2625 [==============================] - 5s 2ms/step - loss: 0.0230 - accuracy: 0.9930 - val_loss: 0.1948 - val_accuracy: 0.9658\n",
            "Epoch 24/50\n",
            "2625/2625 [==============================] - 6s 2ms/step - loss: 0.0216 - accuracy: 0.9930 - val_loss: 0.1999 - val_accuracy: 0.9656\n",
            "Epoch 25/50\n",
            "2625/2625 [==============================] - 5s 2ms/step - loss: 0.0224 - accuracy: 0.9927 - val_loss: 0.1731 - val_accuracy: 0.9694\n",
            "Epoch 26/50\n",
            "2625/2625 [==============================] - 5s 2ms/step - loss: 0.0201 - accuracy: 0.9935 - val_loss: 0.2348 - val_accuracy: 0.9619\n",
            "Epoch 27/50\n",
            "2625/2625 [==============================] - 5s 2ms/step - loss: 0.0208 - accuracy: 0.9934 - val_loss: 0.1906 - val_accuracy: 0.9668\n",
            "Epoch 28/50\n",
            "2625/2625 [==============================] - 5s 2ms/step - loss: 0.0176 - accuracy: 0.9946 - val_loss: 0.2006 - val_accuracy: 0.9648\n",
            "Epoch 29/50\n",
            "2625/2625 [==============================] - 5s 2ms/step - loss: 0.0220 - accuracy: 0.9927 - val_loss: 0.1845 - val_accuracy: 0.9697\n",
            "Epoch 30/50\n",
            "2625/2625 [==============================] - 5s 2ms/step - loss: 0.0165 - accuracy: 0.9947 - val_loss: 0.2158 - val_accuracy: 0.9650\n",
            "Epoch 31/50\n",
            "2625/2625 [==============================] - 5s 2ms/step - loss: 0.0188 - accuracy: 0.9941 - val_loss: 0.2004 - val_accuracy: 0.9666\n",
            "Epoch 32/50\n",
            "2625/2625 [==============================] - 5s 2ms/step - loss: 0.0151 - accuracy: 0.9951 - val_loss: 0.2005 - val_accuracy: 0.9686\n",
            "Epoch 33/50\n",
            "2625/2625 [==============================] - 5s 2ms/step - loss: 0.0172 - accuracy: 0.9945 - val_loss: 0.2258 - val_accuracy: 0.9634\n",
            "Epoch 34/50\n",
            "2625/2625 [==============================] - 5s 2ms/step - loss: 0.0150 - accuracy: 0.9953 - val_loss: 0.2224 - val_accuracy: 0.9655\n",
            "Epoch 35/50\n",
            "2625/2625 [==============================] - 5s 2ms/step - loss: 0.0170 - accuracy: 0.9942 - val_loss: 0.2077 - val_accuracy: 0.9679\n",
            "Epoch 36/50\n",
            "2625/2625 [==============================] - 5s 2ms/step - loss: 0.0147 - accuracy: 0.9955 - val_loss: 0.2237 - val_accuracy: 0.9639\n",
            "Epoch 37/50\n",
            "2625/2625 [==============================] - 5s 2ms/step - loss: 0.0149 - accuracy: 0.9955 - val_loss: 0.2071 - val_accuracy: 0.9674\n",
            "Epoch 38/50\n",
            "2625/2625 [==============================] - 5s 2ms/step - loss: 0.0168 - accuracy: 0.9948 - val_loss: 0.2357 - val_accuracy: 0.9658\n",
            "Epoch 39/50\n",
            "2625/2625 [==============================] - 5s 2ms/step - loss: 0.0134 - accuracy: 0.9961 - val_loss: 0.2374 - val_accuracy: 0.9656\n",
            "Epoch 40/50\n",
            "2625/2625 [==============================] - 5s 2ms/step - loss: 0.0160 - accuracy: 0.9955 - val_loss: 0.2360 - val_accuracy: 0.9662\n",
            "Epoch 41/50\n",
            "2625/2625 [==============================] - 5s 2ms/step - loss: 0.0120 - accuracy: 0.9964 - val_loss: 0.2501 - val_accuracy: 0.9660\n",
            "Epoch 42/50\n",
            "2625/2625 [==============================] - 5s 2ms/step - loss: 0.0167 - accuracy: 0.9954 - val_loss: 0.2480 - val_accuracy: 0.9648\n",
            "Epoch 43/50\n",
            "2625/2625 [==============================] - 5s 2ms/step - loss: 0.0132 - accuracy: 0.9959 - val_loss: 0.2282 - val_accuracy: 0.9674\n",
            "Epoch 44/50\n",
            "2625/2625 [==============================] - 5s 2ms/step - loss: 0.0136 - accuracy: 0.9959 - val_loss: 0.2452 - val_accuracy: 0.9653\n",
            "Epoch 45/50\n",
            "2625/2625 [==============================] - 5s 2ms/step - loss: 0.0140 - accuracy: 0.9956 - val_loss: 0.2411 - val_accuracy: 0.9664\n",
            "Epoch 46/50\n",
            "2625/2625 [==============================] - 5s 2ms/step - loss: 0.0105 - accuracy: 0.9967 - val_loss: 0.2460 - val_accuracy: 0.9664\n",
            "Epoch 47/50\n",
            "2625/2625 [==============================] - 5s 2ms/step - loss: 0.0140 - accuracy: 0.9958 - val_loss: 0.2544 - val_accuracy: 0.9670\n",
            "Epoch 48/50\n",
            "2625/2625 [==============================] - 6s 2ms/step - loss: 0.0146 - accuracy: 0.9955 - val_loss: 0.2414 - val_accuracy: 0.9654\n",
            "Epoch 49/50\n",
            "2625/2625 [==============================] - 6s 2ms/step - loss: 0.0141 - accuracy: 0.9959 - val_loss: 0.2340 - val_accuracy: 0.9674\n",
            "Epoch 50/50\n",
            "2625/2625 [==============================] - 5s 2ms/step - loss: 0.0112 - accuracy: 0.9969 - val_loss: 0.2331 - val_accuracy: 0.9691\n"
          ],
          "name": "stdout"
        },
        {
          "output_type": "execute_result",
          "data": {
            "text/plain": [
              "<tensorflow.python.keras.callbacks.History at 0x7f33ec1b9080>"
            ]
          },
          "metadata": {
            "tags": []
          },
          "execution_count": 13
        }
      ]
    },
    {
      "cell_type": "code",
      "metadata": {
        "id": "LwHq1myeAugh",
        "colab_type": "code",
        "colab": {
          "base_uri": "https://localhost:8080/",
          "height": 50
        },
        "outputId": "1beecff0-fbaa-4273-cff7-2b6b0696bf76"
      },
      "source": [
        "test_loss, test_accuracy = dnn.evaluate(x=X_test, y=y_test)\n",
        "print(test_loss, test_accuracy)"
      ],
      "execution_count": 14,
      "outputs": [
        {
          "output_type": "stream",
          "text": [
            "313/313 [==============================] - 0s 1ms/step - loss: 0.2248 - accuracy: 0.9695\n",
            "0.22483864426612854 0.9695000052452087\n"
          ],
          "name": "stdout"
        }
      ]
    },
    {
      "cell_type": "code",
      "metadata": {
        "id": "uHAnsPtxA4CJ",
        "colab_type": "code",
        "colab": {}
      },
      "source": [
        ""
      ],
      "execution_count": 0,
      "outputs": []
    }
  ]
}