{
  "nbformat": 4,
  "nbformat_minor": 0,
  "metadata": {
    "colab": {
      "name": " DNN for Boston House price with Dropouts.ipynb",
      "provenance": [],
      "authorship_tag": "ABX9TyNBzs5Ee1Gi+oJSPZ3DM//X",
      "include_colab_link": true
    },
    "kernelspec": {
      "name": "python3",
      "display_name": "Python 3"
    }
  },
  "cells": [
    {
      "cell_type": "markdown",
      "metadata": {
        "id": "view-in-github",
        "colab_type": "text"
      },
      "source": [
        "<a href=\"https://colab.research.google.com/github/atulya97/Deep-Learning/blob/master/DNN_for_Boston_House_price_with_Dropouts.ipynb\" target=\"_parent\"><img src=\"https://colab.research.google.com/assets/colab-badge.svg\" alt=\"Open In Colab\"/></a>"
      ]
    },
    {
      "cell_type": "code",
      "metadata": {
        "id": "DxJlc921QOZx",
        "colab_type": "code",
        "colab": {}
      },
      "source": [
        "import numpy as np\n",
        "import pandas as pd \n",
        "import matplotlib.pyplot as plt\n"
      ],
      "execution_count": 0,
      "outputs": []
    },
    {
      "cell_type": "code",
      "metadata": {
        "id": "3D80iPJlRDNy",
        "colab_type": "code",
        "colab": {}
      },
      "source": [
        "from sklearn.datasets import load_boston\n",
        "import tensorflow as tf\n",
        "from tensorflow import keras"
      ],
      "execution_count": 0,
      "outputs": []
    },
    {
      "cell_type": "code",
      "metadata": {
        "id": "i0Ctb_BtRUhZ",
        "colab_type": "code",
        "colab": {}
      },
      "source": [
        "tf.set_random_seed(42)\n",
        "np.random.seed(42)"
      ],
      "execution_count": 0,
      "outputs": []
    },
    {
      "cell_type": "code",
      "metadata": {
        "id": "WGFfgnLrRjQ8",
        "colab_type": "code",
        "colab": {}
      },
      "source": [
        "bostonData=load_boston()"
      ],
      "execution_count": 0,
      "outputs": []
    },
    {
      "cell_type": "code",
      "metadata": {
        "id": "borITE-YRvjs",
        "colab_type": "code",
        "colab": {}
      },
      "source": [
        "X=bostonData.data\n",
        "y=bostonData.target"
      ],
      "execution_count": 0,
      "outputs": []
    },
    {
      "cell_type": "code",
      "metadata": {
        "id": "VWAuvWiZR2Zx",
        "colab_type": "code",
        "colab": {}
      },
      "source": [
        "from sklearn.model_selection import train_test_split\n"
      ],
      "execution_count": 0,
      "outputs": []
    },
    {
      "cell_type": "code",
      "metadata": {
        "id": "e7SDJjDsR-ZN",
        "colab_type": "code",
        "colab": {}
      },
      "source": [
        "X_train,X_test,y_train,y_test=train_test_split(X,y,test_size=0.2,random_state=42)"
      ],
      "execution_count": 0,
      "outputs": []
    },
    {
      "cell_type": "code",
      "metadata": {
        "id": "zveZe6HmSmrY",
        "colab_type": "code",
        "colab": {}
      },
      "source": [
        "from sklearn.preprocessing import StandardScaler \n",
        "sc = StandardScaler()\n"
      ],
      "execution_count": 0,
      "outputs": []
    },
    {
      "cell_type": "code",
      "metadata": {
        "id": "QZ81AsCiSsO-",
        "colab_type": "code",
        "colab": {
          "base_uri": "https://localhost:8080/",
          "height": 33
        },
        "outputId": "6e7cbb45-1a23-4dc5-9e2f-3ecb2f558367"
      },
      "source": [
        "sc.fit(X_train)\n"
      ],
      "execution_count": 11,
      "outputs": [
        {
          "output_type": "execute_result",
          "data": {
            "text/plain": [
              "StandardScaler(copy=True, with_mean=True, with_std=True)"
            ]
          },
          "metadata": {
            "tags": []
          },
          "execution_count": 11
        }
      ]
    },
    {
      "cell_type": "code",
      "metadata": {
        "id": "v8l3DrTtS14s",
        "colab_type": "code",
        "colab": {}
      },
      "source": [
        "X_train_std = sc.transform(X_train)\n",
        "X_test_std = sc.transform(X_test)\n"
      ],
      "execution_count": 0,
      "outputs": []
    },
    {
      "cell_type": "code",
      "metadata": {
        "id": "XIpAS4ThS6vt",
        "colab_type": "code",
        "colab": {}
      },
      "source": [
        "model_DNN = keras.models.Sequential()"
      ],
      "execution_count": 0,
      "outputs": []
    },
    {
      "cell_type": "code",
      "metadata": {
        "id": "s0ClxHZvS_pK",
        "colab_type": "code",
        "colab": {
          "base_uri": "https://localhost:8080/",
          "height": 87
        },
        "outputId": "c2a41614-ec6c-4332-c686-12da87b8e637"
      },
      "source": [
        "model_DNN.add(keras.layers.Dense(units=15, activation='relu', input_shape=X_train.shape[1:]))\n"
      ],
      "execution_count": 14,
      "outputs": [
        {
          "output_type": "stream",
          "text": [
            "WARNING:tensorflow:From /usr/local/lib/python3.6/dist-packages/tensorflow_core/python/ops/resource_variable_ops.py:1630: calling BaseResourceVariable.__init__ (from tensorflow.python.ops.resource_variable_ops) with constraint is deprecated and will be removed in a future version.\n",
            "Instructions for updating:\n",
            "If using Keras pass *_constraint arguments to layers.\n"
          ],
          "name": "stdout"
        }
      ]
    },
    {
      "cell_type": "code",
      "metadata": {
        "id": "XEodiaGTTIWU",
        "colab_type": "code",
        "colab": {}
      },
      "source": [
        "model_DNN.add(keras.layers.Dropout(0.05))"
      ],
      "execution_count": 0,
      "outputs": []
    },
    {
      "cell_type": "code",
      "metadata": {
        "id": "BB-GS7LzTWC4",
        "colab_type": "code",
        "colab": {}
      },
      "source": [
        "model_DNN.add(keras.layers.Dense(units=12,activation='relu'))"
      ],
      "execution_count": 0,
      "outputs": []
    },
    {
      "cell_type": "code",
      "metadata": {
        "id": "DwhMYOWiTpxM",
        "colab_type": "code",
        "colab": {}
      },
      "source": [
        "model_DNN.add(keras.layers.Dropout(0.05))"
      ],
      "execution_count": 0,
      "outputs": []
    },
    {
      "cell_type": "code",
      "metadata": {
        "id": "K9bPVL4STso2",
        "colab_type": "code",
        "colab": {}
      },
      "source": [
        "model_DNN.add(keras.layers.Dense(units=8,activation='relu'))\n",
        "model_DNN.add(keras.layers.Dense(units=4,activation='relu'))"
      ],
      "execution_count": 0,
      "outputs": []
    },
    {
      "cell_type": "code",
      "metadata": {
        "id": "0NxSHZItTzqH",
        "colab_type": "code",
        "colab": {}
      },
      "source": [
        "model_DNN.add(keras.layers.Dense(units=1,activation='linear'))"
      ],
      "execution_count": 0,
      "outputs": []
    },
    {
      "cell_type": "code",
      "metadata": {
        "id": "yAJONQtGT7e4",
        "colab_type": "code",
        "colab": {
          "base_uri": "https://localhost:8080/",
          "height": 719
        },
        "outputId": "f60252d8-ecb4-4155-c1c2-7e838a40dd9d"
      },
      "source": [
        "model_DNN.summary()"
      ],
      "execution_count": 39,
      "outputs": [
        {
          "output_type": "stream",
          "text": [
            "Model: \"sequential\"\n",
            "_________________________________________________________________\n",
            "Layer (type)                 Output Shape              Param #   \n",
            "=================================================================\n",
            "dense (Dense)                (None, 15)                210       \n",
            "_________________________________________________________________\n",
            "dropout (Dropout)            (None, 15)                0         \n",
            "_________________________________________________________________\n",
            "dense_1 (Dense)              (None, 12)                192       \n",
            "_________________________________________________________________\n",
            "dropout_1 (Dropout)          (None, 12)                0         \n",
            "_________________________________________________________________\n",
            "dense_2 (Dense)              (None, 8)                 104       \n",
            "_________________________________________________________________\n",
            "dense_3 (Dense)              (None, 4)                 36        \n",
            "_________________________________________________________________\n",
            "dense_4 (Dense)              (None, 1)                 5         \n",
            "_________________________________________________________________\n",
            "dropout_2 (Dropout)          (None, 1)                 0         \n",
            "_________________________________________________________________\n",
            "dense_5 (Dense)              (None, 8)                 16        \n",
            "_________________________________________________________________\n",
            "dense_6 (Dense)              (None, 4)                 36        \n",
            "_________________________________________________________________\n",
            "dense_7 (Dense)              (None, 1)                 5         \n",
            "_________________________________________________________________\n",
            "dropout_3 (Dropout)          (None, 1)                 0         \n",
            "_________________________________________________________________\n",
            "dense_8 (Dense)              (None, 12)                24        \n",
            "_________________________________________________________________\n",
            "dropout_4 (Dropout)          (None, 12)                0         \n",
            "_________________________________________________________________\n",
            "dense_9 (Dense)              (None, 8)                 104       \n",
            "_________________________________________________________________\n",
            "dense_10 (Dense)             (None, 4)                 36        \n",
            "_________________________________________________________________\n",
            "dense_11 (Dense)             (None, 1)                 5         \n",
            "=================================================================\n",
            "Total params: 604\n",
            "Trainable params: 604\n",
            "Non-trainable params: 0\n",
            "_________________________________________________________________\n"
          ],
          "name": "stdout"
        }
      ]
    },
    {
      "cell_type": "code",
      "metadata": {
        "id": "uVBbSJtFT_Q9",
        "colab_type": "code",
        "colab": {}
      },
      "source": [
        "model_DNN.compile(loss='mse',optimizer='adam',metrics=['mae'])"
      ],
      "execution_count": 0,
      "outputs": []
    },
    {
      "cell_type": "code",
      "metadata": {
        "id": "xObsWfzPUdvP",
        "colab_type": "code",
        "colab": {
          "base_uri": "https://localhost:8080/",
          "height": 1000
        },
        "outputId": "d52d901b-0fae-4a66-be1e-df3647553c8e"
      },
      "source": [
        "model_DNN.fit(x=X_train_std,y=y_train,validation_split=0.1,epochs=50,batch_size=16)"
      ],
      "execution_count": 41,
      "outputs": [
        {
          "output_type": "stream",
          "text": [
            "Train on 363 samples, validate on 41 samples\n",
            "Epoch 1/50\n",
            "363/363 [==============================] - 1s 1ms/sample - loss: 540.8986 - mean_absolute_error: 21.4678 - val_loss: 493.2830 - val_mean_absolute_error: 20.7867\n",
            "Epoch 2/50\n",
            "363/363 [==============================] - 0s 243us/sample - loss: 413.7052 - mean_absolute_error: 18.7222 - val_loss: 313.0868 - val_mean_absolute_error: 16.4451\n",
            "Epoch 3/50\n",
            "363/363 [==============================] - 0s 226us/sample - loss: 192.9308 - mean_absolute_error: 11.5282 - val_loss: 62.3304 - val_mean_absolute_error: 6.0253\n",
            "Epoch 4/50\n",
            "363/363 [==============================] - 0s 248us/sample - loss: 88.2579 - mean_absolute_error: 6.4982 - val_loss: 43.9355 - val_mean_absolute_error: 4.7010\n",
            "Epoch 5/50\n",
            "363/363 [==============================] - 0s 220us/sample - loss: 78.4179 - mean_absolute_error: 5.8136 - val_loss: 41.4698 - val_mean_absolute_error: 4.6803\n",
            "Epoch 6/50\n",
            "363/363 [==============================] - 0s 215us/sample - loss: 106.5150 - mean_absolute_error: 6.3652 - val_loss: 38.6752 - val_mean_absolute_error: 4.4748\n",
            "Epoch 7/50\n",
            "363/363 [==============================] - 0s 204us/sample - loss: 58.6461 - mean_absolute_error: 5.2730 - val_loss: 30.4675 - val_mean_absolute_error: 3.7656\n",
            "Epoch 8/50\n",
            "363/363 [==============================] - 0s 237us/sample - loss: 92.2748 - mean_absolute_error: 6.0913 - val_loss: 39.8589 - val_mean_absolute_error: 4.6273\n",
            "Epoch 9/50\n",
            "363/363 [==============================] - 0s 222us/sample - loss: 83.6195 - mean_absolute_error: 5.5957 - val_loss: 34.9848 - val_mean_absolute_error: 4.2016\n",
            "Epoch 10/50\n",
            "363/363 [==============================] - 0s 234us/sample - loss: 73.5673 - mean_absolute_error: 5.6684 - val_loss: 32.2701 - val_mean_absolute_error: 3.9575\n",
            "Epoch 11/50\n",
            "363/363 [==============================] - 0s 210us/sample - loss: 84.5577 - mean_absolute_error: 5.9001 - val_loss: 32.2218 - val_mean_absolute_error: 3.9627\n",
            "Epoch 12/50\n",
            "363/363 [==============================] - 0s 205us/sample - loss: 76.2490 - mean_absolute_error: 5.7929 - val_loss: 41.5322 - val_mean_absolute_error: 4.8312\n",
            "Epoch 13/50\n",
            "363/363 [==============================] - 0s 290us/sample - loss: 85.0323 - mean_absolute_error: 5.8130 - val_loss: 37.4758 - val_mean_absolute_error: 4.4699\n",
            "Epoch 14/50\n",
            "363/363 [==============================] - 0s 249us/sample - loss: 108.5287 - mean_absolute_error: 6.1554 - val_loss: 31.9696 - val_mean_absolute_error: 3.9349\n",
            "Epoch 15/50\n",
            "363/363 [==============================] - 0s 217us/sample - loss: 69.9013 - mean_absolute_error: 5.3072 - val_loss: 43.6150 - val_mean_absolute_error: 4.9635\n",
            "Epoch 16/50\n",
            "363/363 [==============================] - 0s 206us/sample - loss: 95.9707 - mean_absolute_error: 5.9801 - val_loss: 32.3937 - val_mean_absolute_error: 3.9486\n",
            "Epoch 17/50\n",
            "363/363 [==============================] - 0s 224us/sample - loss: 90.6166 - mean_absolute_error: 6.0722 - val_loss: 28.6698 - val_mean_absolute_error: 3.6640\n",
            "Epoch 18/50\n",
            "363/363 [==============================] - 0s 206us/sample - loss: 78.9785 - mean_absolute_error: 5.6576 - val_loss: 36.9836 - val_mean_absolute_error: 4.3819\n",
            "Epoch 19/50\n",
            "363/363 [==============================] - 0s 209us/sample - loss: 71.8692 - mean_absolute_error: 5.5656 - val_loss: 34.3491 - val_mean_absolute_error: 4.1696\n",
            "Epoch 20/50\n",
            "363/363 [==============================] - 0s 185us/sample - loss: 64.9940 - mean_absolute_error: 5.0528 - val_loss: 33.4210 - val_mean_absolute_error: 4.1176\n",
            "Epoch 21/50\n",
            "363/363 [==============================] - 0s 202us/sample - loss: 58.2744 - mean_absolute_error: 5.0156 - val_loss: 31.6200 - val_mean_absolute_error: 3.9418\n",
            "Epoch 22/50\n",
            "363/363 [==============================] - 0s 190us/sample - loss: 96.7873 - mean_absolute_error: 5.8956 - val_loss: 36.2550 - val_mean_absolute_error: 4.4173\n",
            "Epoch 23/50\n",
            "363/363 [==============================] - 0s 194us/sample - loss: 87.3373 - mean_absolute_error: 5.8209 - val_loss: 29.8837 - val_mean_absolute_error: 3.8295\n",
            "Epoch 24/50\n",
            "363/363 [==============================] - 0s 239us/sample - loss: 77.3600 - mean_absolute_error: 5.5120 - val_loss: 37.0830 - val_mean_absolute_error: 4.5321\n",
            "Epoch 25/50\n",
            "363/363 [==============================] - 0s 195us/sample - loss: 85.5027 - mean_absolute_error: 5.6134 - val_loss: 32.9125 - val_mean_absolute_error: 4.1466\n",
            "Epoch 26/50\n",
            "363/363 [==============================] - 0s 213us/sample - loss: 66.6617 - mean_absolute_error: 5.0524 - val_loss: 34.8088 - val_mean_absolute_error: 4.2888\n",
            "Epoch 27/50\n",
            "363/363 [==============================] - 0s 231us/sample - loss: 72.2198 - mean_absolute_error: 5.3599 - val_loss: 35.2719 - val_mean_absolute_error: 4.3483\n",
            "Epoch 28/50\n",
            "363/363 [==============================] - 0s 238us/sample - loss: 64.6545 - mean_absolute_error: 4.9750 - val_loss: 33.7581 - val_mean_absolute_error: 4.2301\n",
            "Epoch 29/50\n",
            "363/363 [==============================] - 0s 259us/sample - loss: 64.6476 - mean_absolute_error: 5.0653 - val_loss: 35.6660 - val_mean_absolute_error: 4.3704\n",
            "Epoch 30/50\n",
            "363/363 [==============================] - 0s 227us/sample - loss: 78.3758 - mean_absolute_error: 5.6000 - val_loss: 31.4233 - val_mean_absolute_error: 3.9699\n",
            "Epoch 31/50\n",
            "363/363 [==============================] - 0s 229us/sample - loss: 79.2548 - mean_absolute_error: 5.6170 - val_loss: 36.6461 - val_mean_absolute_error: 4.4696\n",
            "Epoch 32/50\n",
            "363/363 [==============================] - 0s 204us/sample - loss: 66.4926 - mean_absolute_error: 5.2079 - val_loss: 33.3784 - val_mean_absolute_error: 4.2140\n",
            "Epoch 33/50\n",
            "363/363 [==============================] - 0s 201us/sample - loss: 62.7203 - mean_absolute_error: 4.9250 - val_loss: 42.9077 - val_mean_absolute_error: 5.0099\n",
            "Epoch 34/50\n",
            "363/363 [==============================] - 0s 209us/sample - loss: 79.5522 - mean_absolute_error: 5.4790 - val_loss: 34.7176 - val_mean_absolute_error: 4.2686\n",
            "Epoch 35/50\n",
            "363/363 [==============================] - 0s 225us/sample - loss: 88.4119 - mean_absolute_error: 5.6889 - val_loss: 32.4207 - val_mean_absolute_error: 4.0690\n",
            "Epoch 36/50\n",
            "363/363 [==============================] - 0s 259us/sample - loss: 61.9607 - mean_absolute_error: 4.9877 - val_loss: 33.6868 - val_mean_absolute_error: 4.1993\n",
            "Epoch 37/50\n",
            "363/363 [==============================] - 0s 209us/sample - loss: 79.2635 - mean_absolute_error: 5.2415 - val_loss: 31.9775 - val_mean_absolute_error: 4.0461\n",
            "Epoch 38/50\n",
            "363/363 [==============================] - 0s 225us/sample - loss: 73.9384 - mean_absolute_error: 5.1047 - val_loss: 39.8565 - val_mean_absolute_error: 4.7384\n",
            "Epoch 39/50\n",
            "363/363 [==============================] - 0s 216us/sample - loss: 77.4468 - mean_absolute_error: 5.1800 - val_loss: 31.6745 - val_mean_absolute_error: 3.9611\n",
            "Epoch 40/50\n",
            "363/363 [==============================] - 0s 245us/sample - loss: 84.6623 - mean_absolute_error: 5.9265 - val_loss: 31.3303 - val_mean_absolute_error: 3.9785\n",
            "Epoch 41/50\n",
            "363/363 [==============================] - 0s 250us/sample - loss: 70.5048 - mean_absolute_error: 5.2340 - val_loss: 31.0283 - val_mean_absolute_error: 3.9476\n",
            "Epoch 42/50\n",
            "363/363 [==============================] - 0s 249us/sample - loss: 86.4837 - mean_absolute_error: 5.7709 - val_loss: 38.7980 - val_mean_absolute_error: 4.6531\n",
            "Epoch 43/50\n",
            "363/363 [==============================] - 0s 237us/sample - loss: 68.0086 - mean_absolute_error: 5.1694 - val_loss: 33.9197 - val_mean_absolute_error: 4.2433\n",
            "Epoch 44/50\n",
            "363/363 [==============================] - 0s 228us/sample - loss: 79.4210 - mean_absolute_error: 5.4935 - val_loss: 31.0699 - val_mean_absolute_error: 3.9820\n",
            "Epoch 45/50\n",
            "363/363 [==============================] - 0s 238us/sample - loss: 74.1860 - mean_absolute_error: 5.1640 - val_loss: 34.5507 - val_mean_absolute_error: 4.3295\n",
            "Epoch 46/50\n",
            "363/363 [==============================] - 0s 248us/sample - loss: 84.3286 - mean_absolute_error: 5.4390 - val_loss: 35.3644 - val_mean_absolute_error: 4.3578\n",
            "Epoch 47/50\n",
            "363/363 [==============================] - 0s 245us/sample - loss: 67.5497 - mean_absolute_error: 4.8168 - val_loss: 32.3635 - val_mean_absolute_error: 4.0938\n",
            "Epoch 48/50\n",
            "363/363 [==============================] - 0s 226us/sample - loss: 63.7555 - mean_absolute_error: 4.9814 - val_loss: 28.9335 - val_mean_absolute_error: 3.7215\n",
            "Epoch 49/50\n",
            "363/363 [==============================] - 0s 219us/sample - loss: 53.7297 - mean_absolute_error: 4.4208 - val_loss: 29.4734 - val_mean_absolute_error: 3.7884\n",
            "Epoch 50/50\n",
            "363/363 [==============================] - 0s 208us/sample - loss: 69.2422 - mean_absolute_error: 5.2586 - val_loss: 33.0280 - val_mean_absolute_error: 4.1613\n"
          ],
          "name": "stdout"
        },
        {
          "output_type": "execute_result",
          "data": {
            "text/plain": [
              "<tensorflow.python.keras.callbacks.History at 0x7fee507bce48>"
            ]
          },
          "metadata": {
            "tags": []
          },
          "execution_count": 41
        }
      ]
    },
    {
      "cell_type": "code",
      "metadata": {
        "id": "Qcx6nbeWUvdq",
        "colab_type": "code",
        "colab": {
          "base_uri": "https://localhost:8080/",
          "height": 53
        },
        "outputId": "37f19482-2bb9-458b-e68d-f4aeb619ac21"
      },
      "source": [
        "test_loss,test_accuracy=model_DNN.evaluate(x=X_test_std,y=y_test)"
      ],
      "execution_count": 42,
      "outputs": [
        {
          "output_type": "stream",
          "text": [
            "102/102 [==============================] - 0s 155us/sample - loss: 22.1907 - mean_absolute_error: 3.3158\n"
          ],
          "name": "stdout"
        }
      ]
    },
    {
      "cell_type": "code",
      "metadata": {
        "id": "8ws1ukFNU-Ed",
        "colab_type": "code",
        "colab": {
          "base_uri": "https://localhost:8080/",
          "height": 33
        },
        "outputId": "b314673d-13eb-4dbd-a1f0-dd2652788bbb"
      },
      "source": [
        "print(test_loss,test_accuracy)"
      ],
      "execution_count": 43,
      "outputs": [
        {
          "output_type": "stream",
          "text": [
            "22.19067652085248 3.3158326\n"
          ],
          "name": "stdout"
        }
      ]
    },
    {
      "cell_type": "code",
      "metadata": {
        "id": "Yk14lvMBVDJq",
        "colab_type": "code",
        "colab": {}
      },
      "source": [
        ""
      ],
      "execution_count": 0,
      "outputs": []
    }
  ]
}