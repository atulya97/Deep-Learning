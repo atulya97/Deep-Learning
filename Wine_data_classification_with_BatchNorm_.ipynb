{
  "nbformat": 4,
  "nbformat_minor": 0,
  "metadata": {
    "colab": {
      "name": "Wine data classification with BatchNorm .ipynb",
      "provenance": [],
      "authorship_tag": "ABX9TyNxZ6oAvcqE/UpTaO7rw32l",
      "include_colab_link": true
    },
    "kernelspec": {
      "name": "python3",
      "display_name": "Python 3"
    }
  },
  "cells": [
    {
      "cell_type": "markdown",
      "metadata": {
        "id": "view-in-github",
        "colab_type": "text"
      },
      "source": [
        "<a href=\"https://colab.research.google.com/github/atulya97/Deep-Learning/blob/master/Wine_data_classification_with_BatchNorm_.ipynb\" target=\"_parent\"><img src=\"https://colab.research.google.com/assets/colab-badge.svg\" alt=\"Open In Colab\"/></a>"
      ]
    },
    {
      "cell_type": "code",
      "metadata": {
        "id": "CK8p86tgTSxF",
        "colab_type": "code",
        "colab": {}
      },
      "source": [
        "import numpy as np \n",
        "import pandas as pd \n",
        "import matplotlib.pyplot as plt"
      ],
      "execution_count": 0,
      "outputs": []
    },
    {
      "cell_type": "code",
      "metadata": {
        "id": "AGNumcRlTpSv",
        "colab_type": "code",
        "colab": {}
      },
      "source": [
        "from sklearn.datasets import load_wine\n"
      ],
      "execution_count": 0,
      "outputs": []
    },
    {
      "cell_type": "code",
      "metadata": {
        "id": "KDf26SDUTr_I",
        "colab_type": "code",
        "colab": {
          "base_uri": "https://localhost:8080/",
          "height": 79
        },
        "outputId": "b6e50912-1e2e-47a7-bbf1-f5f00f2d4118"
      },
      "source": [
        "import tensorflow as tf \n",
        "from tensorflow import keras\n"
      ],
      "execution_count": 3,
      "outputs": [
        {
          "output_type": "display_data",
          "data": {
            "text/html": [
              "<p style=\"color: red;\">\n",
              "The default version of TensorFlow in Colab will soon switch to TensorFlow 2.x.<br>\n",
              "We recommend you <a href=\"https://www.tensorflow.org/guide/migrate\" target=\"_blank\">upgrade</a> now \n",
              "or ensure your notebook will continue to use TensorFlow 1.x via the <code>%tensorflow_version 1.x</code> magic:\n",
              "<a href=\"https://colab.research.google.com/notebooks/tensorflow_version.ipynb\" target=\"_blank\">more info</a>.</p>\n"
            ],
            "text/plain": [
              "<IPython.core.display.HTML object>"
            ]
          },
          "metadata": {
            "tags": []
          }
        }
      ]
    },
    {
      "cell_type": "code",
      "metadata": {
        "id": "4PgVtVEyT09f",
        "colab_type": "code",
        "colab": {}
      },
      "source": [
        "tf.set_random_seed(42)\n",
        "np.random.seed(42)"
      ],
      "execution_count": 0,
      "outputs": []
    },
    {
      "cell_type": "code",
      "metadata": {
        "id": "TGbmfT73UKHL",
        "colab_type": "code",
        "colab": {}
      },
      "source": [
        "wineData=load_wine()\n",
        "X=wineData.data\n",
        "y=wineData.target"
      ],
      "execution_count": 0,
      "outputs": []
    },
    {
      "cell_type": "code",
      "metadata": {
        "id": "pPJdUDbZUmI4",
        "colab_type": "code",
        "colab": {}
      },
      "source": [
        "from sklearn.model_selection import train_test_split\n",
        "\n",
        "X_train, X_test, y_train, y_test = train_test_split(X, y, test_size=0.2,stratify=y, random_state=42)\n"
      ],
      "execution_count": 0,
      "outputs": []
    },
    {
      "cell_type": "code",
      "metadata": {
        "id": "ccfxDjrJUuiC",
        "colab_type": "code",
        "colab": {}
      },
      "source": [
        "from sklearn.preprocessing import StandardScaler \n",
        "sc = StandardScaler()\n"
      ],
      "execution_count": 0,
      "outputs": []
    },
    {
      "cell_type": "code",
      "metadata": {
        "id": "6PFHvFlIUy-e",
        "colab_type": "code",
        "colab": {}
      },
      "source": [
        "sc.fit(X_train)\n",
        "X_train_std = sc.transform(X_train) \n",
        "X_test_std = sc.transform(X_test)\n"
      ],
      "execution_count": 0,
      "outputs": []
    },
    {
      "cell_type": "code",
      "metadata": {
        "id": "Jz6mJEk4U5Gm",
        "colab_type": "code",
        "colab": {}
      },
      "source": [
        "model_DNN = keras.models.Sequential()\n"
      ],
      "execution_count": 0,
      "outputs": []
    },
    {
      "cell_type": "code",
      "metadata": {
        "id": "lcxcJMu4VBg6",
        "colab_type": "code",
        "colab": {
          "base_uri": "https://localhost:8080/",
          "height": 87
        },
        "outputId": "2f0d5ba7-aca5-45f3-dc2f-735a66d872fc"
      },
      "source": [
        "model_DNN.add(keras.layers.Dense(units=15, activation='relu', input_shape= X_train.shape[1:]))\n",
        "model_DNN.add(keras.layers.BatchNormalization())\n",
        "model_DNN.add(keras.layers.Dropout(0.1))\n",
        "model_DNN.add(keras.layers.Dense(units=12, activation='relu'))\n",
        "model_DNN.add(keras.layers.Dropout(0.1)) \n",
        "model_DNN.add(keras.layers.Dense(units=8, activation='relu')) \n",
        "model_DNN.add(keras.layers.Dense(units=4, activation='relu'))\n",
        "\n",
        "model_DNN.add(keras.layers.Dense(units=3, activation='softmax'))"
      ],
      "execution_count": 10,
      "outputs": [
        {
          "output_type": "stream",
          "text": [
            "WARNING:tensorflow:From /usr/local/lib/python3.6/dist-packages/tensorflow_core/python/ops/resource_variable_ops.py:1630: calling BaseResourceVariable.__init__ (from tensorflow.python.ops.resource_variable_ops) with constraint is deprecated and will be removed in a future version.\n",
            "Instructions for updating:\n",
            "If using Keras pass *_constraint arguments to layers.\n"
          ],
          "name": "stdout"
        }
      ]
    },
    {
      "cell_type": "code",
      "metadata": {
        "id": "vMqxnXl8VjcM",
        "colab_type": "code",
        "colab": {
          "base_uri": "https://localhost:8080/",
          "height": 418
        },
        "outputId": "b0a404b9-f2c8-4d9a-da78-8d00930027b3"
      },
      "source": [
        "model_DNN.summary()\n"
      ],
      "execution_count": 11,
      "outputs": [
        {
          "output_type": "stream",
          "text": [
            "Model: \"sequential\"\n",
            "_________________________________________________________________\n",
            "Layer (type)                 Output Shape              Param #   \n",
            "=================================================================\n",
            "dense (Dense)                (None, 15)                210       \n",
            "_________________________________________________________________\n",
            "batch_normalization (BatchNo (None, 15)                60        \n",
            "_________________________________________________________________\n",
            "dropout (Dropout)            (None, 15)                0         \n",
            "_________________________________________________________________\n",
            "dense_1 (Dense)              (None, 12)                192       \n",
            "_________________________________________________________________\n",
            "dropout_1 (Dropout)          (None, 12)                0         \n",
            "_________________________________________________________________\n",
            "dense_2 (Dense)              (None, 8)                 104       \n",
            "_________________________________________________________________\n",
            "dense_3 (Dense)              (None, 4)                 36        \n",
            "_________________________________________________________________\n",
            "dense_4 (Dense)              (None, 3)                 15        \n",
            "=================================================================\n",
            "Total params: 617\n",
            "Trainable params: 587\n",
            "Non-trainable params: 30\n",
            "_________________________________________________________________\n"
          ],
          "name": "stdout"
        }
      ]
    },
    {
      "cell_type": "code",
      "metadata": {
        "id": "J-3MuWEaVmTT",
        "colab_type": "code",
        "colab": {}
      },
      "source": [
        "model_DNN.compile(loss='sparse_categorical_crossentropy',optimizer='adam', metrics=['accuracy'])\n"
      ],
      "execution_count": 0,
      "outputs": []
    },
    {
      "cell_type": "code",
      "metadata": {
        "id": "yHynD8AiVsnd",
        "colab_type": "code",
        "colab": {
          "base_uri": "https://localhost:8080/",
          "height": 1000
        },
        "outputId": "6bd8a548-cbcd-450e-e24d-591935339307"
      },
      "source": [
        "model_DNN.fit(x=X_train_std, y=y_train, validation_split=0.1, epochs=50, batch_size=16)\n"
      ],
      "execution_count": 13,
      "outputs": [
        {
          "output_type": "stream",
          "text": [
            "Train on 127 samples, validate on 15 samples\n",
            "Epoch 1/50\n",
            "127/127 [==============================] - 0s 3ms/sample - loss: 1.3792 - acc: 0.3622 - val_loss: 1.2139 - val_acc: 0.1333\n",
            "Epoch 2/50\n",
            "127/127 [==============================] - 0s 187us/sample - loss: 1.2979 - acc: 0.3386 - val_loss: 1.1714 - val_acc: 0.0667\n",
            "Epoch 3/50\n",
            "127/127 [==============================] - 0s 165us/sample - loss: 1.1703 - acc: 0.3780 - val_loss: 1.1427 - val_acc: 0.0667\n",
            "Epoch 4/50\n",
            "127/127 [==============================] - 0s 163us/sample - loss: 1.1757 - acc: 0.3780 - val_loss: 1.1200 - val_acc: 0.0667\n",
            "Epoch 5/50\n",
            "127/127 [==============================] - 0s 160us/sample - loss: 1.0966 - acc: 0.4016 - val_loss: 1.1004 - val_acc: 0.3333\n",
            "Epoch 6/50\n",
            "127/127 [==============================] - 0s 156us/sample - loss: 1.0803 - acc: 0.4094 - val_loss: 1.0805 - val_acc: 0.4000\n",
            "Epoch 7/50\n",
            "127/127 [==============================] - 0s 213us/sample - loss: 1.0651 - acc: 0.4488 - val_loss: 1.0601 - val_acc: 0.5333\n",
            "Epoch 8/50\n",
            "127/127 [==============================] - 0s 159us/sample - loss: 1.0113 - acc: 0.4567 - val_loss: 1.0411 - val_acc: 0.5333\n",
            "Epoch 9/50\n",
            "127/127 [==============================] - 0s 180us/sample - loss: 0.9746 - acc: 0.4803 - val_loss: 1.0232 - val_acc: 0.5333\n",
            "Epoch 10/50\n",
            "127/127 [==============================] - 0s 176us/sample - loss: 0.9485 - acc: 0.5118 - val_loss: 1.0059 - val_acc: 0.6000\n",
            "Epoch 11/50\n",
            "127/127 [==============================] - 0s 165us/sample - loss: 0.9394 - acc: 0.5276 - val_loss: 0.9889 - val_acc: 0.5333\n",
            "Epoch 12/50\n",
            "127/127 [==============================] - 0s 149us/sample - loss: 0.8868 - acc: 0.6299 - val_loss: 0.9745 - val_acc: 0.5333\n",
            "Epoch 13/50\n",
            "127/127 [==============================] - 0s 159us/sample - loss: 0.8819 - acc: 0.5512 - val_loss: 0.9605 - val_acc: 0.5333\n",
            "Epoch 14/50\n",
            "127/127 [==============================] - 0s 175us/sample - loss: 0.8236 - acc: 0.6693 - val_loss: 0.9465 - val_acc: 0.5333\n",
            "Epoch 15/50\n",
            "127/127 [==============================] - 0s 154us/sample - loss: 0.8243 - acc: 0.6614 - val_loss: 0.9313 - val_acc: 0.5333\n",
            "Epoch 16/50\n",
            "127/127 [==============================] - 0s 164us/sample - loss: 0.8138 - acc: 0.6142 - val_loss: 0.9165 - val_acc: 0.5333\n",
            "Epoch 17/50\n",
            "127/127 [==============================] - 0s 176us/sample - loss: 0.7743 - acc: 0.6850 - val_loss: 0.9007 - val_acc: 0.5333\n",
            "Epoch 18/50\n",
            "127/127 [==============================] - 0s 154us/sample - loss: 0.7481 - acc: 0.7008 - val_loss: 0.8827 - val_acc: 0.5333\n",
            "Epoch 19/50\n",
            "127/127 [==============================] - 0s 155us/sample - loss: 0.7634 - acc: 0.6693 - val_loss: 0.8667 - val_acc: 0.5333\n",
            "Epoch 20/50\n",
            "127/127 [==============================] - 0s 174us/sample - loss: 0.6934 - acc: 0.7402 - val_loss: 0.8504 - val_acc: 0.5333\n",
            "Epoch 21/50\n",
            "127/127 [==============================] - 0s 166us/sample - loss: 0.6806 - acc: 0.7323 - val_loss: 0.8328 - val_acc: 0.5333\n",
            "Epoch 22/50\n",
            "127/127 [==============================] - 0s 162us/sample - loss: 0.6529 - acc: 0.7795 - val_loss: 0.8131 - val_acc: 0.5333\n",
            "Epoch 23/50\n",
            "127/127 [==============================] - 0s 162us/sample - loss: 0.6356 - acc: 0.7795 - val_loss: 0.7891 - val_acc: 0.5333\n",
            "Epoch 24/50\n",
            "127/127 [==============================] - 0s 170us/sample - loss: 0.6233 - acc: 0.7638 - val_loss: 0.7632 - val_acc: 0.5333\n",
            "Epoch 25/50\n",
            "127/127 [==============================] - 0s 167us/sample - loss: 0.5722 - acc: 0.8583 - val_loss: 0.7335 - val_acc: 0.6667\n",
            "Epoch 26/50\n",
            "127/127 [==============================] - 0s 161us/sample - loss: 0.5599 - acc: 0.8268 - val_loss: 0.6998 - val_acc: 0.7333\n",
            "Epoch 27/50\n",
            "127/127 [==============================] - 0s 168us/sample - loss: 0.4994 - acc: 0.8661 - val_loss: 0.6653 - val_acc: 0.7333\n",
            "Epoch 28/50\n",
            "127/127 [==============================] - 0s 171us/sample - loss: 0.5369 - acc: 0.8504 - val_loss: 0.6280 - val_acc: 0.8000\n",
            "Epoch 29/50\n",
            "127/127 [==============================] - 0s 162us/sample - loss: 0.4968 - acc: 0.8740 - val_loss: 0.5929 - val_acc: 0.8000\n",
            "Epoch 30/50\n",
            "127/127 [==============================] - 0s 178us/sample - loss: 0.4438 - acc: 0.8819 - val_loss: 0.5543 - val_acc: 0.8000\n",
            "Epoch 31/50\n",
            "127/127 [==============================] - 0s 162us/sample - loss: 0.4388 - acc: 0.8898 - val_loss: 0.5163 - val_acc: 0.8667\n",
            "Epoch 32/50\n",
            "127/127 [==============================] - 0s 157us/sample - loss: 0.3877 - acc: 0.9291 - val_loss: 0.4728 - val_acc: 0.9333\n",
            "Epoch 33/50\n",
            "127/127 [==============================] - 0s 161us/sample - loss: 0.4095 - acc: 0.8661 - val_loss: 0.4283 - val_acc: 0.9333\n",
            "Epoch 34/50\n",
            "127/127 [==============================] - 0s 194us/sample - loss: 0.4258 - acc: 0.9213 - val_loss: 0.3952 - val_acc: 0.9333\n",
            "Epoch 35/50\n",
            "127/127 [==============================] - 0s 166us/sample - loss: 0.3503 - acc: 0.9291 - val_loss: 0.3551 - val_acc: 0.9333\n",
            "Epoch 36/50\n",
            "127/127 [==============================] - 0s 178us/sample - loss: 0.3797 - acc: 0.9213 - val_loss: 0.3204 - val_acc: 1.0000\n",
            "Epoch 37/50\n",
            "127/127 [==============================] - 0s 164us/sample - loss: 0.3342 - acc: 0.9213 - val_loss: 0.2873 - val_acc: 1.0000\n",
            "Epoch 38/50\n",
            "127/127 [==============================] - 0s 178us/sample - loss: 0.2882 - acc: 0.9606 - val_loss: 0.2609 - val_acc: 1.0000\n",
            "Epoch 39/50\n",
            "127/127 [==============================] - 0s 169us/sample - loss: 0.2489 - acc: 0.9606 - val_loss: 0.2339 - val_acc: 1.0000\n",
            "Epoch 40/50\n",
            "127/127 [==============================] - 0s 176us/sample - loss: 0.2734 - acc: 0.9606 - val_loss: 0.2082 - val_acc: 1.0000\n",
            "Epoch 41/50\n",
            "127/127 [==============================] - 0s 197us/sample - loss: 0.2729 - acc: 0.9528 - val_loss: 0.1839 - val_acc: 1.0000\n",
            "Epoch 42/50\n",
            "127/127 [==============================] - 0s 193us/sample - loss: 0.3102 - acc: 0.9213 - val_loss: 0.1677 - val_acc: 1.0000\n",
            "Epoch 43/50\n",
            "127/127 [==============================] - 0s 259us/sample - loss: 0.2906 - acc: 0.9213 - val_loss: 0.1531 - val_acc: 1.0000\n",
            "Epoch 44/50\n",
            "127/127 [==============================] - 0s 157us/sample - loss: 0.2105 - acc: 0.9606 - val_loss: 0.1398 - val_acc: 1.0000\n",
            "Epoch 45/50\n",
            "127/127 [==============================] - 0s 192us/sample - loss: 0.2220 - acc: 0.9449 - val_loss: 0.1277 - val_acc: 1.0000\n",
            "Epoch 46/50\n",
            "127/127 [==============================] - 0s 154us/sample - loss: 0.1815 - acc: 0.9843 - val_loss: 0.1192 - val_acc: 1.0000\n",
            "Epoch 47/50\n",
            "127/127 [==============================] - 0s 152us/sample - loss: 0.1901 - acc: 0.9370 - val_loss: 0.1108 - val_acc: 1.0000\n",
            "Epoch 48/50\n",
            "127/127 [==============================] - 0s 171us/sample - loss: 0.1574 - acc: 0.9843 - val_loss: 0.1021 - val_acc: 1.0000\n",
            "Epoch 49/50\n",
            "127/127 [==============================] - 0s 151us/sample - loss: 0.1925 - acc: 0.9449 - val_loss: 0.0937 - val_acc: 1.0000\n",
            "Epoch 50/50\n",
            "127/127 [==============================] - 0s 167us/sample - loss: 0.1730 - acc: 0.9606 - val_loss: 0.0871 - val_acc: 1.0000\n"
          ],
          "name": "stdout"
        },
        {
          "output_type": "execute_result",
          "data": {
            "text/plain": [
              "<tensorflow.python.keras.callbacks.History at 0x7ff31a9beb00>"
            ]
          },
          "metadata": {
            "tags": []
          },
          "execution_count": 13
        }
      ]
    },
    {
      "cell_type": "code",
      "metadata": {
        "id": "LYL607mNVwMf",
        "colab_type": "code",
        "colab": {
          "base_uri": "https://localhost:8080/",
          "height": 70
        },
        "outputId": "ee90967a-b88e-481c-a333-bac33a973334"
      },
      "source": [
        "test_loss, test_accuracy = model_DNN.evaluate(x=X_test_std, y=y_test)\n",
        "print(test_loss, test_accuracy)"
      ],
      "execution_count": 14,
      "outputs": [
        {
          "output_type": "stream",
          "text": [
            "36/36 [==============================] - 0s 243us/sample - loss: 0.2339 - acc: 0.9167\n",
            "0.2338982696334521 0.9166667\n"
          ],
          "name": "stdout"
        }
      ]
    },
    {
      "cell_type": "code",
      "metadata": {
        "id": "UWkPKsizV1L1",
        "colab_type": "code",
        "colab": {}
      },
      "source": [
        ""
      ],
      "execution_count": 0,
      "outputs": []
    }
  ]
}