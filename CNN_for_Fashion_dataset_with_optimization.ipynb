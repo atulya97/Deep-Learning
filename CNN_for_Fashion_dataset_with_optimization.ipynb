{
  "nbformat": 4,
  "nbformat_minor": 0,
  "metadata": {
    "colab": {
      "name": "CNN for Fashion dataset with optimization.ipynb",
      "provenance": [],
      "authorship_tag": "ABX9TyPCexvaKd/ZQ3sn5V4G1bvH",
      "include_colab_link": true
    },
    "kernelspec": {
      "name": "python3",
      "display_name": "Python 3"
    },
    "accelerator": "TPU"
  },
  "cells": [
    {
      "cell_type": "markdown",
      "metadata": {
        "id": "view-in-github",
        "colab_type": "text"
      },
      "source": [
        "<a href=\"https://colab.research.google.com/github/atulya97/Deep-Learning/blob/master/CNN_for_Fashion_dataset_with_optimization.ipynb\" target=\"_parent\"><img src=\"https://colab.research.google.com/assets/colab-badge.svg\" alt=\"Open In Colab\"/></a>"
      ]
    },
    {
      "cell_type": "code",
      "metadata": {
        "id": "G0Tdm3J8dye2",
        "colab_type": "code",
        "colab": {}
      },
      "source": [
        "import numpy as np\n",
        "import pandas as pd\n",
        "import matplotlib.pyplot as plt\n",
        "import tensorflow as tf\n",
        "from tensorflow import keras"
      ],
      "execution_count": 0,
      "outputs": []
    },
    {
      "cell_type": "code",
      "metadata": {
        "id": "XokhANS0eDvy",
        "colab_type": "code",
        "colab": {}
      },
      "source": [
        "tf.random.set_seed(42)\n",
        "np.random.seed(42)\n"
      ],
      "execution_count": 0,
      "outputs": []
    },
    {
      "cell_type": "code",
      "metadata": {
        "id": "jHEwmGxmeKn6",
        "colab_type": "code",
        "colab": {}
      },
      "source": [
        "fashionDB=keras.datasets.fashion_mnist"
      ],
      "execution_count": 0,
      "outputs": []
    },
    {
      "cell_type": "code",
      "metadata": {
        "id": "KoI-tiR7eOx3",
        "colab_type": "code",
        "colab": {}
      },
      "source": [
        "(X_train,y_train),(X_test,y_test)=fashionDB.load_data()"
      ],
      "execution_count": 0,
      "outputs": []
    },
    {
      "cell_type": "code",
      "metadata": {
        "id": "6d1DwkJheSrY",
        "colab_type": "code",
        "colab": {}
      },
      "source": [
        "X_train = X_train.reshape((60000, 28, 28, 1))\n",
        "X_train = X_train.astype('float32')/255\n",
        "X_test = X_test.reshape((10000, 28, 28, 1))\n",
        "X_test = X_test.astype('float32')/255"
      ],
      "execution_count": 0,
      "outputs": []
    },
    {
      "cell_type": "code",
      "metadata": {
        "id": "m1EOJyfxekzT",
        "colab_type": "code",
        "colab": {}
      },
      "source": [
        "cnn=keras.models.Sequential()"
      ],
      "execution_count": 0,
      "outputs": []
    },
    {
      "cell_type": "code",
      "metadata": {
        "id": "xvHcPpPAeqna",
        "colab_type": "code",
        "colab": {}
      },
      "source": [
        "cnn.add(keras.layers.Conv2D(32, (3,3), activation=\"relu\",input_shape=X_train.shape[1:]))\n"
      ],
      "execution_count": 0,
      "outputs": []
    },
    {
      "cell_type": "code",
      "metadata": {
        "id": "BeeFOHp7ewns",
        "colab_type": "code",
        "colab": {}
      },
      "source": [
        "cnn.add(keras.layers.MaxPooling2D((2,2)))\n"
      ],
      "execution_count": 0,
      "outputs": []
    },
    {
      "cell_type": "code",
      "metadata": {
        "id": "6d3TrUMje0Og",
        "colab_type": "code",
        "colab": {}
      },
      "source": [
        "cnn.add(keras.layers.BatchNormalization())\n"
      ],
      "execution_count": 0,
      "outputs": []
    },
    {
      "cell_type": "code",
      "metadata": {
        "id": "V3N6bi3ne2fU",
        "colab_type": "code",
        "colab": {}
      },
      "source": [
        "cnn.add(keras.layers.Conv2D(64, (3,3), activation=\"relu\"))\n"
      ],
      "execution_count": 0,
      "outputs": []
    },
    {
      "cell_type": "code",
      "metadata": {
        "id": "MSz2jRmwe7zc",
        "colab_type": "code",
        "colab": {}
      },
      "source": [
        "cnn.add(keras.layers.MaxPooling2D((2,2)))\n"
      ],
      "execution_count": 0,
      "outputs": []
    },
    {
      "cell_type": "code",
      "metadata": {
        "id": "x0yny88FfAT0",
        "colab_type": "code",
        "colab": {}
      },
      "source": [
        "cnn.add(keras.layers.Conv2D(64,(3,3), activation=\"relu\"))\n"
      ],
      "execution_count": 0,
      "outputs": []
    },
    {
      "cell_type": "code",
      "metadata": {
        "id": "uXSxoLoQfG5I",
        "colab_type": "code",
        "colab": {}
      },
      "source": [
        "cnn.add(keras.layers.Flatten())\n"
      ],
      "execution_count": 0,
      "outputs": []
    },
    {
      "cell_type": "code",
      "metadata": {
        "id": "jObXMPP0fgL5",
        "colab_type": "code",
        "colab": {}
      },
      "source": [
        "cnn.add(keras.layers.Dense(64,activation=\"relu\"))"
      ],
      "execution_count": 0,
      "outputs": []
    },
    {
      "cell_type": "code",
      "metadata": {
        "id": "KeATYvBPfqdt",
        "colab_type": "code",
        "colab": {}
      },
      "source": [
        "cnn.add(keras.layers.BatchNormalization())"
      ],
      "execution_count": 0,
      "outputs": []
    },
    {
      "cell_type": "code",
      "metadata": {
        "id": "i4hCZYVUftpm",
        "colab_type": "code",
        "colab": {}
      },
      "source": [
        "cnn.add(keras.layers.Dropout(0.1))\n"
      ],
      "execution_count": 0,
      "outputs": []
    },
    {
      "cell_type": "code",
      "metadata": {
        "id": "12R3gKLufxgT",
        "colab_type": "code",
        "colab": {}
      },
      "source": [
        "cnn.add(keras.layers.Dense(32,activation=\"relu\"))"
      ],
      "execution_count": 0,
      "outputs": []
    },
    {
      "cell_type": "code",
      "metadata": {
        "id": "I3t80BPpf4U3",
        "colab_type": "code",
        "colab": {}
      },
      "source": [
        "cnn.add(keras.layers.Dense(10, activation=\"softmax\"))\n"
      ],
      "execution_count": 0,
      "outputs": []
    },
    {
      "cell_type": "code",
      "metadata": {
        "id": "JclfxhSof7mj",
        "colab_type": "code",
        "colab": {
          "base_uri": "https://localhost:8080/",
          "height": 586
        },
        "outputId": "502049d3-6e44-425d-fd4d-02be6acb00b9"
      },
      "source": [
        "cnn.summary()"
      ],
      "execution_count": 19,
      "outputs": [
        {
          "output_type": "stream",
          "text": [
            "Model: \"sequential\"\n",
            "_________________________________________________________________\n",
            "Layer (type)                 Output Shape              Param #   \n",
            "=================================================================\n",
            "conv2d (Conv2D)              (None, 26, 26, 32)        320       \n",
            "_________________________________________________________________\n",
            "max_pooling2d (MaxPooling2D) (None, 13, 13, 32)        0         \n",
            "_________________________________________________________________\n",
            "batch_normalization (BatchNo (None, 13, 13, 32)        128       \n",
            "_________________________________________________________________\n",
            "conv2d_1 (Conv2D)            (None, 11, 11, 64)        18496     \n",
            "_________________________________________________________________\n",
            "max_pooling2d_1 (MaxPooling2 (None, 5, 5, 64)          0         \n",
            "_________________________________________________________________\n",
            "conv2d_2 (Conv2D)            (None, 3, 3, 64)          36928     \n",
            "_________________________________________________________________\n",
            "flatten (Flatten)            (None, 576)               0         \n",
            "_________________________________________________________________\n",
            "dense (Dense)                (None, 64)                36928     \n",
            "_________________________________________________________________\n",
            "batch_normalization_1 (Batch (None, 64)                256       \n",
            "_________________________________________________________________\n",
            "dropout (Dropout)            (None, 64)                0         \n",
            "_________________________________________________________________\n",
            "dense_1 (Dense)              (None, 32)                2080      \n",
            "_________________________________________________________________\n",
            "dense_2 (Dense)              (None, 10)                330       \n",
            "=================================================================\n",
            "Total params: 95,466\n",
            "Trainable params: 95,274\n",
            "Non-trainable params: 192\n",
            "_________________________________________________________________\n"
          ],
          "name": "stdout"
        }
      ]
    },
    {
      "cell_type": "code",
      "metadata": {
        "id": "s2EbhUKPgAC1",
        "colab_type": "code",
        "colab": {}
      },
      "source": [
        "cnn.compile(loss='sparse_categorical_crossentropy',optimizer='adam', metrics=['accuracy'])\n"
      ],
      "execution_count": 0,
      "outputs": []
    },
    {
      "cell_type": "code",
      "metadata": {
        "id": "3Iv-KwlUgPdG",
        "colab_type": "code",
        "colab": {
          "base_uri": "https://localhost:8080/",
          "height": 410
        },
        "outputId": "a03de1fd-38c7-42d9-d4de-a3b48ab02d61"
      },
      "source": [
        "cnn.fit(x=X_train, y=y_train, validation_split=0.3, epochs=10, batch_size=16)\n"
      ],
      "execution_count": 21,
      "outputs": [
        {
          "output_type": "stream",
          "text": [
            "Epoch 1/10\n",
            "2625/2625 [==============================] - 51s 19ms/step - loss: 0.4907 - accuracy: 0.8260 - val_loss: 0.3569 - val_accuracy: 0.8656\n",
            "Epoch 2/10\n",
            "2625/2625 [==============================] - 50s 19ms/step - loss: 0.3504 - accuracy: 0.8735 - val_loss: 0.3235 - val_accuracy: 0.8791\n",
            "Epoch 3/10\n",
            "2625/2625 [==============================] - 51s 19ms/step - loss: 0.3055 - accuracy: 0.8886 - val_loss: 0.3011 - val_accuracy: 0.8923\n",
            "Epoch 4/10\n",
            "2625/2625 [==============================] - 50s 19ms/step - loss: 0.2770 - accuracy: 0.8995 - val_loss: 0.2825 - val_accuracy: 0.8974\n",
            "Epoch 5/10\n",
            "2625/2625 [==============================] - 52s 20ms/step - loss: 0.2527 - accuracy: 0.9064 - val_loss: 0.3172 - val_accuracy: 0.8883\n",
            "Epoch 6/10\n",
            "2625/2625 [==============================] - 52s 20ms/step - loss: 0.2371 - accuracy: 0.9134 - val_loss: 0.2559 - val_accuracy: 0.9091\n",
            "Epoch 7/10\n",
            "2625/2625 [==============================] - 52s 20ms/step - loss: 0.2151 - accuracy: 0.9212 - val_loss: 0.2655 - val_accuracy: 0.9071\n",
            "Epoch 8/10\n",
            "2625/2625 [==============================] - 51s 19ms/step - loss: 0.2034 - accuracy: 0.9255 - val_loss: 0.2876 - val_accuracy: 0.9001\n",
            "Epoch 9/10\n",
            "2625/2625 [==============================] - 50s 19ms/step - loss: 0.1898 - accuracy: 0.9290 - val_loss: 0.2568 - val_accuracy: 0.9109\n",
            "Epoch 10/10\n",
            "2625/2625 [==============================] - 50s 19ms/step - loss: 0.1764 - accuracy: 0.9359 - val_loss: 0.2831 - val_accuracy: 0.9087\n"
          ],
          "name": "stdout"
        },
        {
          "output_type": "execute_result",
          "data": {
            "text/plain": [
              "<tensorflow.python.keras.callbacks.History at 0x7f48718ba4a8>"
            ]
          },
          "metadata": {
            "tags": []
          },
          "execution_count": 21
        }
      ]
    },
    {
      "cell_type": "code",
      "metadata": {
        "id": "80tyIRHlgTbe",
        "colab_type": "code",
        "colab": {
          "base_uri": "https://localhost:8080/",
          "height": 35
        },
        "outputId": "763e9249-77c3-4225-ce74-73819f30edd6"
      },
      "source": [
        "test_loss, test_accuracy = cnn.evaluate(x=X_test, y=y_test)"
      ],
      "execution_count": 22,
      "outputs": [
        {
          "output_type": "stream",
          "text": [
            "313/313 [==============================] - 3s 10ms/step - loss: 0.2903 - accuracy: 0.9071\n"
          ],
          "name": "stdout"
        }
      ]
    },
    {
      "cell_type": "code",
      "metadata": {
        "id": "RLRl08BogiCb",
        "colab_type": "code",
        "colab": {
          "base_uri": "https://localhost:8080/",
          "height": 35
        },
        "outputId": "762faeec-63aa-4c24-aeea-d872860629a7"
      },
      "source": [
        "print(test_loss, test_accuracy) "
      ],
      "execution_count": 23,
      "outputs": [
        {
          "output_type": "stream",
          "text": [
            "0.29027774930000305 0.9071000218391418\n"
          ],
          "name": "stdout"
        }
      ]
    },
    {
      "cell_type": "code",
      "metadata": {
        "id": "PqRdiuq2glJk",
        "colab_type": "code",
        "colab": {}
      },
      "source": [
        ""
      ],
      "execution_count": 0,
      "outputs": []
    }
  ]
}