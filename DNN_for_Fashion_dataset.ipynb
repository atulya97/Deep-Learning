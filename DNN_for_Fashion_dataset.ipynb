{
  "nbformat": 4,
  "nbformat_minor": 0,
  "metadata": {
    "colab": {
      "name": "DNN for Fashion dataset.ipynb",
      "provenance": [],
      "authorship_tag": "ABX9TyOo4XtkW1wJ3zLoez1zxsUU",
      "include_colab_link": true
    },
    "kernelspec": {
      "name": "python3",
      "display_name": "Python 3"
    }
  },
  "cells": [
    {
      "cell_type": "markdown",
      "metadata": {
        "id": "view-in-github",
        "colab_type": "text"
      },
      "source": [
        "<a href=\"https://colab.research.google.com/github/atulya97/Deep-Learning/blob/master/DNN_for_Fashion_dataset.ipynb\" target=\"_parent\"><img src=\"https://colab.research.google.com/assets/colab-badge.svg\" alt=\"Open In Colab\"/></a>"
      ]
    },
    {
      "cell_type": "code",
      "metadata": {
        "id": "X3ue-PjrTbch",
        "colab_type": "code",
        "colab": {}
      },
      "source": [
        "import numpy as np \n",
        "import pandas as pd \n",
        "import matplotlib.pyplot as plt\n",
        "import tensorflow as tf\n",
        "from tensorflow import keras "
      ],
      "execution_count": 0,
      "outputs": []
    },
    {
      "cell_type": "code",
      "metadata": {
        "id": "GDxFs4_NUl17",
        "colab_type": "code",
        "colab": {}
      },
      "source": [
        "tf.random.set_seed(42) \n",
        "np.random.seed(42)\n"
      ],
      "execution_count": 0,
      "outputs": []
    },
    {
      "cell_type": "code",
      "metadata": {
        "id": "3rjHNc7AUpPZ",
        "colab_type": "code",
        "colab": {}
      },
      "source": [
        "fashionDB = keras.datasets.fashion_mnist\n"
      ],
      "execution_count": 0,
      "outputs": []
    },
    {
      "cell_type": "code",
      "metadata": {
        "id": "kAIQ5gHDU0dm",
        "colab_type": "code",
        "outputId": "6c2f531b-3672-4b10-8e75-033daa27d6ab",
        "colab": {
          "base_uri": "https://localhost:8080/",
          "height": 173
        }
      },
      "source": [
        "(X_train, y_train),(X_test, y_test) = fashionDB.load_data()\n"
      ],
      "execution_count": 0,
      "outputs": [
        {
          "output_type": "stream",
          "text": [
            "Downloading data from https://storage.googleapis.com/tensorflow/tf-keras-datasets/train-labels-idx1-ubyte.gz\n",
            "32768/29515 [=================================] - 0s 0us/step\n",
            "Downloading data from https://storage.googleapis.com/tensorflow/tf-keras-datasets/train-images-idx3-ubyte.gz\n",
            "26427392/26421880 [==============================] - 0s 0us/step\n",
            "Downloading data from https://storage.googleapis.com/tensorflow/tf-keras-datasets/t10k-labels-idx1-ubyte.gz\n",
            "8192/5148 [===============================================] - 0s 0us/step\n",
            "Downloading data from https://storage.googleapis.com/tensorflow/tf-keras-datasets/t10k-images-idx3-ubyte.gz\n",
            "4423680/4422102 [==============================] - 0s 0us/step\n"
          ],
          "name": "stdout"
        }
      ]
    },
    {
      "cell_type": "code",
      "metadata": {
        "id": "kWGFFHMqU6E4",
        "colab_type": "code",
        "outputId": "960d141e-a01a-4e25-fa68-da33b59730d8",
        "colab": {
          "base_uri": "https://localhost:8080/",
          "height": 51
        }
      },
      "source": [
        "print(\"Shape of X_train: \", X_train.shape) \n",
        "print(\"Shape of X_test: \", X_test.shape) "
      ],
      "execution_count": 0,
      "outputs": [
        {
          "output_type": "stream",
          "text": [
            "Shape of X_train:  (60000, 28, 28)\n",
            "Shape of X_test:  (10000, 28, 28)\n"
          ],
          "name": "stdout"
        }
      ]
    },
    {
      "cell_type": "code",
      "metadata": {
        "id": "KodR12x0Vl1d",
        "colab_type": "code",
        "outputId": "71400acd-f2e0-4b56-bfce-8fe4cf96b76d",
        "colab": {
          "base_uri": "https://localhost:8080/",
          "height": 265
        }
      },
      "source": [
        "plt.imshow(X_train[1], cmap='binary') \n",
        "plt.show()\n"
      ],
      "execution_count": 0,
      "outputs": [
        {
          "output_type": "display_data",
          "data": {
            "image/png": "[encoded data removed]",
            "text/plain": [
              "<Figure size 432x288 with 1 Axes>"
            ]
          },
          "metadata": {
            "tags": []
          }
        }
      ]
    },
    {
      "cell_type": "code",
      "metadata": {
        "id": "CSDHsgHjVqrg",
        "colab_type": "code",
        "colab": {}
      },
      "source": [
        "X_train=X_train.reshape((60000,28*28))\n",
        "X_train=X_train.astype('float32')/255"
      ],
      "execution_count": 0,
      "outputs": []
    },
    {
      "cell_type": "code",
      "metadata": {
        "id": "ZiifMSU_XYrO",
        "colab_type": "code",
        "colab": {}
      },
      "source": [
        "X_test=X_test.reshape((10000,28*28))\n",
        "X_test=X_test.astype('float32')/255\n"
      ],
      "execution_count": 0,
      "outputs": []
    },
    {
      "cell_type": "code",
      "metadata": {
        "id": "gqt58J3JXpy0",
        "colab_type": "code",
        "outputId": "1b5f25cc-9f7e-4843-d974-7606e6e16c31",
        "colab": {
          "base_uri": "https://localhost:8080/",
          "height": 51
        }
      },
      "source": [
        "print(\"Shape of X_train: \", X_train.shape) \n",
        "print(\"Shape of X_test: \", X_test.shape) "
      ],
      "execution_count": 0,
      "outputs": [
        {
          "output_type": "stream",
          "text": [
            "Shape of X_train:  (60000, 784)\n",
            "Shape of X_test:  (10000, 784)\n"
          ],
          "name": "stdout"
        }
      ]
    },
    {
      "cell_type": "code",
      "metadata": {
        "id": "MDYyedQ8X2KQ",
        "colab_type": "code",
        "colab": {}
      },
      "source": [
        "dnn=keras.models.Sequential()\n"
      ],
      "execution_count": 0,
      "outputs": []
    },
    {
      "cell_type": "code",
      "metadata": {
        "id": "xaRRWu_1X-sj",
        "colab_type": "code",
        "colab": {}
      },
      "source": [
        "dnn.add(keras.layers.Dense(50,activation=\"relu\",input_shape=X_train.shape[1:]))"
      ],
      "execution_count": 0,
      "outputs": []
    },
    {
      "cell_type": "code",
      "metadata": {
        "id": "0KyUd9zTYwKZ",
        "colab_type": "code",
        "colab": {}
      },
      "source": [
        "dnn.add(keras.layers.Dense(40,activation='relu'))\n",
        "dnn.add(keras.layers.Dense(30,activation='relu'))\n",
        "dnn.add(keras.layers.Dense(20,activation='relu'))\n"
      ],
      "execution_count": 0,
      "outputs": []
    },
    {
      "cell_type": "code",
      "metadata": {
        "id": "FCLo0NtxZwp4",
        "colab_type": "code",
        "colab": {}
      },
      "source": [
        "dnn.add(keras.layers.Dense(10,activation=\"softmax\"))"
      ],
      "execution_count": 0,
      "outputs": []
    },
    {
      "cell_type": "code",
      "metadata": {
        "id": "CdBZHLwSZ9zx",
        "colab_type": "code",
        "outputId": "50cdab88-101a-4ec5-f51c-17f5da29bfd0",
        "colab": {
          "base_uri": "https://localhost:8080/",
          "height": 493
        }
      },
      "source": [
        "dnn.summary()"
      ],
      "execution_count": 0,
      "outputs": [
        {
          "output_type": "stream",
          "text": [
            "Model: \"sequential\"\n",
            "_________________________________________________________________\n",
            "Layer (type)                 Output Shape              Param #   \n",
            "=================================================================\n",
            "dense (Dense)                (None, 50)                39250     \n",
            "_________________________________________________________________\n",
            "dense_1 (Dense)              (None, 30)                1530      \n",
            "_________________________________________________________________\n",
            "dense_2 (Dense)              (None, 10)                310       \n",
            "_________________________________________________________________\n",
            "dense_3 (Dense)              (None, 40)                440       \n",
            "_________________________________________________________________\n",
            "dense_4 (Dense)              (None, 30)                1230      \n",
            "_________________________________________________________________\n",
            "dense_5 (Dense)              (None, 10)                310       \n",
            "_________________________________________________________________\n",
            "dense_6 (Dense)              (None, 40)                440       \n",
            "_________________________________________________________________\n",
            "dense_7 (Dense)              (None, 30)                1230      \n",
            "_________________________________________________________________\n",
            "dense_8 (Dense)              (None, 20)                620       \n",
            "_________________________________________________________________\n",
            "dense_9 (Dense)              (None, 10)                210       \n",
            "=================================================================\n",
            "Total params: 45,570\n",
            "Trainable params: 45,570\n",
            "Non-trainable params: 0\n",
            "_________________________________________________________________\n"
          ],
          "name": "stdout"
        }
      ]
    },
    {
      "cell_type": "code",
      "metadata": {
        "id": "XC6TqGwuaBGe",
        "colab_type": "code",
        "colab": {}
      },
      "source": [
        "dnn.compile(loss='sparse_categorical_crossentropy',optimizer='adam',metrics=['accuracy'])"
      ],
      "execution_count": 0,
      "outputs": []
    },
    {
      "cell_type": "code",
      "metadata": {
        "id": "9vV1JxE7aUVE",
        "colab_type": "code",
        "outputId": "dd882dc0-b328-491f-fcad-9af9183d5906",
        "colab": {
          "base_uri": "https://localhost:8080/",
          "height": 1000
        }
      },
      "source": [
        "dnn.fit(x=X_train,y=y_train,validation_split=0.3,epochs=50,batch_size=32)"
      ],
      "execution_count": 0,
      "outputs": [
        {
          "output_type": "stream",
          "text": [
            "Epoch 1/50\n",
            "1313/1313 [==============================] - 6s 4ms/step - loss: 0.3411 - accuracy: 0.9299 - val_loss: 0.5454 - val_accuracy: 0.8770\n",
            "Epoch 2/50\n",
            "1313/1313 [==============================] - 5s 4ms/step - loss: 0.1225 - accuracy: 0.9627 - val_loss: 0.5395 - val_accuracy: 0.8792\n",
            "Epoch 3/50\n",
            "1313/1313 [==============================] - 5s 4ms/step - loss: 0.1235 - accuracy: 0.9620 - val_loss: 0.5179 - val_accuracy: 0.8783\n",
            "Epoch 4/50\n",
            "1313/1313 [==============================] - 5s 3ms/step - loss: 0.1106 - accuracy: 0.9653 - val_loss: 0.5636 - val_accuracy: 0.8762\n",
            "Epoch 5/50\n",
            "1313/1313 [==============================] - 5s 3ms/step - loss: 0.1219 - accuracy: 0.9623 - val_loss: 0.4793 - val_accuracy: 0.8756\n",
            "Epoch 6/50\n",
            "1313/1313 [==============================] - 5s 3ms/step - loss: 0.1115 - accuracy: 0.9640 - val_loss: 0.5881 - val_accuracy: 0.8668\n",
            "Epoch 7/50\n",
            "1313/1313 [==============================] - 5s 3ms/step - loss: 0.1092 - accuracy: 0.9647 - val_loss: 0.5541 - val_accuracy: 0.8763\n",
            "Epoch 8/50\n",
            "1313/1313 [==============================] - 5s 3ms/step - loss: 0.0977 - accuracy: 0.9676 - val_loss: 0.5673 - val_accuracy: 0.8774\n",
            "Epoch 9/50\n",
            "1313/1313 [==============================] - 4s 3ms/step - loss: 0.0993 - accuracy: 0.9662 - val_loss: 0.5817 - val_accuracy: 0.8699\n",
            "Epoch 10/50\n",
            "1313/1313 [==============================] - 5s 4ms/step - loss: 0.1086 - accuracy: 0.9645 - val_loss: 0.5773 - val_accuracy: 0.8786\n",
            "Epoch 11/50\n",
            "1313/1313 [==============================] - 5s 3ms/step - loss: 0.1050 - accuracy: 0.9661 - val_loss: 0.5302 - val_accuracy: 0.8778\n",
            "Epoch 12/50\n",
            "1313/1313 [==============================] - 5s 4ms/step - loss: 0.1025 - accuracy: 0.9670 - val_loss: 0.6019 - val_accuracy: 0.8676\n",
            "Epoch 13/50\n",
            "1313/1313 [==============================] - 5s 4ms/step - loss: 0.1092 - accuracy: 0.9650 - val_loss: 0.5486 - val_accuracy: 0.8763\n",
            "Epoch 14/50\n",
            "1313/1313 [==============================] - 4s 3ms/step - loss: 0.1030 - accuracy: 0.9669 - val_loss: 0.5395 - val_accuracy: 0.8763\n",
            "Epoch 15/50\n",
            "1313/1313 [==============================] - 5s 4ms/step - loss: 0.1067 - accuracy: 0.9654 - val_loss: 0.5984 - val_accuracy: 0.8755\n",
            "Epoch 16/50\n",
            "1313/1313 [==============================] - 4s 3ms/step - loss: 0.1113 - accuracy: 0.9644 - val_loss: 0.5567 - val_accuracy: 0.8794\n",
            "Epoch 17/50\n",
            "1313/1313 [==============================] - 5s 4ms/step - loss: 0.0937 - accuracy: 0.9682 - val_loss: 0.5994 - val_accuracy: 0.8677\n",
            "Epoch 18/50\n",
            "1313/1313 [==============================] - 5s 4ms/step - loss: 0.1044 - accuracy: 0.9659 - val_loss: 0.5525 - val_accuracy: 0.8775\n",
            "Epoch 19/50\n",
            "1313/1313 [==============================] - 5s 4ms/step - loss: 0.1024 - accuracy: 0.9667 - val_loss: 0.4998 - val_accuracy: 0.8671\n",
            "Epoch 20/50\n",
            "1313/1313 [==============================] - 5s 4ms/step - loss: 0.1152 - accuracy: 0.9634 - val_loss: 0.5361 - val_accuracy: 0.8800\n",
            "Epoch 21/50\n",
            "1313/1313 [==============================] - 5s 4ms/step - loss: 0.0941 - accuracy: 0.9678 - val_loss: 0.5489 - val_accuracy: 0.8794\n",
            "Epoch 22/50\n",
            "1313/1313 [==============================] - 5s 4ms/step - loss: 0.1034 - accuracy: 0.9657 - val_loss: 0.5515 - val_accuracy: 0.8774\n",
            "Epoch 23/50\n",
            "1313/1313 [==============================] - 5s 4ms/step - loss: 0.1021 - accuracy: 0.9674 - val_loss: 0.5333 - val_accuracy: 0.8805\n",
            "Epoch 24/50\n",
            "1313/1313 [==============================] - 5s 3ms/step - loss: 0.0899 - accuracy: 0.9690 - val_loss: 0.5627 - val_accuracy: 0.8741\n",
            "Epoch 25/50\n",
            "1313/1313 [==============================] - 4s 3ms/step - loss: 0.1044 - accuracy: 0.9657 - val_loss: 0.5197 - val_accuracy: 0.8746\n",
            "Epoch 26/50\n",
            "1313/1313 [==============================] - 5s 4ms/step - loss: 0.1016 - accuracy: 0.9669 - val_loss: 0.6196 - val_accuracy: 0.8753\n",
            "Epoch 27/50\n",
            "1313/1313 [==============================] - 5s 4ms/step - loss: 0.0930 - accuracy: 0.9696 - val_loss: 0.5078 - val_accuracy: 0.8800\n",
            "Epoch 28/50\n",
            "1313/1313 [==============================] - 5s 4ms/step - loss: 0.1006 - accuracy: 0.9677 - val_loss: 0.5838 - val_accuracy: 0.8810\n",
            "Epoch 29/50\n",
            "1313/1313 [==============================] - 5s 4ms/step - loss: 0.0906 - accuracy: 0.9705 - val_loss: 0.5988 - val_accuracy: 0.8753\n",
            "Epoch 30/50\n",
            "1313/1313 [==============================] - 5s 3ms/step - loss: 0.0950 - accuracy: 0.9683 - val_loss: 0.5815 - val_accuracy: 0.8723\n",
            "Epoch 31/50\n",
            "1313/1313 [==============================] - 5s 4ms/step - loss: 0.1012 - accuracy: 0.9670 - val_loss: 0.5499 - val_accuracy: 0.8810\n",
            "Epoch 32/50\n",
            "1313/1313 [==============================] - 5s 4ms/step - loss: 0.0914 - accuracy: 0.9707 - val_loss: 0.5642 - val_accuracy: 0.8793\n",
            "Epoch 33/50\n",
            "1313/1313 [==============================] - 5s 4ms/step - loss: 0.0862 - accuracy: 0.9711 - val_loss: 0.5920 - val_accuracy: 0.8754\n",
            "Epoch 34/50\n",
            "1313/1313 [==============================] - 4s 3ms/step - loss: 0.0956 - accuracy: 0.9681 - val_loss: 0.5865 - val_accuracy: 0.8833\n",
            "Epoch 35/50\n",
            "1313/1313 [==============================] - 5s 4ms/step - loss: 0.0910 - accuracy: 0.9701 - val_loss: 0.5278 - val_accuracy: 0.8767\n",
            "Epoch 36/50\n",
            "1313/1313 [==============================] - 4s 3ms/step - loss: 0.0953 - accuracy: 0.9694 - val_loss: 0.5501 - val_accuracy: 0.8755\n",
            "Epoch 37/50\n",
            "1313/1313 [==============================] - 4s 3ms/step - loss: 0.0905 - accuracy: 0.9704 - val_loss: 0.5485 - val_accuracy: 0.8800\n",
            "Epoch 38/50\n",
            "1313/1313 [==============================] - 4s 3ms/step - loss: 0.0985 - accuracy: 0.9684 - val_loss: 0.5530 - val_accuracy: 0.8805\n",
            "Epoch 39/50\n",
            "1313/1313 [==============================] - 4s 3ms/step - loss: 0.0804 - accuracy: 0.9732 - val_loss: 0.5699 - val_accuracy: 0.8742\n",
            "Epoch 40/50\n",
            "1313/1313 [==============================] - 4s 3ms/step - loss: 0.0924 - accuracy: 0.9697 - val_loss: 0.6030 - val_accuracy: 0.8790\n",
            "Epoch 41/50\n",
            "1313/1313 [==============================] - 4s 3ms/step - loss: 0.0966 - accuracy: 0.9681 - val_loss: 0.6149 - val_accuracy: 0.8732\n",
            "Epoch 42/50\n",
            "1313/1313 [==============================] - 4s 3ms/step - loss: 0.0809 - accuracy: 0.9723 - val_loss: 0.6450 - val_accuracy: 0.8790\n",
            "Epoch 43/50\n",
            "1313/1313 [==============================] - 5s 4ms/step - loss: 0.0883 - accuracy: 0.9714 - val_loss: 0.6416 - val_accuracy: 0.8693\n",
            "Epoch 44/50\n",
            "1313/1313 [==============================] - 5s 4ms/step - loss: 0.0917 - accuracy: 0.9700 - val_loss: 0.6139 - val_accuracy: 0.8687\n",
            "Epoch 45/50\n",
            "1313/1313 [==============================] - 5s 4ms/step - loss: 0.0823 - accuracy: 0.9730 - val_loss: 0.5811 - val_accuracy: 0.8786\n",
            "Epoch 46/50\n",
            "1313/1313 [==============================] - 5s 3ms/step - loss: 0.0962 - accuracy: 0.9683 - val_loss: 0.5538 - val_accuracy: 0.8740\n",
            "Epoch 47/50\n",
            "1313/1313 [==============================] - 5s 4ms/step - loss: 0.0957 - accuracy: 0.9679 - val_loss: 0.5499 - val_accuracy: 0.8729\n",
            "Epoch 48/50\n",
            "1313/1313 [==============================] - 5s 4ms/step - loss: 0.0818 - accuracy: 0.9730 - val_loss: 0.6498 - val_accuracy: 0.8779\n",
            "Epoch 49/50\n",
            "1313/1313 [==============================] - 5s 4ms/step - loss: 0.0886 - accuracy: 0.9714 - val_loss: 0.5944 - val_accuracy: 0.8781\n",
            "Epoch 50/50\n",
            "1313/1313 [==============================] - 5s 4ms/step - loss: 0.0873 - accuracy: 0.9714 - val_loss: 0.5995 - val_accuracy: 0.8817\n"
          ],
          "name": "stdout"
        },
        {
          "output_type": "execute_result",
          "data": {
            "text/plain": [
              "<tensorflow.python.keras.callbacks.History at 0x7f90b8616908>"
            ]
          },
          "metadata": {
            "tags": []
          },
          "execution_count": 35
        }
      ]
    },
    {
      "cell_type": "code",
      "metadata": {
        "id": "1KDBLl0RaiSQ",
        "colab_type": "code",
        "outputId": "ace55621-bb38-4006-a8f0-42e3e1ce591a",
        "colab": {
          "base_uri": "https://localhost:8080/",
          "height": 51
        }
      },
      "source": [
        "test_loss,test_accuracy=dnn.evaluate(x=X_test,y=y_test)\n",
        "print(test_loss,test_accuracy)"
      ],
      "execution_count": 0,
      "outputs": [
        {
          "output_type": "stream",
          "text": [
            "313/313 [==============================] - 0s 1ms/step - loss: 0.6606 - accuracy: 0.8712\n",
            "0.6605785489082336 0.8712000250816345\n"
          ],
          "name": "stdout"
        }
      ]
    },
    {
      "cell_type": "code",
      "metadata": {
        "id": "mPnFwj-aazZm",
        "colab_type": "code",
        "colab": {}
      },
      "source": [
        ""
      ],
      "execution_count": 0,
      "outputs": []
    }
  ]
}