{
  "nbformat": 4,
  "nbformat_minor": 0,
  "metadata": {
    "colab": {
      "name": " DNN for Iris data multi-class classification with dropouts  .ipynb",
      "provenance": [],
      "authorship_tag": "ABX9TyPtDXn+BI5aU/G/qTWVFCNo",
      "include_colab_link": true
    },
    "kernelspec": {
      "name": "python3",
      "display_name": "Python 3"
    }
  },
  "cells": [
    {
      "cell_type": "markdown",
      "metadata": {
        "id": "view-in-github",
        "colab_type": "text"
      },
      "source": [
        "<a href=\"https://colab.research.google.com/github/atulya97/Deep-Learning/blob/master/DNN_for_Iris_data_multi_class_classification_with_dropouts_.ipynb\" target=\"_parent\"><img src=\"https://colab.research.google.com/assets/colab-badge.svg\" alt=\"Open In Colab\"/></a>"
      ]
    },
    {
      "cell_type": "code",
      "metadata": {
        "id": "aKy_2zDPcIi5",
        "colab_type": "code",
        "colab": {}
      },
      "source": [
        "import numpy as np \n",
        "import pandas as pd \n",
        "import matplotlib.pyplot as plt\n"
      ],
      "execution_count": 0,
      "outputs": []
    },
    {
      "cell_type": "code",
      "metadata": {
        "id": "zhyZ_uWEcWtM",
        "colab_type": "code",
        "colab": {}
      },
      "source": [
        "from sklearn.datasets import load_iris"
      ],
      "execution_count": 0,
      "outputs": []
    },
    {
      "cell_type": "code",
      "metadata": {
        "id": "hx4HJEf9cZtc",
        "colab_type": "code",
        "colab": {
          "base_uri": "https://localhost:8080/",
          "height": 79
        },
        "outputId": "cdb73209-293f-4b06-f1d3-d3e3698d7ff7"
      },
      "source": [
        "import tensorflow as tf \n",
        "from tensorflow import keras\n"
      ],
      "execution_count": 3,
      "outputs": [
        {
          "output_type": "display_data",
          "data": {
            "text/html": [
              "<p style=\"color: red;\">\n",
              "The default version of TensorFlow in Colab will soon switch to TensorFlow 2.x.<br>\n",
              "We recommend you <a href=\"https://www.tensorflow.org/guide/migrate\" target=\"_blank\">upgrade</a> now \n",
              "or ensure your notebook will continue to use TensorFlow 1.x via the <code>%tensorflow_version 1.x</code> magic:\n",
              "<a href=\"https://colab.research.google.com/notebooks/tensorflow_version.ipynb\" target=\"_blank\">more info</a>.</p>\n"
            ],
            "text/plain": [
              "<IPython.core.display.HTML object>"
            ]
          },
          "metadata": {
            "tags": []
          }
        }
      ]
    },
    {
      "cell_type": "code",
      "metadata": {
        "id": "BFEXKT89crTv",
        "colab_type": "code",
        "colab": {}
      },
      "source": [
        "tf.set_random_seed(42)\n"
      ],
      "execution_count": 0,
      "outputs": []
    },
    {
      "cell_type": "code",
      "metadata": {
        "id": "OIVHoN6YcxQi",
        "colab_type": "code",
        "colab": {}
      },
      "source": [
        "np.random.seed(42)\n"
      ],
      "execution_count": 0,
      "outputs": []
    },
    {
      "cell_type": "code",
      "metadata": {
        "id": "YOEEVypCc8xT",
        "colab_type": "code",
        "colab": {}
      },
      "source": [
        "irisData = load_iris()"
      ],
      "execution_count": 0,
      "outputs": []
    },
    {
      "cell_type": "code",
      "metadata": {
        "id": "vDCd2_kWc-tD",
        "colab_type": "code",
        "colab": {}
      },
      "source": [
        "X = irisData.data \n",
        "y = irisData.target\n"
      ],
      "execution_count": 0,
      "outputs": []
    },
    {
      "cell_type": "code",
      "metadata": {
        "id": "bHqZ5kkwdBuq",
        "colab_type": "code",
        "colab": {}
      },
      "source": [
        "from sklearn.model_selection import train_test_split\n",
        "X_train, X_test, y_train, y_test = train_test_split(X, y, test_size=0.2,stratify=y, random_state=42)\n"
      ],
      "execution_count": 0,
      "outputs": []
    },
    {
      "cell_type": "code",
      "metadata": {
        "id": "VOLuXkpkdJ4N",
        "colab_type": "code",
        "colab": {}
      },
      "source": [
        "from sklearn.preprocessing import StandardScaler \n",
        "sc = StandardScaler()"
      ],
      "execution_count": 0,
      "outputs": []
    },
    {
      "cell_type": "code",
      "metadata": {
        "id": "We36rC28dd1u",
        "colab_type": "code",
        "colab": {
          "base_uri": "https://localhost:8080/",
          "height": 33
        },
        "outputId": "510a8507-8989-4a6d-fa14-0fd0ca194dac"
      },
      "source": [
        "sc.fit(X_train)\n"
      ],
      "execution_count": 10,
      "outputs": [
        {
          "output_type": "execute_result",
          "data": {
            "text/plain": [
              "StandardScaler(copy=True, with_mean=True, with_std=True)"
            ]
          },
          "metadata": {
            "tags": []
          },
          "execution_count": 10
        }
      ]
    },
    {
      "cell_type": "code",
      "metadata": {
        "id": "Qr6eLHgHdf7k",
        "colab_type": "code",
        "colab": {}
      },
      "source": [
        "X_train_std = sc.transform(X_train)\n",
        "X_test_std = sc.transform(X_test)\n",
        "\n",
        "model_DNN = keras.models.Sequential()\n",
        "\n",
        "model_DNN.add(keras.layers.Dense(units=12, activation='relu', input_shape= X_train.shape[1:]))\n",
        "\n",
        "model_DNN.add(keras.layers.Dropout(0.1))\n",
        "\n",
        "model_DNN.add(keras.layers.Dense(units=10, activation='relu'))\n",
        "\n",
        "model_DNN.add(keras.layers.Dropout(0.1))\n",
        "\n",
        "model_DNN.add(keras.layers.Dense(units= 8, activation='relu'))\n",
        "\n",
        "model_DNN.add(keras.layers.Dense(units=6, activation='relu'))\n"
      ],
      "execution_count": 0,
      "outputs": []
    },
    {
      "cell_type": "code",
      "metadata": {
        "id": "qF_Ry5rhdxGn",
        "colab_type": "code",
        "colab": {}
      },
      "source": [
        "model_DNN.add(keras.layers.Dense(units=3, activation='sigmoid'))"
      ],
      "execution_count": 0,
      "outputs": []
    },
    {
      "cell_type": "code",
      "metadata": {
        "id": "slu4g6Ged7sD",
        "colab_type": "code",
        "colab": {
          "base_uri": "https://localhost:8080/",
          "height": 385
        },
        "outputId": "844dc530-0c78-46ec-c6da-3ac8c4a14909"
      },
      "source": [
        "model_DNN.summary()"
      ],
      "execution_count": 14,
      "outputs": [
        {
          "output_type": "stream",
          "text": [
            "Model: \"sequential_1\"\n",
            "_________________________________________________________________\n",
            "Layer (type)                 Output Shape              Param #   \n",
            "=================================================================\n",
            "dense_2 (Dense)              (None, 12)                60        \n",
            "_________________________________________________________________\n",
            "dropout_1 (Dropout)          (None, 12)                0         \n",
            "_________________________________________________________________\n",
            "dense_3 (Dense)              (None, 10)                130       \n",
            "_________________________________________________________________\n",
            "dropout_2 (Dropout)          (None, 10)                0         \n",
            "_________________________________________________________________\n",
            "dense_4 (Dense)              (None, 8)                 88        \n",
            "_________________________________________________________________\n",
            "dense_5 (Dense)              (None, 6)                 54        \n",
            "_________________________________________________________________\n",
            "dense_6 (Dense)              (None, 3)                 21        \n",
            "=================================================================\n",
            "Total params: 353\n",
            "Trainable params: 353\n",
            "Non-trainable params: 0\n",
            "_________________________________________________________________\n"
          ],
          "name": "stdout"
        }
      ]
    },
    {
      "cell_type": "code",
      "metadata": {
        "id": "8I2noIHCd-KT",
        "colab_type": "code",
        "colab": {}
      },
      "source": [
        "model_DNN.compile(loss='sparse_categorical_crossentropy',optimizer='adam', metrics=['accuracy'])\n"
      ],
      "execution_count": 0,
      "outputs": []
    },
    {
      "cell_type": "code",
      "metadata": {
        "id": "v2JUIzF0eDm-",
        "colab_type": "code",
        "colab": {
          "base_uri": "https://localhost:8080/",
          "height": 1000
        },
        "outputId": "6e8990ec-a4f6-49e9-acd8-cba92f000fd7"
      },
      "source": [
        "model_DNN.fit(x=X_train_std, y=y_train, validation_split=0.1, epochs=50, batch_size=16)\n",
        "test_loss, test_accuracy = model_DNN.evaluate(x=X_test_std, y=y_test)\n"
      ],
      "execution_count": 17,
      "outputs": [
        {
          "output_type": "stream",
          "text": [
            "WARNING:tensorflow:From /usr/local/lib/python3.6/dist-packages/tensorflow_core/python/ops/math_grad.py:1424: where (from tensorflow.python.ops.array_ops) is deprecated and will be removed in a future version.\n",
            "Instructions for updating:\n",
            "Use tf.where in 2.0, which has the same broadcast rule as np.where\n",
            "Train on 108 samples, validate on 12 samples\n",
            "Epoch 1/50\n",
            "108/108 [==============================] - 0s 3ms/sample - loss: 1.1100 - acc: 0.2963 - val_loss: 1.1044 - val_acc: 0.5000\n",
            "Epoch 2/50\n",
            "108/108 [==============================] - 0s 157us/sample - loss: 1.1121 - acc: 0.3148 - val_loss: 1.0983 - val_acc: 0.5000\n",
            "Epoch 3/50\n",
            "108/108 [==============================] - 0s 150us/sample - loss: 1.1076 - acc: 0.3056 - val_loss: 1.0932 - val_acc: 0.5000\n",
            "Epoch 4/50\n",
            "108/108 [==============================] - 0s 166us/sample - loss: 1.1024 - acc: 0.2778 - val_loss: 1.0879 - val_acc: 0.5000\n",
            "Epoch 5/50\n",
            "108/108 [==============================] - 0s 147us/sample - loss: 1.0944 - acc: 0.3241 - val_loss: 1.0831 - val_acc: 0.5000\n",
            "Epoch 6/50\n",
            "108/108 [==============================] - 0s 198us/sample - loss: 1.0898 - acc: 0.2778 - val_loss: 1.0782 - val_acc: 0.5000\n",
            "Epoch 7/50\n",
            "108/108 [==============================] - 0s 141us/sample - loss: 1.0876 - acc: 0.2963 - val_loss: 1.0759 - val_acc: 0.5000\n",
            "Epoch 8/50\n",
            "108/108 [==============================] - 0s 185us/sample - loss: 1.0795 - acc: 0.3796 - val_loss: 1.0761 - val_acc: 0.4167\n",
            "Epoch 9/50\n",
            "108/108 [==============================] - 0s 154us/sample - loss: 1.0696 - acc: 0.3981 - val_loss: 1.0741 - val_acc: 0.4167\n",
            "Epoch 10/50\n",
            "108/108 [==============================] - 0s 148us/sample - loss: 1.0690 - acc: 0.4167 - val_loss: 1.0718 - val_acc: 0.5000\n",
            "Epoch 11/50\n",
            "108/108 [==============================] - 0s 160us/sample - loss: 1.0560 - acc: 0.4815 - val_loss: 1.0703 - val_acc: 0.5000\n",
            "Epoch 12/50\n",
            "108/108 [==============================] - 0s 144us/sample - loss: 1.0477 - acc: 0.4815 - val_loss: 1.0641 - val_acc: 0.5000\n",
            "Epoch 13/50\n",
            "108/108 [==============================] - 0s 162us/sample - loss: 1.0483 - acc: 0.5093 - val_loss: 1.0594 - val_acc: 0.5000\n",
            "Epoch 14/50\n",
            "108/108 [==============================] - 0s 165us/sample - loss: 1.0303 - acc: 0.5556 - val_loss: 1.0518 - val_acc: 0.5000\n",
            "Epoch 15/50\n",
            "108/108 [==============================] - 0s 137us/sample - loss: 1.0123 - acc: 0.5926 - val_loss: 1.0403 - val_acc: 0.5000\n",
            "Epoch 16/50\n",
            "108/108 [==============================] - 0s 158us/sample - loss: 1.0060 - acc: 0.6111 - val_loss: 1.0278 - val_acc: 0.5000\n",
            "Epoch 17/50\n",
            "108/108 [==============================] - 0s 144us/sample - loss: 0.9902 - acc: 0.6389 - val_loss: 1.0157 - val_acc: 0.5000\n",
            "Epoch 18/50\n",
            "108/108 [==============================] - 0s 172us/sample - loss: 0.9791 - acc: 0.6574 - val_loss: 1.0015 - val_acc: 0.5000\n",
            "Epoch 19/50\n",
            "108/108 [==============================] - 0s 165us/sample - loss: 0.9678 - acc: 0.6574 - val_loss: 0.9852 - val_acc: 0.5000\n",
            "Epoch 20/50\n",
            "108/108 [==============================] - 0s 131us/sample - loss: 0.9462 - acc: 0.6667 - val_loss: 0.9645 - val_acc: 0.5000\n",
            "Epoch 21/50\n",
            "108/108 [==============================] - 0s 167us/sample - loss: 0.9079 - acc: 0.6852 - val_loss: 0.9430 - val_acc: 0.5833\n",
            "Epoch 22/50\n",
            "108/108 [==============================] - 0s 159us/sample - loss: 0.9139 - acc: 0.6852 - val_loss: 0.9240 - val_acc: 0.5833\n",
            "Epoch 23/50\n",
            "108/108 [==============================] - 0s 152us/sample - loss: 0.9009 - acc: 0.6852 - val_loss: 0.8981 - val_acc: 0.5833\n",
            "Epoch 24/50\n",
            "108/108 [==============================] - 0s 172us/sample - loss: 0.8592 - acc: 0.6852 - val_loss: 0.8712 - val_acc: 0.5833\n",
            "Epoch 25/50\n",
            "108/108 [==============================] - 0s 148us/sample - loss: 0.8379 - acc: 0.7222 - val_loss: 0.8444 - val_acc: 0.5833\n",
            "Epoch 26/50\n",
            "108/108 [==============================] - 0s 165us/sample - loss: 0.8378 - acc: 0.6944 - val_loss: 0.8145 - val_acc: 0.5833\n",
            "Epoch 27/50\n",
            "108/108 [==============================] - 0s 157us/sample - loss: 0.7911 - acc: 0.6944 - val_loss: 0.7827 - val_acc: 0.5833\n",
            "Epoch 28/50\n",
            "108/108 [==============================] - 0s 147us/sample - loss: 0.7651 - acc: 0.7407 - val_loss: 0.7545 - val_acc: 0.5833\n",
            "Epoch 29/50\n",
            "108/108 [==============================] - 0s 161us/sample - loss: 0.7649 - acc: 0.7222 - val_loss: 0.7248 - val_acc: 0.5833\n",
            "Epoch 30/50\n",
            "108/108 [==============================] - 0s 203us/sample - loss: 0.7249 - acc: 0.7130 - val_loss: 0.6989 - val_acc: 0.5833\n",
            "Epoch 31/50\n",
            "108/108 [==============================] - 0s 147us/sample - loss: 0.7261 - acc: 0.7593 - val_loss: 0.6709 - val_acc: 0.5833\n",
            "Epoch 32/50\n",
            "108/108 [==============================] - 0s 196us/sample - loss: 0.7390 - acc: 0.7315 - val_loss: 0.6499 - val_acc: 0.6667\n",
            "Epoch 33/50\n",
            "108/108 [==============================] - 0s 176us/sample - loss: 0.6846 - acc: 0.7685 - val_loss: 0.6379 - val_acc: 0.6667\n",
            "Epoch 34/50\n",
            "108/108 [==============================] - 0s 197us/sample - loss: 0.6512 - acc: 0.7870 - val_loss: 0.6303 - val_acc: 0.7500\n",
            "Epoch 35/50\n",
            "108/108 [==============================] - 0s 162us/sample - loss: 0.6543 - acc: 0.8148 - val_loss: 0.6133 - val_acc: 0.7500\n",
            "Epoch 36/50\n",
            "108/108 [==============================] - 0s 161us/sample - loss: 0.6335 - acc: 0.7778 - val_loss: 0.5985 - val_acc: 0.7500\n",
            "Epoch 37/50\n",
            "108/108 [==============================] - 0s 155us/sample - loss: 0.6232 - acc: 0.7778 - val_loss: 0.5777 - val_acc: 0.7500\n",
            "Epoch 38/50\n",
            "108/108 [==============================] - 0s 157us/sample - loss: 0.6223 - acc: 0.7685 - val_loss: 0.5595 - val_acc: 0.7500\n",
            "Epoch 39/50\n",
            "108/108 [==============================] - 0s 143us/sample - loss: 0.6206 - acc: 0.7593 - val_loss: 0.5418 - val_acc: 0.8333\n",
            "Epoch 40/50\n",
            "108/108 [==============================] - 0s 159us/sample - loss: 0.6109 - acc: 0.8333 - val_loss: 0.5296 - val_acc: 0.8333\n",
            "Epoch 41/50\n",
            "108/108 [==============================] - 0s 132us/sample - loss: 0.5378 - acc: 0.8426 - val_loss: 0.5178 - val_acc: 0.8333\n",
            "Epoch 42/50\n",
            "108/108 [==============================] - 0s 139us/sample - loss: 0.5654 - acc: 0.7778 - val_loss: 0.5111 - val_acc: 0.8333\n",
            "Epoch 43/50\n",
            "108/108 [==============================] - 0s 144us/sample - loss: 0.5422 - acc: 0.8426 - val_loss: 0.4941 - val_acc: 0.8333\n",
            "Epoch 44/50\n",
            "108/108 [==============================] - 0s 132us/sample - loss: 0.5188 - acc: 0.8426 - val_loss: 0.4855 - val_acc: 0.8333\n",
            "Epoch 45/50\n",
            "108/108 [==============================] - 0s 162us/sample - loss: 0.5060 - acc: 0.8704 - val_loss: 0.4683 - val_acc: 0.8333\n",
            "Epoch 46/50\n",
            "108/108 [==============================] - 0s 182us/sample - loss: 0.4829 - acc: 0.8519 - val_loss: 0.4386 - val_acc: 0.8333\n",
            "Epoch 47/50\n",
            "108/108 [==============================] - 0s 152us/sample - loss: 0.4942 - acc: 0.8519 - val_loss: 0.4143 - val_acc: 0.9167\n",
            "Epoch 48/50\n",
            "108/108 [==============================] - 0s 148us/sample - loss: 0.4701 - acc: 0.8611 - val_loss: 0.3974 - val_acc: 0.9167\n",
            "Epoch 49/50\n",
            "108/108 [==============================] - 0s 171us/sample - loss: 0.4722 - acc: 0.8426 - val_loss: 0.3769 - val_acc: 0.9167\n",
            "Epoch 50/50\n",
            "108/108 [==============================] - 0s 150us/sample - loss: 0.3913 - acc: 0.8704 - val_loss: 0.3614 - val_acc: 0.9167\n",
            "30/30 [==============================] - 0s 39us/sample - loss: 0.4234 - acc: 0.8000\n"
          ],
          "name": "stdout"
        }
      ]
    },
    {
      "cell_type": "code",
      "metadata": {
        "id": "672QFA2feKnC",
        "colab_type": "code",
        "colab": {
          "base_uri": "https://localhost:8080/",
          "height": 33
        },
        "outputId": "4710bf14-7ca1-4003-d1b9-63db70586fc9"
      },
      "source": [
        "print(test_loss, test_accuracy)"
      ],
      "execution_count": 18,
      "outputs": [
        {
          "output_type": "stream",
          "text": [
            "0.42342424392700195 0.8\n"
          ],
          "name": "stdout"
        }
      ]
    },
    {
      "cell_type": "code",
      "metadata": {
        "id": "Ddpop7v7eMT0",
        "colab_type": "code",
        "colab": {}
      },
      "source": [
        ""
      ],
      "execution_count": 0,
      "outputs": []
    }
  ]
}