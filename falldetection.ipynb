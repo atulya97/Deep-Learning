{
  "nbformat": 4,
  "nbformat_minor": 0,
  "metadata": {
    "colab": {
      "name": "falldetection.ipynb",
      "provenance": [],
      "authorship_tag": "ABX9TyO/v8Ik/InxYKEORyXGu8Ux",
      "include_colab_link": true
    },
    "kernelspec": {
      "name": "python3",
      "display_name": "Python 3"
    }
  },
  "cells": [
    {
      "cell_type": "markdown",
      "metadata": {
        "id": "view-in-github",
        "colab_type": "text"
      },
      "source": [
        "<a href=\"https://colab.research.google.com/github/atulya97/Deep-Learning/blob/master/falldetection.ipynb\" target=\"_parent\"><img src=\"https://colab.research.google.com/assets/colab-badge.svg\" alt=\"Open In Colab\"/></a>"
      ]
    },
    {
      "cell_type": "code",
      "metadata": {
        "id": "PbpT12qPuziS",
        "colab_type": "code",
        "colab": {
          "base_uri": "https://localhost:8080/",
          "height": 120
        },
        "outputId": "71585c8a-31bb-4e3c-b805-2954bc3d36f5"
      },
      "source": [
        "from google.colab import drive\n",
        "drive.mount('/content/drive')\n"
      ],
      "execution_count": 2,
      "outputs": [
        {
          "output_type": "stream",
          "text": [
            "Go to this URL in a browser: https://accounts.google.com/o/oauth2/auth?client_id=947318989803-6bn6qk8qdgf4n4g3pfee6491hc0brc4i.apps.googleusercontent.com&redirect_uri=urn%3aietf%3awg%3aoauth%3a2.0%3aoob&response_type=code&scope=email%20https%3a%2f%2fwww.googleapis.com%2fauth%2fdocs.test%20https%3a%2f%2fwww.googleapis.com%2fauth%2fdrive%20https%3a%2f%2fwww.googleapis.com%2fauth%2fdrive.photos.readonly%20https%3a%2f%2fwww.googleapis.com%2fauth%2fpeopleapi.readonly\n",
            "\n",
            "Enter your authorization code:\n",
            "··········\n",
            "Mounted at /content/drive\n"
          ],
          "name": "stdout"
        }
      ]
    },
    {
      "cell_type": "code",
      "metadata": {
        "id": "QeNGtDupu2Mt",
        "colab_type": "code",
        "colab": {}
      },
      "source": [
        "import pandas as pd\n",
        "import numpy as np"
      ],
      "execution_count": 0,
      "outputs": []
    },
    {
      "cell_type": "code",
      "metadata": {
        "id": "1_UHJRNTu_Gf",
        "colab_type": "code",
        "colab": {
          "base_uri": "https://localhost:8080/",
          "height": 217
        },
        "outputId": "9c982635-d580-4ce9-f1b1-d3ddb8c4452f"
      },
      "source": [
        "data = pd.read_csv('/content/drive/My Drive/falldeteciton.csv')\n",
        "\n",
        "data.info()\n",
        "\n",
        "y=data['ACTIVITY']\n",
        "data.drop(['ACTIVITY'],axis=1,inplace=True)"
      ],
      "execution_count": 6,
      "outputs": [
        {
          "output_type": "stream",
          "text": [
            "<class 'pandas.core.frame.DataFrame'>\n",
            "RangeIndex: 16382 entries, 0 to 16381\n",
            "Data columns (total 7 columns):\n",
            "ACTIVITY       16382 non-null int64\n",
            "TIME           16382 non-null float64\n",
            "SL             16382 non-null float64\n",
            "EEG            16382 non-null float64\n",
            "BP             16382 non-null int64\n",
            "HR             16382 non-null int64\n",
            "CIRCLUATION    16382 non-null int64\n",
            "dtypes: float64(3), int64(4)\n",
            "memory usage: 896.0 KB\n"
          ],
          "name": "stdout"
        }
      ]
    },
    {
      "cell_type": "code",
      "metadata": {
        "id": "aOGubIfavDx2",
        "colab_type": "code",
        "colab": {}
      },
      "source": [
        "from sklearn.model_selection import train_test_split\n",
        "X_train, X_test, y_train, y_test = train_test_split(data, y, test_size=0.275, stratify=y,random_state=42)\n",
        "\n",
        "from sklearn.preprocessing import StandardScaler\n",
        "sc=StandardScaler()\n",
        "\n",
        "X_train_std=sc.fit_transform(X_train)\n",
        "X_test_std=sc.fit_transform(X_test)"
      ],
      "execution_count": 0,
      "outputs": []
    },
    {
      "cell_type": "markdown",
      "metadata": {
        "id": "5veSnWM8wGvz",
        "colab_type": "text"
      },
      "source": [
        "#MLP"
      ]
    },
    {
      "cell_type": "code",
      "metadata": {
        "id": "K7PChGVmv7xY",
        "colab_type": "code",
        "colab": {
          "base_uri": "https://localhost:8080/",
          "height": 150
        },
        "outputId": "62e2191c-aeec-4dc5-cad4-a692bfa5ab47"
      },
      "source": [
        "from sklearn.neural_network import MLPClassifier\n",
        "\n",
        "mlpClassifier = MLPClassifier(  solver = 'adam' , alpha = 1e-5 ,hidden_layer_sizes = (30,5), random_state = 1 )\n",
        "\n",
        "mlpClassifier.fit(X_train, y_train)"
      ],
      "execution_count": 10,
      "outputs": [
        {
          "output_type": "execute_result",
          "data": {
            "text/plain": [
              "MLPClassifier(activation='relu', alpha=1e-05, batch_size='auto', beta_1=0.9,\n",
              "              beta_2=0.999, early_stopping=False, epsilon=1e-08,\n",
              "              hidden_layer_sizes=(30, 5), learning_rate='constant',\n",
              "              learning_rate_init=0.001, max_fun=15000, max_iter=200,\n",
              "              momentum=0.9, n_iter_no_change=10, nesterovs_momentum=True,\n",
              "              power_t=0.5, random_state=1, shuffle=True, solver='adam',\n",
              "              tol=0.0001, validation_fraction=0.1, verbose=False,\n",
              "              warm_start=False)"
            ]
          },
          "metadata": {
            "tags": []
          },
          "execution_count": 10
        }
      ]
    },
    {
      "cell_type": "code",
      "metadata": {
        "id": "VMaiqEyOwRFA",
        "colab_type": "code",
        "colab": {
          "base_uri": "https://localhost:8080/",
          "height": 33
        },
        "outputId": "0349a562-9341-41c5-8313-3f6a9b25c2f5"
      },
      "source": [
        "\n",
        "print(mlpClassifier.score(X_test, y_test))"
      ],
      "execution_count": 11,
      "outputs": [
        {
          "output_type": "stream",
          "text": [
            "0.281624500665779\n"
          ],
          "name": "stdout"
        }
      ]
    },
    {
      "cell_type": "code",
      "metadata": {
        "id": "fsTZVK97wViP",
        "colab_type": "code",
        "colab": {}
      },
      "source": [
        ""
      ],
      "execution_count": 0,
      "outputs": []
    },
    {
      "cell_type": "markdown",
      "metadata": {
        "id": "MNxWL_-uwWSG",
        "colab_type": "text"
      },
      "source": [
        "#kERAS"
      ]
    },
    {
      "cell_type": "code",
      "metadata": {
        "id": "1s4dSWvVwUGO",
        "colab_type": "code",
        "colab": {
          "base_uri": "https://localhost:8080/",
          "height": 62
        },
        "outputId": "9e59f0ca-e1c9-41a8-b990-f194452a59ef"
      },
      "source": [
        "import tensorflow as tf\n",
        "from tensorflow import keras\n"
      ],
      "execution_count": 12,
      "outputs": [
        {
          "output_type": "display_data",
          "data": {
            "text/html": [
              "<p style=\"color: red;\">\n",
              "The default version of TensorFlow in Colab will soon switch to TensorFlow 2.x.<br>\n",
              "We recommend you <a href=\"https://www.tensorflow.org/guide/migrate\" target=\"_blank\">upgrade</a> now \n",
              "or ensure your notebook will continue to use TensorFlow 1.x via the <code>%tensorflow_version 1.x</code> magic:\n",
              "<a href=\"https://colab.research.google.com/notebooks/tensorflow_version.ipynb\" target=\"_blank\">more info</a>.</p>\n"
            ],
            "text/plain": [
              "<IPython.core.display.HTML object>"
            ]
          },
          "metadata": {
            "tags": []
          }
        }
      ]
    },
    {
      "cell_type": "code",
      "metadata": {
        "id": "07FhJXcIwc-G",
        "colab_type": "code",
        "colab": {}
      },
      "source": [
        "tf.set_random_seed(42)\n",
        "np.random.seed(42)\n"
      ],
      "execution_count": 0,
      "outputs": []
    },
    {
      "cell_type": "code",
      "metadata": {
        "id": "NOJuEbLmwddg",
        "colab_type": "code",
        "colab": {
          "base_uri": "https://localhost:8080/",
          "height": 1000
        },
        "outputId": "5f9276ee-4c4a-4b22-e250-f9a9f6b980f3"
      },
      "source": [
        "model=keras.Sequential()\n",
        "\n",
        "model.add(keras.layers.Dense(units=50,activation=\"relu\",input_shape=X_train_std.shape[1:]))\n",
        "model.add(keras.layers.Dense(units=6,activation='softmax'))\n",
        "model.compile(loss='sparse_categorical_crossentropy', optimizer='adam', metrics=['accuracy'])\n",
        "model.fit(x=X_train_std, y=y_train, validation_split=0.1,epochs=50, batch_size=32)"
      ],
      "execution_count": 14,
      "outputs": [
        {
          "output_type": "stream",
          "text": [
            "WARNING:tensorflow:From /usr/local/lib/python3.6/dist-packages/tensorflow_core/python/ops/resource_variable_ops.py:1630: calling BaseResourceVariable.__init__ (from tensorflow.python.ops.resource_variable_ops) with constraint is deprecated and will be removed in a future version.\n",
            "Instructions for updating:\n",
            "If using Keras pass *_constraint arguments to layers.\n",
            "Train on 10688 samples, validate on 1188 samples\n",
            "Epoch 1/50\n",
            "10688/10688 [==============================] - 1s 74us/sample - loss: 1.6369 - acc: 0.3045 - val_loss: 1.5719 - val_acc: 0.3493\n",
            "Epoch 2/50\n",
            "10688/10688 [==============================] - 1s 54us/sample - loss: 1.5680 - acc: 0.3516 - val_loss: 1.5393 - val_acc: 0.3535\n",
            "Epoch 3/50\n",
            "10688/10688 [==============================] - 1s 53us/sample - loss: 1.5440 - acc: 0.3543 - val_loss: 1.5204 - val_acc: 0.3620\n",
            "Epoch 4/50\n",
            "10688/10688 [==============================] - 1s 54us/sample - loss: 1.5290 - acc: 0.3603 - val_loss: 1.5047 - val_acc: 0.3594\n",
            "Epoch 5/50\n",
            "10688/10688 [==============================] - 1s 53us/sample - loss: 1.5170 - acc: 0.3651 - val_loss: 1.4930 - val_acc: 0.3670\n",
            "Epoch 6/50\n",
            "10688/10688 [==============================] - 1s 56us/sample - loss: 1.5081 - acc: 0.3678 - val_loss: 1.4878 - val_acc: 0.3737\n",
            "Epoch 7/50\n",
            "10688/10688 [==============================] - 1s 53us/sample - loss: 1.4997 - acc: 0.3742 - val_loss: 1.4762 - val_acc: 0.3763\n",
            "Epoch 8/50\n",
            "10688/10688 [==============================] - 1s 54us/sample - loss: 1.4925 - acc: 0.3801 - val_loss: 1.4687 - val_acc: 0.3838\n",
            "Epoch 9/50\n",
            "10688/10688 [==============================] - 1s 54us/sample - loss: 1.4845 - acc: 0.3848 - val_loss: 1.4570 - val_acc: 0.3813\n",
            "Epoch 10/50\n",
            "10688/10688 [==============================] - 1s 52us/sample - loss: 1.4784 - acc: 0.3851 - val_loss: 1.4536 - val_acc: 0.3948\n",
            "Epoch 11/50\n",
            "10688/10688 [==============================] - 1s 54us/sample - loss: 1.4715 - acc: 0.3916 - val_loss: 1.4416 - val_acc: 0.4015\n",
            "Epoch 12/50\n",
            "10688/10688 [==============================] - 1s 54us/sample - loss: 1.4643 - acc: 0.3980 - val_loss: 1.4378 - val_acc: 0.4082\n",
            "Epoch 13/50\n",
            "10688/10688 [==============================] - 1s 54us/sample - loss: 1.4594 - acc: 0.3990 - val_loss: 1.4255 - val_acc: 0.4074\n",
            "Epoch 14/50\n",
            "10688/10688 [==============================] - 1s 53us/sample - loss: 1.4516 - acc: 0.4036 - val_loss: 1.4241 - val_acc: 0.4091\n",
            "Epoch 15/50\n",
            "10688/10688 [==============================] - 1s 53us/sample - loss: 1.4453 - acc: 0.4055 - val_loss: 1.4125 - val_acc: 0.4200\n",
            "Epoch 16/50\n",
            "10688/10688 [==============================] - 1s 53us/sample - loss: 1.4399 - acc: 0.4091 - val_loss: 1.4055 - val_acc: 0.4175\n",
            "Epoch 17/50\n",
            "10688/10688 [==============================] - 1s 54us/sample - loss: 1.4333 - acc: 0.4136 - val_loss: 1.4075 - val_acc: 0.4057\n",
            "Epoch 18/50\n",
            "10688/10688 [==============================] - 1s 53us/sample - loss: 1.4272 - acc: 0.4164 - val_loss: 1.3976 - val_acc: 0.4200\n",
            "Epoch 19/50\n",
            "10688/10688 [==============================] - 1s 53us/sample - loss: 1.4214 - acc: 0.4183 - val_loss: 1.3925 - val_acc: 0.4251\n",
            "Epoch 20/50\n",
            "10688/10688 [==============================] - 1s 53us/sample - loss: 1.4166 - acc: 0.4208 - val_loss: 1.3902 - val_acc: 0.4276\n",
            "Epoch 21/50\n",
            "10688/10688 [==============================] - 1s 53us/sample - loss: 1.4124 - acc: 0.4222 - val_loss: 1.3799 - val_acc: 0.4411\n",
            "Epoch 22/50\n",
            "10688/10688 [==============================] - 1s 53us/sample - loss: 1.4064 - acc: 0.4273 - val_loss: 1.3741 - val_acc: 0.4293\n",
            "Epoch 23/50\n",
            "10688/10688 [==============================] - 1s 54us/sample - loss: 1.4012 - acc: 0.4274 - val_loss: 1.3689 - val_acc: 0.4428\n",
            "Epoch 24/50\n",
            "10688/10688 [==============================] - 1s 54us/sample - loss: 1.3961 - acc: 0.4331 - val_loss: 1.3623 - val_acc: 0.4453\n",
            "Epoch 25/50\n",
            "10688/10688 [==============================] - 1s 56us/sample - loss: 1.3915 - acc: 0.4331 - val_loss: 1.3629 - val_acc: 0.4487\n",
            "Epoch 26/50\n",
            "10688/10688 [==============================] - 1s 53us/sample - loss: 1.3881 - acc: 0.4354 - val_loss: 1.3603 - val_acc: 0.4411\n",
            "Epoch 27/50\n",
            "10688/10688 [==============================] - 1s 53us/sample - loss: 1.3840 - acc: 0.4353 - val_loss: 1.3537 - val_acc: 0.4470\n",
            "Epoch 28/50\n",
            "10688/10688 [==============================] - 1s 55us/sample - loss: 1.3806 - acc: 0.4401 - val_loss: 1.3487 - val_acc: 0.4554\n",
            "Epoch 29/50\n",
            "10688/10688 [==============================] - 1s 53us/sample - loss: 1.3770 - acc: 0.4397 - val_loss: 1.3419 - val_acc: 0.4630\n",
            "Epoch 30/50\n",
            "10688/10688 [==============================] - 1s 53us/sample - loss: 1.3737 - acc: 0.4406 - val_loss: 1.3438 - val_acc: 0.4646\n",
            "Epoch 31/50\n",
            "10688/10688 [==============================] - 1s 56us/sample - loss: 1.3702 - acc: 0.4419 - val_loss: 1.3395 - val_acc: 0.4554\n",
            "Epoch 32/50\n",
            "10688/10688 [==============================] - 1s 52us/sample - loss: 1.3657 - acc: 0.4453 - val_loss: 1.3443 - val_acc: 0.4487\n",
            "Epoch 33/50\n",
            "10688/10688 [==============================] - 1s 53us/sample - loss: 1.3636 - acc: 0.4471 - val_loss: 1.3384 - val_acc: 0.4428\n",
            "Epoch 34/50\n",
            "10688/10688 [==============================] - 1s 54us/sample - loss: 1.3610 - acc: 0.4429 - val_loss: 1.3308 - val_acc: 0.4571\n",
            "Epoch 35/50\n",
            "10688/10688 [==============================] - 1s 55us/sample - loss: 1.3575 - acc: 0.4487 - val_loss: 1.3268 - val_acc: 0.4545\n",
            "Epoch 36/50\n",
            "10688/10688 [==============================] - 1s 53us/sample - loss: 1.3540 - acc: 0.4498 - val_loss: 1.3327 - val_acc: 0.4596\n",
            "Epoch 37/50\n",
            "10688/10688 [==============================] - 1s 54us/sample - loss: 1.3526 - acc: 0.4494 - val_loss: 1.3246 - val_acc: 0.4562\n",
            "Epoch 38/50\n",
            "10688/10688 [==============================] - 1s 53us/sample - loss: 1.3488 - acc: 0.4518 - val_loss: 1.3242 - val_acc: 0.4613\n",
            "Epoch 39/50\n",
            "10688/10688 [==============================] - 1s 54us/sample - loss: 1.3462 - acc: 0.4515 - val_loss: 1.3216 - val_acc: 0.4596\n",
            "Epoch 40/50\n",
            "10688/10688 [==============================] - 1s 53us/sample - loss: 1.3450 - acc: 0.4560 - val_loss: 1.3149 - val_acc: 0.4672\n",
            "Epoch 41/50\n",
            "10688/10688 [==============================] - 1s 55us/sample - loss: 1.3415 - acc: 0.4586 - val_loss: 1.3211 - val_acc: 0.4621\n",
            "Epoch 42/50\n",
            "10688/10688 [==============================] - 1s 54us/sample - loss: 1.3392 - acc: 0.4593 - val_loss: 1.3091 - val_acc: 0.4697\n",
            "Epoch 43/50\n",
            "10688/10688 [==============================] - 1s 52us/sample - loss: 1.3387 - acc: 0.4547 - val_loss: 1.3085 - val_acc: 0.4672\n",
            "Epoch 44/50\n",
            "10688/10688 [==============================] - 1s 55us/sample - loss: 1.3355 - acc: 0.4584 - val_loss: 1.3111 - val_acc: 0.4773\n",
            "Epoch 45/50\n",
            "10688/10688 [==============================] - 1s 53us/sample - loss: 1.3335 - acc: 0.4588 - val_loss: 1.3074 - val_acc: 0.4874\n",
            "Epoch 46/50\n",
            "10688/10688 [==============================] - 1s 53us/sample - loss: 1.3317 - acc: 0.4621 - val_loss: 1.3055 - val_acc: 0.4722\n",
            "Epoch 47/50\n",
            "10688/10688 [==============================] - 1s 54us/sample - loss: 1.3295 - acc: 0.4638 - val_loss: 1.3036 - val_acc: 0.4705\n",
            "Epoch 48/50\n",
            "10688/10688 [==============================] - 1s 55us/sample - loss: 1.3271 - acc: 0.4627 - val_loss: 1.2989 - val_acc: 0.4823\n",
            "Epoch 49/50\n",
            "10688/10688 [==============================] - 1s 58us/sample - loss: 1.3255 - acc: 0.4619 - val_loss: 1.3014 - val_acc: 0.4764\n",
            "Epoch 50/50\n",
            "10688/10688 [==============================] - 1s 54us/sample - loss: 1.3232 - acc: 0.4658 - val_loss: 1.2951 - val_acc: 0.4815\n"
          ],
          "name": "stdout"
        },
        {
          "output_type": "execute_result",
          "data": {
            "text/plain": [
              "<tensorflow.python.keras.callbacks.History at 0x7f0e7f833828>"
            ]
          },
          "metadata": {
            "tags": []
          },
          "execution_count": 14
        }
      ]
    },
    {
      "cell_type": "code",
      "metadata": {
        "id": "tboYDug3w49g",
        "colab_type": "code",
        "colab": {
          "base_uri": "https://localhost:8080/",
          "height": 33
        },
        "outputId": "e4a82973-b093-4ac0-a40e-ba9a3f6e627e"
      },
      "source": [
        "test_loss,test_accuracy=model.evaluate(x=X_test_std,y=y_test)"
      ],
      "execution_count": 16,
      "outputs": [
        {
          "output_type": "stream",
          "text": [
            "4506/4506 [==============================] - 0s 27us/sample - loss: 2.0795 - acc: 0.4090\n"
          ],
          "name": "stdout"
        }
      ]
    },
    {
      "cell_type": "code",
      "metadata": {
        "id": "Ws4uLqGnwibc",
        "colab_type": "code",
        "colab": {
          "base_uri": "https://localhost:8080/",
          "height": 33
        },
        "outputId": "3d88cf1a-a399-4ed6-bc01-ef99e4aab039"
      },
      "source": [
        "print(test_accuracy,test_loss)"
      ],
      "execution_count": 17,
      "outputs": [
        {
          "output_type": "stream",
          "text": [
            "0.4090102 2.079521022687422\n"
          ],
          "name": "stdout"
        }
      ]
    },
    {
      "cell_type": "code",
      "metadata": {
        "id": "aTne3sqnwlZ6",
        "colab_type": "code",
        "colab": {}
      },
      "source": [
        ""
      ],
      "execution_count": 0,
      "outputs": []
    }
  ]
}