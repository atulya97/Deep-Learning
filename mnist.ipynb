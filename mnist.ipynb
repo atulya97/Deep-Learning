{
  "nbformat": 4,
  "nbformat_minor": 0,
  "metadata": {
    "colab": {
      "name": "mnist.ipynb",
      "provenance": [],
      "authorship_tag": "ABX9TyOAC8RsN5Ky0TERAWP0S7Nv",
      "include_colab_link": true
    },
    "kernelspec": {
      "name": "python3",
      "display_name": "Python 3"
    },
    "accelerator": "TPU"
  },
  "cells": [
    {
      "cell_type": "markdown",
      "metadata": {
        "id": "view-in-github",
        "colab_type": "text"
      },
      "source": [
        "<a href=\"https://colab.research.google.com/github/atulya97/Deep-Learning/blob/master/mnist.ipynb\" target=\"_parent\"><img src=\"https://colab.research.google.com/assets/colab-badge.svg\" alt=\"Open In Colab\"/></a>"
      ]
    },
    {
      "cell_type": "code",
      "metadata": {
        "id": "-ur9B3RckQQZ",
        "colab_type": "code",
        "colab": {}
      },
      "source": [
        "import numpy as np \n",
        "import pandas as pd \n",
        "import matplotlib.pyplot as plt\n"
      ],
      "execution_count": 0,
      "outputs": []
    },
    {
      "cell_type": "code",
      "metadata": {
        "id": "azH_jZoHkzQB",
        "colab_type": "code",
        "colab": {}
      },
      "source": [
        "import tensorflow as tf \n",
        "from tensorflow import keras\n"
      ],
      "execution_count": 0,
      "outputs": []
    },
    {
      "cell_type": "code",
      "metadata": {
        "id": "C-D8TGqTk4pS",
        "colab_type": "code",
        "colab": {}
      },
      "source": [
        "tf.random.set_seed(42)\n",
        "np.random.seed(42)"
      ],
      "execution_count": 0,
      "outputs": []
    },
    {
      "cell_type": "code",
      "metadata": {
        "id": "s2kJ14nGlz9n",
        "colab_type": "code",
        "colab": {}
      },
      "source": [
        "mnistDB = keras.datasets.mnist\n"
      ],
      "execution_count": 0,
      "outputs": []
    },
    {
      "cell_type": "code",
      "metadata": {
        "id": "xjcW7Mtkl5zV",
        "colab_type": "code",
        "colab": {}
      },
      "source": [
        "(X_train, y_train),(X_test, y_test) = mnistDB.load_data() #it returns  4 values as two tuples..\n"
      ],
      "execution_count": 0,
      "outputs": []
    },
    {
      "cell_type": "code",
      "metadata": {
        "id": "xdXydz2Xl-zW",
        "colab_type": "code",
        "outputId": "5eeb5dbe-b8eb-4f60-ccf5-b6cdd11e437a",
        "colab": {
          "base_uri": "https://localhost:8080/",
          "height": 50
        }
      },
      "source": [
        "print(\"Shape of X_train: \", X_train.shape) #training input\n",
        "print(\"Shape of X_test: \", X_test.shape) #testing input"
      ],
      "execution_count": 0,
      "outputs": [
        {
          "output_type": "stream",
          "text": [
            "Shape of X_train:  (60000, 28, 28)\n",
            "Shape of X_test:  (10000, 28, 28)\n"
          ],
          "name": "stdout"
        }
      ]
    },
    {
      "cell_type": "code",
      "metadata": {
        "id": "6NTjEMwKmOOk",
        "colab_type": "code",
        "outputId": "e00d8068-bc14-4663-9559-c35cfa5ceac3",
        "colab": {
          "base_uri": "https://localhost:8080/",
          "height": 282
        }
      },
      "source": [
        "plt.imshow(X_train[16], cmap='binary') \n"
      ],
      "execution_count": 0,
      "outputs": [
        {
          "output_type": "execute_result",
          "data": {
            "text/plain": [
              "<matplotlib.image.AxesImage at 0x7f0b19cc4668>"
            ]
          },
          "metadata": {
            "tags": []
          },
          "execution_count": 35
        },
        {
          "output_type": "display_data",
          "data": {
            "image/png": "[encoded data removed]",
            "text/plain": [
              "<Figure size 432x288 with 1 Axes>"
            ]
          },
          "metadata": {
            "tags": []
          }
        }
      ]
    },
    {
      "cell_type": "code",
      "metadata": {
        "id": "AnlS8TKOmXUl",
        "colab_type": "code",
        "colab": {}
      },
      "source": [
        "X_train = X_train.reshape((60000, 28*28))\n"
      ],
      "execution_count": 0,
      "outputs": []
    },
    {
      "cell_type": "code",
      "metadata": {
        "id": "Uthuf4EpmuEa",
        "colab_type": "code",
        "outputId": "4c27d595-471c-4157-f350-098d3f0395d2",
        "colab": {
          "base_uri": "https://localhost:8080/",
          "height": 756
        }
      },
      "source": [
        "print(X_train[1])   # can use .shape as well\n"
      ],
      "execution_count": 0,
      "outputs": [
        {
          "output_type": "stream",
          "text": [
            "[  0   0   0   0   0   0   0   0   0   0   0   0   0   0   0   0   0   0\n",
            "   0   0   0   0   0   0   0   0   0   0   0   0   0   0   0   0   0   0\n",
            "   0   0   0   0   0   0   0   0   0   0   0   0   0   0   0   0   0   0\n",
            "   0   0   0   0   0   0   0   0   0   0   0   0   0   0   0   0   0   0\n",
            "   0   0   0   0   0   0   0   0   0   0   0   0   0   0   0   0   0   0\n",
            "   0   0   0   0   0   0   0   0   0   0   0   0   0   0   0   0   0   0\n",
            "   0   0   0   0   0   0   0   0   0   0   0   0   0   0   0   0   0   0\n",
            "   0  51 159 253 159  50   0   0   0   0   0   0   0   0   0   0   0   0\n",
            "   0   0   0   0   0   0   0   0   0   0  48 238 252 252 252 237   0   0\n",
            "   0   0   0   0   0   0   0   0   0   0   0   0   0   0   0   0   0   0\n",
            "   0  54 227 253 252 239 233 252  57   6   0   0   0   0   0   0   0   0\n",
            "   0   0   0   0   0   0   0   0   0  10  60 224 252 253 252 202  84 252\n",
            " 253 122   0   0   0   0   0   0   0   0   0   0   0   0   0   0   0   0\n",
            "   0 163 252 252 252 253 252 252  96 189 253 167   0   0   0   0   0   0\n",
            "   0   0   0   0   0   0   0   0   0   0  51 238 253 253 190 114 253 228\n",
            "  47  79 255 168   0   0   0   0   0   0   0   0   0   0   0   0   0   0\n",
            "   0  48 238 252 252 179  12  75 121  21   0   0 253 243  50   0   0   0\n",
            "   0   0   0   0   0   0   0   0   0   0  38 165 253 233 208  84   0   0\n",
            "   0   0   0   0 253 252 165   0   0   0   0   0   0   0   0   0   0   0\n",
            "   0   7 178 252 240  71  19  28   0   0   0   0   0   0 253 252 195   0\n",
            "   0   0   0   0   0   0   0   0   0   0   0  57 252 252  63   0   0   0\n",
            "   0   0   0   0   0   0 253 252 195   0   0   0   0   0   0   0   0   0\n",
            "   0   0   0 198 253 190   0   0   0   0   0   0   0   0   0   0 255 253\n",
            " 196   0   0   0   0   0   0   0   0   0   0   0  76 246 252 112   0   0\n",
            "   0   0   0   0   0   0   0   0 253 252 148   0   0   0   0   0   0   0\n",
            "   0   0   0   0  85 252 230  25   0   0   0   0   0   0   0   0   7 135\n",
            " 253 186  12   0   0   0   0   0   0   0   0   0   0   0  85 252 223   0\n",
            "   0   0   0   0   0   0   0   7 131 252 225  71   0   0   0   0   0   0\n",
            "   0   0   0   0   0   0  85 252 145   0   0   0   0   0   0   0  48 165\n",
            " 252 173   0   0   0   0   0   0   0   0   0   0   0   0   0   0  86 253\n",
            " 225   0   0   0   0   0   0 114 238 253 162   0   0   0   0   0   0   0\n",
            "   0   0   0   0   0   0   0   0  85 252 249 146  48  29  85 178 225 253\n",
            " 223 167  56   0   0   0   0   0   0   0   0   0   0   0   0   0   0   0\n",
            "  85 252 252 252 229 215 252 252 252 196 130   0   0   0   0   0   0   0\n",
            "   0   0   0   0   0   0   0   0   0   0  28 199 252 252 253 252 252 233\n",
            " 145   0   0   0   0   0   0   0   0   0   0   0   0   0   0   0   0   0\n",
            "   0   0   0  25 128 252 253 252 141  37   0   0   0   0   0   0   0   0\n",
            "   0   0   0   0   0   0   0   0   0   0   0   0   0   0   0   0   0   0\n",
            "   0   0   0   0   0   0   0   0   0   0   0   0   0   0   0   0   0   0\n",
            "   0   0   0   0   0   0   0   0   0   0   0   0   0   0   0   0   0   0\n",
            "   0   0   0   0   0   0   0   0   0   0   0   0   0   0   0   0   0   0\n",
            "   0   0   0   0   0   0   0   0   0   0   0   0   0   0   0   0   0   0\n",
            "   0   0   0   0   0   0   0   0   0   0   0   0   0   0   0   0   0   0\n",
            "   0   0   0   0   0   0   0   0   0   0]\n"
          ],
          "name": "stdout"
        }
      ]
    },
    {
      "cell_type": "code",
      "metadata": {
        "id": "OFAmxFmpD-oz",
        "colab_type": "code",
        "outputId": "370efb1d-f885-4808-a1ee-ce3dec1ac076",
        "colab": {
          "base_uri": "https://localhost:8080/",
          "height": 50
        }
      },
      "source": [
        "#some values are 0 some are not...so we need to scale these values...\n",
        "#mnist is a grey scale image so...highest value is 255.. so we divide it with 255\n",
        "print(215/255)\n",
        "print(type(215/255))"
      ],
      "execution_count": 0,
      "outputs": [
        {
          "output_type": "stream",
          "text": [
            "0.8431372549019608\n",
            "<class 'float'>\n"
          ],
          "name": "stdout"
        }
      ]
    },
    {
      "cell_type": "code",
      "metadata": {
        "id": "SkqIjj1JE1Ex",
        "colab_type": "code",
        "colab": {}
      },
      "source": [
        "X_train = X_train.astype('float32')/255 #convert to make it more efficient..\n",
        "#print(X_train[45])"
      ],
      "execution_count": 0,
      "outputs": []
    },
    {
      "cell_type": "code",
      "metadata": {
        "id": "OYu7ScJyFuzN",
        "colab_type": "code",
        "colab": {}
      },
      "source": [
        "X_test = X_test.reshape((10000, 28*28))\n",
        "X_test = X_test.astype('float32')/255"
      ],
      "execution_count": 0,
      "outputs": []
    },
    {
      "cell_type": "code",
      "metadata": {
        "id": "vqLtIFVZGWzY",
        "colab_type": "code",
        "colab": {}
      },
      "source": [
        "dnn = keras.models.Sequential()"
      ],
      "execution_count": 0,
      "outputs": []
    },
    {
      "cell_type": "code",
      "metadata": {
        "id": "EFxBs7aUGjeG",
        "colab_type": "code",
        "colab": {}
      },
      "source": [
        "dnn.add(keras.layers.Dense(50, activation=\"relu\",input_shape=X_train.shape[1:]))"
      ],
      "execution_count": 0,
      "outputs": []
    },
    {
      "cell_type": "code",
      "metadata": {
        "id": "4W2nUNu9G0Ci",
        "colab_type": "code",
        "colab": {}
      },
      "source": [
        "dnn.add(keras.layers.Dense(30, activation=\"relu\"))"
      ],
      "execution_count": 0,
      "outputs": []
    },
    {
      "cell_type": "code",
      "metadata": {
        "id": "MhRa6L5-HaHV",
        "colab_type": "code",
        "outputId": "60becb9f-8afe-4dd4-f81f-50a08b23385b",
        "colab": {
          "base_uri": "https://localhost:8080/",
          "height": 386
        }
      },
      "source": [
        "\n",
        "dnn.add(keras.layers.Dense(10, activation=\"softmax\"))\n",
        "dnn.summary()"
      ],
      "execution_count": 0,
      "outputs": [
        {
          "output_type": "stream",
          "text": [
            "Model: \"sequential\"\n",
            "_________________________________________________________________\n",
            "Layer (type)                 Output Shape              Param #   \n",
            "=================================================================\n",
            "dense (Dense)                (None, 50)                39250     \n",
            "_________________________________________________________________\n",
            "dense_1 (Dense)              (None, 50)                2550      \n",
            "_________________________________________________________________\n",
            "dense_2 (Dense)              (None, 30)                1530      \n",
            "_________________________________________________________________\n",
            "dense_3 (Dense)              (None, 40)                1240      \n",
            "_________________________________________________________________\n",
            "dense_4 (Dense)              (None, 10)                410       \n",
            "_________________________________________________________________\n",
            "dense_5 (Dense)              (None, 30)                330       \n",
            "_________________________________________________________________\n",
            "dense_6 (Dense)              (None, 10)                310       \n",
            "=================================================================\n",
            "Total params: 45,620\n",
            "Trainable params: 45,620\n",
            "Non-trainable params: 0\n",
            "_________________________________________________________________\n"
          ],
          "name": "stdout"
        }
      ]
    },
    {
      "cell_type": "code",
      "metadata": {
        "id": "4-HzNSTLIb8S",
        "colab_type": "code",
        "colab": {}
      },
      "source": [
        "dnn.compile(loss='sparse_categorical_crossentropy',optimizer='adam', metrics=['accuracy']) #instead of rmsprop we can also use adam..."
      ],
      "execution_count": 0,
      "outputs": []
    },
    {
      "cell_type": "code",
      "metadata": {
        "id": "zj7m4wvVIw9G",
        "colab_type": "code",
        "outputId": "cbd86ed2-b1e2-4aeb-bc18-db5e4b44cf16",
        "colab": {
          "base_uri": "https://localhost:8080/",
          "height": 705
        }
      },
      "source": [
        "dnn.fit(x=X_train,y=y_train,validation_split=0.3,epochs=20,batch_size=16)"
      ],
      "execution_count": 0,
      "outputs": [
        {
          "output_type": "stream",
          "text": [
            "Epoch 1/20\n",
            "2625/2625 [==============================] - 6s 2ms/step - loss: 2.3012 - accuracy: 0.1143 - val_loss: 2.3021 - val_accuracy: 0.1079\n",
            "Epoch 2/20\n",
            "2625/2625 [==============================] - 6s 2ms/step - loss: 2.3012 - accuracy: 0.1143 - val_loss: 2.3022 - val_accuracy: 0.1079\n",
            "Epoch 3/20\n",
            "2625/2625 [==============================] - 6s 2ms/step - loss: 2.3012 - accuracy: 0.1143 - val_loss: 2.3020 - val_accuracy: 0.1079\n",
            "Epoch 4/20\n",
            "2625/2625 [==============================] - 6s 2ms/step - loss: 2.3012 - accuracy: 0.1143 - val_loss: 2.3019 - val_accuracy: 0.1079\n",
            "Epoch 5/20\n",
            "2625/2625 [==============================] - 6s 2ms/step - loss: 2.3012 - accuracy: 0.1143 - val_loss: 2.3022 - val_accuracy: 0.1079\n",
            "Epoch 6/20\n",
            "2625/2625 [==============================] - 6s 2ms/step - loss: 2.3012 - accuracy: 0.1143 - val_loss: 2.3021 - val_accuracy: 0.1079\n",
            "Epoch 7/20\n",
            "2625/2625 [==============================] - 6s 2ms/step - loss: 2.3012 - accuracy: 0.1143 - val_loss: 2.3021 - val_accuracy: 0.1079\n",
            "Epoch 8/20\n",
            "2625/2625 [==============================] - 6s 2ms/step - loss: 2.3012 - accuracy: 0.1143 - val_loss: 2.3022 - val_accuracy: 0.1079\n",
            "Epoch 9/20\n",
            "2625/2625 [==============================] - 6s 2ms/step - loss: 2.3012 - accuracy: 0.1143 - val_loss: 2.3020 - val_accuracy: 0.1079\n",
            "Epoch 10/20\n",
            "2625/2625 [==============================] - 6s 2ms/step - loss: 2.3012 - accuracy: 0.1143 - val_loss: 2.3020 - val_accuracy: 0.1079\n",
            "Epoch 11/20\n",
            "2625/2625 [==============================] - 6s 2ms/step - loss: 2.3012 - accuracy: 0.1143 - val_loss: 2.3018 - val_accuracy: 0.1079\n",
            "Epoch 12/20\n",
            "2625/2625 [==============================] - 6s 2ms/step - loss: 2.3012 - accuracy: 0.1143 - val_loss: 2.3016 - val_accuracy: 0.1079\n",
            "Epoch 13/20\n",
            "2625/2625 [==============================] - 6s 2ms/step - loss: 2.3011 - accuracy: 0.1143 - val_loss: 2.3018 - val_accuracy: 0.1079\n",
            "Epoch 14/20\n",
            "2625/2625 [==============================] - 6s 2ms/step - loss: 2.3013 - accuracy: 0.1143 - val_loss: 2.3020 - val_accuracy: 0.1079\n",
            "Epoch 15/20\n",
            "2625/2625 [==============================] - 6s 2ms/step - loss: 2.3012 - accuracy: 0.1143 - val_loss: 2.3020 - val_accuracy: 0.1079\n",
            "Epoch 16/20\n",
            "2625/2625 [==============================] - 6s 2ms/step - loss: 2.3012 - accuracy: 0.1143 - val_loss: 2.3022 - val_accuracy: 0.1079\n",
            "Epoch 17/20\n",
            "2625/2625 [==============================] - 6s 2ms/step - loss: 2.3012 - accuracy: 0.1143 - val_loss: 2.3021 - val_accuracy: 0.1079\n",
            "Epoch 18/20\n",
            "2625/2625 [==============================] - 6s 2ms/step - loss: 2.3012 - accuracy: 0.1143 - val_loss: 2.3020 - val_accuracy: 0.1079\n",
            "Epoch 19/20\n",
            "2625/2625 [==============================] - 6s 2ms/step - loss: 2.3012 - accuracy: 0.1143 - val_loss: 2.3017 - val_accuracy: 0.1079\n",
            "Epoch 20/20\n",
            "2625/2625 [==============================] - 6s 2ms/step - loss: 2.3012 - accuracy: 0.1143 - val_loss: 2.3021 - val_accuracy: 0.1079\n"
          ],
          "name": "stdout"
        },
        {
          "output_type": "execute_result",
          "data": {
            "text/plain": [
              "<tensorflow.python.keras.callbacks.History at 0x7f0b1a005710>"
            ]
          },
          "metadata": {
            "tags": []
          },
          "execution_count": 66
        }
      ]
    },
    {
      "cell_type": "code",
      "metadata": {
        "id": "j1yc_UXhJLTq",
        "colab_type": "code",
        "outputId": "551c855d-b1e1-4f7a-c6c2-728e7745b03d",
        "colab": {
          "base_uri": "https://localhost:8080/",
          "height": 50
        }
      },
      "source": [
        "test_loss, test_accuracy = dnn.evaluate(x=X_test, y=y_test)\n",
        "print(test_loss, test_accuracy)"
      ],
      "execution_count": 0,
      "outputs": [
        {
          "output_type": "stream",
          "text": [
            "313/313 [==============================] - 0s 1ms/step - loss: 2.3009 - accuracy: 0.1135\n",
            "2.3008995056152344 0.11349999904632568\n"
          ],
          "name": "stdout"
        }
      ]
    },
    {
      "cell_type": "code",
      "metadata": {
        "id": "fHBZ5FJjJhsI",
        "colab_type": "code",
        "colab": {}
      },
      "source": [
        ""
      ],
      "execution_count": 0,
      "outputs": []
    }
  ]
}