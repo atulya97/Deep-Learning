{
  "nbformat": 4,
  "nbformat_minor": 0,
  "metadata": {
    "colab": {
      "name": "mnist using optimization.ipynb",
      "provenance": [],
      "authorship_tag": "ABX9TyMevd2zyXgBlSXvjbJjbCii",
      "include_colab_link": true
    },
    "kernelspec": {
      "name": "python3",
      "display_name": "Python 3"
    },
    "accelerator": "TPU"
  },
  "cells": [
    {
      "cell_type": "markdown",
      "metadata": {
        "id": "view-in-github",
        "colab_type": "text"
      },
      "source": [
        "<a href=\"https://colab.research.google.com/github/atulya97/Deep-Learning/blob/master/mnist_using_optimization.ipynb\" target=\"_parent\"><img src=\"https://colab.research.google.com/assets/colab-badge.svg\" alt=\"Open In Colab\"/></a>"
      ]
    },
    {
      "cell_type": "code",
      "metadata": {
        "id": "HgMRcn4sJMK8",
        "colab_type": "code",
        "colab": {}
      },
      "source": [
        "import numpy as np \n",
        "import pandas as pd \n",
        "import matplotlib.pyplot as plt\n",
        "import tensorflow as tf \n",
        "from tensorflow import keras\n"
      ],
      "execution_count": 0,
      "outputs": []
    },
    {
      "cell_type": "code",
      "metadata": {
        "id": "fsB0SqgsJzDe",
        "colab_type": "code",
        "colab": {}
      },
      "source": [
        "tf.random.set_seed(42)\n",
        "np.random.seed(42)"
      ],
      "execution_count": 0,
      "outputs": []
    },
    {
      "cell_type": "code",
      "metadata": {
        "id": "Vn4MFHpXKdWP",
        "colab_type": "code",
        "colab": {}
      },
      "source": [
        "mnistDB= keras.datasets.mnist"
      ],
      "execution_count": 0,
      "outputs": []
    },
    {
      "cell_type": "code",
      "metadata": {
        "id": "rdEyBJsdLvgO",
        "colab_type": "code",
        "colab": {
          "base_uri": "https://localhost:8080/",
          "height": 50
        },
        "outputId": "325ded53-f201-4ed6-c394-c2acceed0494"
      },
      "source": [
        "(X_train, y_train),(X_test, y_test) = mnistDB.load_data() #it returns  4 values as two tuples..\n"
      ],
      "execution_count": 4,
      "outputs": [
        {
          "output_type": "stream",
          "text": [
            "Downloading data from https://storage.googleapis.com/tensorflow/tf-keras-datasets/mnist.npz\n",
            "11493376/11490434 [==============================] - 0s 0us/step\n"
          ],
          "name": "stdout"
        }
      ]
    },
    {
      "cell_type": "code",
      "metadata": {
        "id": "-2r11lq1Lyr6",
        "colab_type": "code",
        "colab": {}
      },
      "source": [
        "X_train = X_train.reshape((60000, 28*28))\n"
      ],
      "execution_count": 0,
      "outputs": []
    },
    {
      "cell_type": "code",
      "metadata": {
        "id": "pEw7GDgfL7mh",
        "colab_type": "code",
        "colab": {}
      },
      "source": [
        "X_train = X_train.astype('float32')/255 #convert to make it more efficient..\n",
        "#print(X_train[45])"
      ],
      "execution_count": 0,
      "outputs": []
    },
    {
      "cell_type": "code",
      "metadata": {
        "id": "HDWHYsWBMAbc",
        "colab_type": "code",
        "colab": {}
      },
      "source": [
        "X_test = X_test.reshape((10000, 28*28))\n",
        "X_test = X_test.astype('float32')/255"
      ],
      "execution_count": 0,
      "outputs": []
    },
    {
      "cell_type": "code",
      "metadata": {
        "id": "fWY94LeOME-q",
        "colab_type": "code",
        "colab": {}
      },
      "source": [
        "dnn = keras.models.Sequential()\n"
      ],
      "execution_count": 0,
      "outputs": []
    },
    {
      "cell_type": "code",
      "metadata": {
        "id": "INLWirbbOcZE",
        "colab_type": "code",
        "colab": {}
      },
      "source": [
        "dnn.add(keras.layers.Dense(50, activation=\"relu\",input_shape=X_train.shape[1:]))\n",
        "\n",
        "dnn.add(keras.layers.BatchNormalization())"
      ],
      "execution_count": 0,
      "outputs": []
    },
    {
      "cell_type": "code",
      "metadata": {
        "id": "SrtiKySdOhpY",
        "colab_type": "code",
        "colab": {}
      },
      "source": [
        "dnn.add(keras.layers.Dropout(0.1))"
      ],
      "execution_count": 0,
      "outputs": []
    },
    {
      "cell_type": "code",
      "metadata": {
        "id": "EdUNHBnMOe1b",
        "colab_type": "code",
        "colab": {
          "base_uri": "https://localhost:8080/",
          "height": 319
        },
        "outputId": "cc528dba-f04c-4fe1-c61e-c671628473a2"
      },
      "source": [
        "dnn.add(keras.layers.Dense(30, activation=\"relu\"))\n",
        "\n",
        "dnn.add(keras.layers.Dense(10, activation=\"softmax\"))\n",
        "dnn.summary()"
      ],
      "execution_count": 11,
      "outputs": [
        {
          "output_type": "stream",
          "text": [
            "Model: \"sequential\"\n",
            "_________________________________________________________________\n",
            "Layer (type)                 Output Shape              Param #   \n",
            "=================================================================\n",
            "dense (Dense)                (None, 50)                39250     \n",
            "_________________________________________________________________\n",
            "batch_normalization (BatchNo (None, 50)                200       \n",
            "_________________________________________________________________\n",
            "dropout (Dropout)            (None, 50)                0         \n",
            "_________________________________________________________________\n",
            "dense_1 (Dense)              (None, 30)                1530      \n",
            "_________________________________________________________________\n",
            "dense_2 (Dense)              (None, 10)                310       \n",
            "=================================================================\n",
            "Total params: 41,290\n",
            "Trainable params: 41,190\n",
            "Non-trainable params: 100\n",
            "_________________________________________________________________\n"
          ],
          "name": "stdout"
        }
      ]
    },
    {
      "cell_type": "code",
      "metadata": {
        "id": "dqTGwjqgPEH3",
        "colab_type": "code",
        "colab": {}
      },
      "source": [
        "dnn.compile(loss='sparse_categorical_crossentropy',optimizer='adam', metrics=['accuracy']) #instead of rmsprop we can also use adam..."
      ],
      "execution_count": 0,
      "outputs": []
    },
    {
      "cell_type": "code",
      "metadata": {
        "id": "lhQlNNcBPlFE",
        "colab_type": "code",
        "colab": {
          "base_uri": "https://localhost:8080/",
          "height": 705
        },
        "outputId": "812b33d7-587a-44f7-d3bf-aedb034cd182"
      },
      "source": [
        "dnn.fit(x=X_train,y=y_train,validation_split=0.3,epochs=20,batch_size=16)"
      ],
      "execution_count": 13,
      "outputs": [
        {
          "output_type": "stream",
          "text": [
            "Epoch 1/20\n",
            "2625/2625 [==============================] - 6s 2ms/step - loss: 0.4207 - accuracy: 0.8752 - val_loss: 0.2197 - val_accuracy: 0.9348\n",
            "Epoch 2/20\n",
            "2625/2625 [==============================] - 6s 2ms/step - loss: 0.2391 - accuracy: 0.9277 - val_loss: 0.1509 - val_accuracy: 0.9564\n",
            "Epoch 3/20\n",
            "2625/2625 [==============================] - 5s 2ms/step - loss: 0.1974 - accuracy: 0.9392 - val_loss: 0.1341 - val_accuracy: 0.9604\n",
            "Epoch 4/20\n",
            "2625/2625 [==============================] - 6s 2ms/step - loss: 0.1743 - accuracy: 0.9462 - val_loss: 0.1298 - val_accuracy: 0.9617\n",
            "Epoch 5/20\n",
            "2625/2625 [==============================] - 6s 2ms/step - loss: 0.1615 - accuracy: 0.9508 - val_loss: 0.1250 - val_accuracy: 0.9632\n",
            "Epoch 6/20\n",
            "2625/2625 [==============================] - 5s 2ms/step - loss: 0.1478 - accuracy: 0.9536 - val_loss: 0.1229 - val_accuracy: 0.9632\n",
            "Epoch 7/20\n",
            "2625/2625 [==============================] - 6s 2ms/step - loss: 0.1390 - accuracy: 0.9562 - val_loss: 0.1227 - val_accuracy: 0.9645\n",
            "Epoch 8/20\n",
            "2625/2625 [==============================] - 5s 2ms/step - loss: 0.1317 - accuracy: 0.9587 - val_loss: 0.1129 - val_accuracy: 0.9670\n",
            "Epoch 9/20\n",
            "2625/2625 [==============================] - 5s 2ms/step - loss: 0.1277 - accuracy: 0.9601 - val_loss: 0.1145 - val_accuracy: 0.9657\n",
            "Epoch 10/20\n",
            "2625/2625 [==============================] - 5s 2ms/step - loss: 0.1214 - accuracy: 0.9619 - val_loss: 0.1133 - val_accuracy: 0.9668\n",
            "Epoch 11/20\n",
            "2625/2625 [==============================] - 5s 2ms/step - loss: 0.1154 - accuracy: 0.9630 - val_loss: 0.1123 - val_accuracy: 0.9687\n",
            "Epoch 12/20\n",
            "2625/2625 [==============================] - 5s 2ms/step - loss: 0.1107 - accuracy: 0.9652 - val_loss: 0.1062 - val_accuracy: 0.9692\n",
            "Epoch 13/20\n",
            "2625/2625 [==============================] - 5s 2ms/step - loss: 0.1070 - accuracy: 0.9659 - val_loss: 0.1038 - val_accuracy: 0.9709\n",
            "Epoch 14/20\n",
            "2625/2625 [==============================] - 5s 2ms/step - loss: 0.1067 - accuracy: 0.9658 - val_loss: 0.1081 - val_accuracy: 0.9697\n",
            "Epoch 15/20\n",
            "2625/2625 [==============================] - 5s 2ms/step - loss: 0.1036 - accuracy: 0.9674 - val_loss: 0.0995 - val_accuracy: 0.9711\n",
            "Epoch 16/20\n",
            "2625/2625 [==============================] - 5s 2ms/step - loss: 0.0968 - accuracy: 0.9690 - val_loss: 0.1088 - val_accuracy: 0.9684\n",
            "Epoch 17/20\n",
            "2625/2625 [==============================] - 6s 2ms/step - loss: 0.0975 - accuracy: 0.9685 - val_loss: 0.1049 - val_accuracy: 0.9711\n",
            "Epoch 18/20\n",
            "2625/2625 [==============================] - 5s 2ms/step - loss: 0.0917 - accuracy: 0.9697 - val_loss: 0.1043 - val_accuracy: 0.9706\n",
            "Epoch 19/20\n",
            "2625/2625 [==============================] - 6s 2ms/step - loss: 0.0945 - accuracy: 0.9686 - val_loss: 0.1045 - val_accuracy: 0.9706\n",
            "Epoch 20/20\n",
            "2625/2625 [==============================] - 6s 2ms/step - loss: 0.0902 - accuracy: 0.9705 - val_loss: 0.1025 - val_accuracy: 0.9711\n"
          ],
          "name": "stdout"
        },
        {
          "output_type": "execute_result",
          "data": {
            "text/plain": [
              "<tensorflow.python.keras.callbacks.History at 0x7f034f2c5860>"
            ]
          },
          "metadata": {
            "tags": []
          },
          "execution_count": 13
        }
      ]
    },
    {
      "cell_type": "code",
      "metadata": {
        "id": "D47U4meGPrFO",
        "colab_type": "code",
        "colab": {
          "base_uri": "https://localhost:8080/",
          "height": 50
        },
        "outputId": "59e327a0-df68-474f-850c-34fa3908c797"
      },
      "source": [
        "test_loss, test_accuracy = dnn.evaluate(x=X_test, y=y_test)\n",
        "print(test_loss, test_accuracy)"
      ],
      "execution_count": 14,
      "outputs": [
        {
          "output_type": "stream",
          "text": [
            "313/313 [==============================] - 0s 1ms/step - loss: 0.0967 - accuracy: 0.9703\n",
            "0.09672296792268753 0.970300018787384\n"
          ],
          "name": "stdout"
        }
      ]
    },
    {
      "cell_type": "code",
      "metadata": {
        "id": "W-0tgG0XQeLt",
        "colab_type": "code",
        "colab": {}
      },
      "source": [
        ""
      ],
      "execution_count": 0,
      "outputs": []
    }
  ]
}