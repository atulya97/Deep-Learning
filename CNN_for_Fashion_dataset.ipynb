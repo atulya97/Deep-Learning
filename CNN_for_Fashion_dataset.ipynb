{
  "nbformat": 4,
  "nbformat_minor": 0,
  "metadata": {
    "colab": {
      "name": "CNN for Fashion dataset.ipynb",
      "provenance": [],
      "authorship_tag": "ABX9TyNdbKdX1RIqcVSmRgMQFY63",
      "include_colab_link": true
    },
    "kernelspec": {
      "name": "python3",
      "display_name": "Python 3"
    },
    "accelerator": "GPU"
  },
  "cells": [
    {
      "cell_type": "markdown",
      "metadata": {
        "id": "view-in-github",
        "colab_type": "text"
      },
      "source": [
        "<a href=\"https://colab.research.google.com/github/atulya97/Deep-Learning/blob/master/CNN_for_Fashion_dataset.ipynb\" target=\"_parent\"><img src=\"https://colab.research.google.com/assets/colab-badge.svg\" alt=\"Open In Colab\"/></a>"
      ]
    },
    {
      "cell_type": "code",
      "metadata": {
        "id": "8ihsZwo9gsgD",
        "colab_type": "code",
        "colab": {}
      },
      "source": [
        ""
      ],
      "execution_count": 0,
      "outputs": []
    },
    {
      "cell_type": "code",
      "metadata": {
        "id": "G0Tdm3J8dye2",
        "colab_type": "code",
        "colab": {}
      },
      "source": [
        "import numpy as np\n",
        "import pandas as pd\n",
        "import matplotlib.pyplot as plt\n",
        "import tensorflow as tf\n",
        "from tensorflow import keras"
      ],
      "execution_count": 0,
      "outputs": []
    },
    {
      "cell_type": "code",
      "metadata": {
        "id": "h-WLUoodgxES",
        "colab_type": "code",
        "colab": {}
      },
      "source": [
        "tf.random.set_seed(42)\n",
        "np.random.seed(42)\n"
      ],
      "execution_count": 0,
      "outputs": []
    },
    {
      "cell_type": "code",
      "metadata": {
        "id": "rPxTyqgig9M3",
        "colab_type": "code",
        "colab": {}
      },
      "source": [
        "fashionDB=keras.datasets.fashion_mnist"
      ],
      "execution_count": 0,
      "outputs": []
    },
    {
      "cell_type": "code",
      "metadata": {
        "id": "GDIacVmUhAWB",
        "colab_type": "code",
        "colab": {
          "base_uri": "https://localhost:8080/",
          "height": 159
        },
        "outputId": "457af555-c673-44ef-e134-a23dd29d354e"
      },
      "source": [
        "(X_train,y_train),(X_test,y_test)=fashionDB.load_data()"
      ],
      "execution_count": 4,
      "outputs": [
        {
          "output_type": "stream",
          "text": [
            "Downloading data from https://storage.googleapis.com/tensorflow/tf-keras-datasets/train-labels-idx1-ubyte.gz\n",
            "32768/29515 [=================================] - 0s 0us/step\n",
            "Downloading data from https://storage.googleapis.com/tensorflow/tf-keras-datasets/train-images-idx3-ubyte.gz\n",
            "26427392/26421880 [==============================] - 0s 0us/step\n",
            "Downloading data from https://storage.googleapis.com/tensorflow/tf-keras-datasets/t10k-labels-idx1-ubyte.gz\n",
            "8192/5148 [===============================================] - 0s 0us/step\n",
            "Downloading data from https://storage.googleapis.com/tensorflow/tf-keras-datasets/t10k-images-idx3-ubyte.gz\n",
            "4423680/4422102 [==============================] - 0s 0us/step\n"
          ],
          "name": "stdout"
        }
      ]
    },
    {
      "cell_type": "code",
      "metadata": {
        "id": "9bjsori2hDsl",
        "colab_type": "code",
        "colab": {}
      },
      "source": [
        "X_train = X_train.reshape((60000, 28, 28, 1))\n",
        "X_train = X_train.astype('float32')/255\n",
        "X_test = X_test.reshape((10000, 28, 28, 1))\n",
        "X_test = X_test.astype('float32')/255"
      ],
      "execution_count": 0,
      "outputs": []
    },
    {
      "cell_type": "code",
      "metadata": {
        "id": "oXT27E6mhM3k",
        "colab_type": "code",
        "colab": {}
      },
      "source": [
        "cnn = keras.models.Sequential()"
      ],
      "execution_count": 0,
      "outputs": []
    },
    {
      "cell_type": "code",
      "metadata": {
        "id": "tGl_DELshSje",
        "colab_type": "code",
        "colab": {}
      },
      "source": [
        "cnn.add(keras.layers.Conv2D(32, (3,3), activation=\"relu\",input_shape=X_train.shape[1:]))\n"
      ],
      "execution_count": 0,
      "outputs": []
    },
    {
      "cell_type": "code",
      "metadata": {
        "id": "kDwyVTF4hYRF",
        "colab_type": "code",
        "colab": {}
      },
      "source": [
        "cnn.add(keras.layers.MaxPooling2D((2,2)))\n",
        "\n",
        "cnn.add(keras.layers.Conv2D(64, (3,3), activation=\"relu\"))\n",
        "\n",
        "cnn.add(keras.layers.MaxPooling2D((2,2)))\n",
        "\n",
        "cnn.add(keras.layers.Conv2D(64, (3,3), activation=\"relu\"))\n",
        "\n"
      ],
      "execution_count": 0,
      "outputs": []
    },
    {
      "cell_type": "code",
      "metadata": {
        "id": "6BgBS1wfhnpn",
        "colab_type": "code",
        "colab": {}
      },
      "source": [
        "cnn.add(keras.layers.Flatten())\n",
        "\n",
        "cnn.add(keras.layers.Dense(64, activation=\"relu\"))\n",
        "\n",
        "cnn.add(keras.layers.Dense(32, activation=\"relu\"))\n",
        "\n",
        "cnn.add(keras.layers.Dense(10, activation=\"softmax\"))\n"
      ],
      "execution_count": 0,
      "outputs": []
    },
    {
      "cell_type": "code",
      "metadata": {
        "id": "HylrYpBJhwHR",
        "colab_type": "code",
        "colab": {
          "base_uri": "https://localhost:8080/",
          "height": 479
        },
        "outputId": "7cf411eb-0935-484e-834e-a2e329372caf"
      },
      "source": [
        "cnn.summary()"
      ],
      "execution_count": 10,
      "outputs": [
        {
          "output_type": "stream",
          "text": [
            "Model: \"sequential\"\n",
            "_________________________________________________________________\n",
            "Layer (type)                 Output Shape              Param #   \n",
            "=================================================================\n",
            "conv2d (Conv2D)              (None, 26, 26, 32)        320       \n",
            "_________________________________________________________________\n",
            "max_pooling2d (MaxPooling2D) (None, 13, 13, 32)        0         \n",
            "_________________________________________________________________\n",
            "conv2d_1 (Conv2D)            (None, 11, 11, 64)        18496     \n",
            "_________________________________________________________________\n",
            "max_pooling2d_1 (MaxPooling2 (None, 5, 5, 64)          0         \n",
            "_________________________________________________________________\n",
            "conv2d_2 (Conv2D)            (None, 3, 3, 64)          36928     \n",
            "_________________________________________________________________\n",
            "flatten (Flatten)            (None, 576)               0         \n",
            "_________________________________________________________________\n",
            "dense (Dense)                (None, 64)                36928     \n",
            "_________________________________________________________________\n",
            "dense_1 (Dense)              (None, 32)                2080      \n",
            "_________________________________________________________________\n",
            "dense_2 (Dense)              (None, 10)                330       \n",
            "=================================================================\n",
            "Total params: 95,082\n",
            "Trainable params: 95,082\n",
            "Non-trainable params: 0\n",
            "_________________________________________________________________\n"
          ],
          "name": "stdout"
        }
      ]
    },
    {
      "cell_type": "code",
      "metadata": {
        "id": "LsA4dpashzxn",
        "colab_type": "code",
        "colab": {
          "base_uri": "https://localhost:8080/",
          "height": 410
        },
        "outputId": "64031cb2-b1ca-4562-b560-ef998e07e6c7"
      },
      "source": [
        "cnn.compile(loss='sparse_categorical_crossentropy',optimizer='adam', metrics=['accuracy'])\n",
        "\n",
        "\n",
        "cnn.fit(x=X_train, y=y_train, validation_split=0.1, epochs=10, batch_size=16)\n"
      ],
      "execution_count": 12,
      "outputs": [
        {
          "output_type": "stream",
          "text": [
            "Epoch 1/10\n",
            "3375/3375 [==============================] - 16s 5ms/step - loss: 0.5276 - accuracy: 0.8036 - val_loss: 0.3654 - val_accuracy: 0.8670\n",
            "Epoch 2/10\n",
            "3375/3375 [==============================] - 16s 5ms/step - loss: 0.3295 - accuracy: 0.8804 - val_loss: 0.2973 - val_accuracy: 0.8897\n",
            "Epoch 3/10\n",
            "3375/3375 [==============================] - 16s 5ms/step - loss: 0.2790 - accuracy: 0.8976 - val_loss: 0.2740 - val_accuracy: 0.8990\n",
            "Epoch 4/10\n",
            "3375/3375 [==============================] - 16s 5ms/step - loss: 0.2506 - accuracy: 0.9083 - val_loss: 0.2650 - val_accuracy: 0.9053\n",
            "Epoch 5/10\n",
            "3375/3375 [==============================] - 16s 5ms/step - loss: 0.2279 - accuracy: 0.9162 - val_loss: 0.2631 - val_accuracy: 0.9088\n",
            "Epoch 6/10\n",
            "3375/3375 [==============================] - 16s 5ms/step - loss: 0.2082 - accuracy: 0.9224 - val_loss: 0.2559 - val_accuracy: 0.9098\n",
            "Epoch 7/10\n",
            "3375/3375 [==============================] - 16s 5ms/step - loss: 0.1926 - accuracy: 0.9287 - val_loss: 0.2676 - val_accuracy: 0.9100\n",
            "Epoch 8/10\n",
            "3375/3375 [==============================] - 16s 5ms/step - loss: 0.1779 - accuracy: 0.9331 - val_loss: 0.2520 - val_accuracy: 0.9052\n",
            "Epoch 9/10\n",
            "3375/3375 [==============================] - 16s 5ms/step - loss: 0.1667 - accuracy: 0.9378 - val_loss: 0.2711 - val_accuracy: 0.9092\n",
            "Epoch 10/10\n",
            "3375/3375 [==============================] - 16s 5ms/step - loss: 0.1557 - accuracy: 0.9420 - val_loss: 0.2911 - val_accuracy: 0.9103\n"
          ],
          "name": "stdout"
        },
        {
          "output_type": "execute_result",
          "data": {
            "text/plain": [
              "<tensorflow.python.keras.callbacks.History at 0x7f65801792e8>"
            ]
          },
          "metadata": {
            "tags": []
          },
          "execution_count": 12
        }
      ]
    },
    {
      "cell_type": "code",
      "metadata": {
        "id": "5MngCJmrh8bw",
        "colab_type": "code",
        "colab": {
          "base_uri": "https://localhost:8080/",
          "height": 35
        },
        "outputId": "a649ea91-ed51-401f-de54-ba670d827299"
      },
      "source": [
        "test_loss, test_accuracy = cnn.evaluate(x=X_test, y=y_test)\n"
      ],
      "execution_count": 13,
      "outputs": [
        {
          "output_type": "stream",
          "text": [
            "313/313 [==============================] - 1s 3ms/step - loss: 0.3055 - accuracy: 0.9024\n"
          ],
          "name": "stdout"
        }
      ]
    },
    {
      "cell_type": "code",
      "metadata": {
        "id": "MP8Fi61SiKZc",
        "colab_type": "code",
        "colab": {
          "base_uri": "https://localhost:8080/",
          "height": 35
        },
        "outputId": "531ab291-83a4-4c86-e9af-12e59b8e5ce3"
      },
      "source": [
        "print(test_loss, test_accuracy)"
      ],
      "execution_count": 14,
      "outputs": [
        {
          "output_type": "stream",
          "text": [
            "0.30548563599586487 0.902400016784668\n"
          ],
          "name": "stdout"
        }
      ]
    },
    {
      "cell_type": "code",
      "metadata": {
        "id": "u5MFSw3UiNMX",
        "colab_type": "code",
        "colab": {}
      },
      "source": [
        ""
      ],
      "execution_count": 0,
      "outputs": []
    }
  ]
}