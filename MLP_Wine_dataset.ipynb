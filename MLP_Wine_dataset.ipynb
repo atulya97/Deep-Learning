{
  "nbformat": 4,
  "nbformat_minor": 0,
  "metadata": {
    "colab": {
      "name": "MLP- Wine dataset.ipynb",
      "provenance": [],
      "authorship_tag": "ABX9TyNEugO/OUqv8AzKImp9Ywry",
      "include_colab_link": true
    },
    "kernelspec": {
      "name": "python3",
      "display_name": "Python 3"
    }
  },
  "cells": [
    {
      "cell_type": "markdown",
      "metadata": {
        "id": "view-in-github",
        "colab_type": "text"
      },
      "source": [
        "<a href=\"https://colab.research.google.com/github/atulya97/Deep-Learning/blob/master/MLP_Wine_dataset.ipynb\" target=\"_parent\"><img src=\"https://colab.research.google.com/assets/colab-badge.svg\" alt=\"Open In Colab\"/></a>"
      ]
    },
    {
      "cell_type": "code",
      "metadata": {
        "id": "kZABGHQOIZGb",
        "colab_type": "code",
        "colab": {}
      },
      "source": [
        "import numpy as np \n",
        "import pandas as pd \n",
        "import matplotlib.pyplot as plt\n"
      ],
      "execution_count": 0,
      "outputs": []
    },
    {
      "cell_type": "code",
      "metadata": {
        "id": "ezeKL8gvIuBR",
        "colab_type": "code",
        "colab": {}
      },
      "source": [
        "from sklearn.datasets import load_wine\n"
      ],
      "execution_count": 0,
      "outputs": []
    },
    {
      "cell_type": "code",
      "metadata": {
        "id": "U_WUtHIBIwNh",
        "colab_type": "code",
        "outputId": "640fd037-5295-431e-cb74-b1955e80ae64",
        "colab": {
          "base_uri": "https://localhost:8080/",
          "height": 79
        }
      },
      "source": [
        "import tensorflow as tf \n",
        "from tensorflow import keras\n"
      ],
      "execution_count": 0,
      "outputs": [
        {
          "output_type": "display_data",
          "data": {
            "text/html": [
              "<p style=\"color: red;\">\n",
              "The default version of TensorFlow in Colab will soon switch to TensorFlow 2.x.<br>\n",
              "We recommend you <a href=\"https://www.tensorflow.org/guide/migrate\" target=\"_blank\">upgrade</a> now \n",
              "or ensure your notebook will continue to use TensorFlow 1.x via the <code>%tensorflow_version 1.x</code> magic:\n",
              "<a href=\"https://colab.research.google.com/notebooks/tensorflow_version.ipynb\" target=\"_blank\">more info</a>.</p>\n"
            ],
            "text/plain": [
              "<IPython.core.display.HTML object>"
            ]
          },
          "metadata": {
            "tags": []
          }
        }
      ]
    },
    {
      "cell_type": "code",
      "metadata": {
        "id": "5bHCa30xI0TD",
        "colab_type": "code",
        "colab": {}
      },
      "source": [
        "tf.set_random_seed(42) \n",
        "np.random.seed(42)"
      ],
      "execution_count": 0,
      "outputs": []
    },
    {
      "cell_type": "code",
      "metadata": {
        "id": "Kcyw3h82I4do",
        "colab_type": "code",
        "colab": {}
      },
      "source": [
        "wineData = load_wine()\n"
      ],
      "execution_count": 0,
      "outputs": []
    },
    {
      "cell_type": "code",
      "metadata": {
        "id": "MuekMSN8I6xD",
        "colab_type": "code",
        "colab": {}
      },
      "source": [
        "X = wineData.data \n",
        "y = wineData.target\n"
      ],
      "execution_count": 0,
      "outputs": []
    },
    {
      "cell_type": "code",
      "metadata": {
        "id": "e_Mi7T6wI-zc",
        "colab_type": "code",
        "colab": {}
      },
      "source": [
        "from sklearn.model_selection import train_test_split\n",
        "\n",
        "X_train, X_test, y_train, y_test = train_test_split(X, y, test_size=0.2,stratify=y, random_state=42)\n",
        "\n"
      ],
      "execution_count": 0,
      "outputs": []
    },
    {
      "cell_type": "code",
      "metadata": {
        "id": "yVFHI-tiJZUC",
        "colab_type": "code",
        "outputId": "e7fadb0e-4a72-4e27-f69e-08c002f6496a",
        "colab": {
          "base_uri": "https://localhost:8080/",
          "height": 33
        }
      },
      "source": [
        "from sklearn.preprocessing import StandardScaler \n",
        "sc = StandardScaler()\n",
        "sc.fit(X_train)"
      ],
      "execution_count": 0,
      "outputs": [
        {
          "output_type": "execute_result",
          "data": {
            "text/plain": [
              "StandardScaler(copy=True, with_mean=True, with_std=True)"
            ]
          },
          "metadata": {
            "tags": []
          },
          "execution_count": 9
        }
      ]
    },
    {
      "cell_type": "code",
      "metadata": {
        "id": "LjRwNvb1JdP3",
        "colab_type": "code",
        "colab": {}
      },
      "source": [
        "X_train_std = sc.transform(X_train) \n",
        "X_test_std = sc.transform(X_test)\n"
      ],
      "execution_count": 0,
      "outputs": []
    },
    {
      "cell_type": "code",
      "metadata": {
        "id": "cnoP1wDHJq_B",
        "colab_type": "code",
        "colab": {}
      },
      "source": [
        "model_MLP = keras.models.Sequential()\n",
        "\n",
        "model_MLP.add(keras.layers.Dense(units=5, activation='relu',input_shape= X_train.shape[1:]))\n",
        "\n",
        "model_MLP.add(keras.layers.Dense(units=3, activation='softmax'))"
      ],
      "execution_count": 0,
      "outputs": []
    },
    {
      "cell_type": "code",
      "metadata": {
        "id": "2qcxi-KGJ4-E",
        "colab_type": "code",
        "outputId": "40433b0d-4c32-47d5-d399-d5aa29fe6817",
        "colab": {
          "base_uri": "https://localhost:8080/",
          "height": 217
        }
      },
      "source": [
        "model_MLP.summary()"
      ],
      "execution_count": 0,
      "outputs": [
        {
          "output_type": "stream",
          "text": [
            "Model: \"sequential_1\"\n",
            "_________________________________________________________________\n",
            "Layer (type)                 Output Shape              Param #   \n",
            "=================================================================\n",
            "dense_1 (Dense)              (None, 5)                 70        \n",
            "_________________________________________________________________\n",
            "dense_2 (Dense)              (None, 3)                 18        \n",
            "=================================================================\n",
            "Total params: 88\n",
            "Trainable params: 88\n",
            "Non-trainable params: 0\n",
            "_________________________________________________________________\n"
          ],
          "name": "stdout"
        }
      ]
    },
    {
      "cell_type": "code",
      "metadata": {
        "id": "EGjuO5CrKHN0",
        "colab_type": "code",
        "colab": {}
      },
      "source": [
        "model_MLP.compile(loss='sparse_categorical_crossentropy',optimizer='adam', metrics=['accuracy'])\n"
      ],
      "execution_count": 0,
      "outputs": []
    },
    {
      "cell_type": "code",
      "metadata": {
        "id": "SaksBXb9KWEe",
        "colab_type": "code",
        "outputId": "114da142-f975-4b72-8142-9ea9780d2605",
        "colab": {
          "base_uri": "https://localhost:8080/",
          "height": 1000
        }
      },
      "source": [
        "model_MLP.fit(x=X_train_std, y=y_train, validation_split=0.1, epochs=50, batch_size=16)\n"
      ],
      "execution_count": 0,
      "outputs": [
        {
          "output_type": "stream",
          "text": [
            "Train on 127 samples, validate on 15 samples\n",
            "Epoch 1/50\n",
            "127/127 [==============================] - 0s 2ms/sample - loss: 1.3200 - acc: 0.4409 - val_loss: 1.6552 - val_acc: 0.3333\n",
            "Epoch 2/50\n",
            "127/127 [==============================] - 0s 105us/sample - loss: 1.2737 - acc: 0.4488 - val_loss: 1.5962 - val_acc: 0.3333\n",
            "Epoch 3/50\n",
            "127/127 [==============================] - 0s 148us/sample - loss: 1.2304 - acc: 0.4488 - val_loss: 1.5442 - val_acc: 0.3333\n",
            "Epoch 4/50\n",
            "127/127 [==============================] - 0s 122us/sample - loss: 1.1877 - acc: 0.4567 - val_loss: 1.4997 - val_acc: 0.3333\n",
            "Epoch 5/50\n",
            "127/127 [==============================] - 0s 124us/sample - loss: 1.1508 - acc: 0.4646 - val_loss: 1.4562 - val_acc: 0.3333\n",
            "Epoch 6/50\n",
            "127/127 [==============================] - 0s 124us/sample - loss: 1.1159 - acc: 0.4646 - val_loss: 1.4161 - val_acc: 0.3333\n",
            "Epoch 7/50\n",
            "127/127 [==============================] - 0s 121us/sample - loss: 1.0812 - acc: 0.4803 - val_loss: 1.3780 - val_acc: 0.3333\n",
            "Epoch 8/50\n",
            "127/127 [==============================] - 0s 124us/sample - loss: 1.0510 - acc: 0.4882 - val_loss: 1.3427 - val_acc: 0.3333\n",
            "Epoch 9/50\n",
            "127/127 [==============================] - 0s 110us/sample - loss: 1.0203 - acc: 0.4882 - val_loss: 1.3111 - val_acc: 0.3333\n",
            "Epoch 10/50\n",
            "127/127 [==============================] - 0s 120us/sample - loss: 0.9925 - acc: 0.4882 - val_loss: 1.2807 - val_acc: 0.3333\n",
            "Epoch 11/50\n",
            "127/127 [==============================] - 0s 113us/sample - loss: 0.9651 - acc: 0.4882 - val_loss: 1.2526 - val_acc: 0.4000\n",
            "Epoch 12/50\n",
            "127/127 [==============================] - 0s 108us/sample - loss: 0.9416 - acc: 0.5118 - val_loss: 1.2244 - val_acc: 0.4000\n",
            "Epoch 13/50\n",
            "127/127 [==============================] - 0s 113us/sample - loss: 0.9147 - acc: 0.5276 - val_loss: 1.1988 - val_acc: 0.4667\n",
            "Epoch 14/50\n",
            "127/127 [==============================] - 0s 125us/sample - loss: 0.8929 - acc: 0.5354 - val_loss: 1.1740 - val_acc: 0.4667\n",
            "Epoch 15/50\n",
            "127/127 [==============================] - 0s 104us/sample - loss: 0.8716 - acc: 0.5354 - val_loss: 1.1497 - val_acc: 0.4667\n",
            "Epoch 16/50\n",
            "127/127 [==============================] - 0s 98us/sample - loss: 0.8510 - acc: 0.5354 - val_loss: 1.1262 - val_acc: 0.4667\n",
            "Epoch 17/50\n",
            "127/127 [==============================] - 0s 109us/sample - loss: 0.8316 - acc: 0.5354 - val_loss: 1.1040 - val_acc: 0.5333\n",
            "Epoch 18/50\n",
            "127/127 [==============================] - 0s 98us/sample - loss: 0.8119 - acc: 0.5433 - val_loss: 1.0826 - val_acc: 0.5333\n",
            "Epoch 19/50\n",
            "127/127 [==============================] - 0s 98us/sample - loss: 0.7933 - acc: 0.5669 - val_loss: 1.0624 - val_acc: 0.5333\n",
            "Epoch 20/50\n",
            "127/127 [==============================] - 0s 105us/sample - loss: 0.7755 - acc: 0.5748 - val_loss: 1.0424 - val_acc: 0.5333\n",
            "Epoch 21/50\n",
            "127/127 [==============================] - 0s 114us/sample - loss: 0.7567 - acc: 0.6220 - val_loss: 1.0224 - val_acc: 0.5333\n",
            "Epoch 22/50\n",
            "127/127 [==============================] - 0s 118us/sample - loss: 0.7412 - acc: 0.6378 - val_loss: 1.0030 - val_acc: 0.5333\n",
            "Epoch 23/50\n",
            "127/127 [==============================] - 0s 115us/sample - loss: 0.7246 - acc: 0.6535 - val_loss: 0.9843 - val_acc: 0.5333\n",
            "Epoch 24/50\n",
            "127/127 [==============================] - 0s 124us/sample - loss: 0.7086 - acc: 0.6535 - val_loss: 0.9663 - val_acc: 0.5333\n",
            "Epoch 25/50\n",
            "127/127 [==============================] - 0s 153us/sample - loss: 0.6929 - acc: 0.6772 - val_loss: 0.9485 - val_acc: 0.5333\n",
            "Epoch 26/50\n",
            "127/127 [==============================] - 0s 116us/sample - loss: 0.6779 - acc: 0.6929 - val_loss: 0.9296 - val_acc: 0.6000\n",
            "Epoch 27/50\n",
            "127/127 [==============================] - 0s 118us/sample - loss: 0.6637 - acc: 0.6929 - val_loss: 0.9110 - val_acc: 0.6000\n",
            "Epoch 28/50\n",
            "127/127 [==============================] - 0s 114us/sample - loss: 0.6499 - acc: 0.7087 - val_loss: 0.8925 - val_acc: 0.6000\n",
            "Epoch 29/50\n",
            "127/127 [==============================] - 0s 124us/sample - loss: 0.6365 - acc: 0.7244 - val_loss: 0.8745 - val_acc: 0.6000\n",
            "Epoch 30/50\n",
            "127/127 [==============================] - 0s 154us/sample - loss: 0.6229 - acc: 0.7323 - val_loss: 0.8556 - val_acc: 0.6000\n",
            "Epoch 31/50\n",
            "127/127 [==============================] - 0s 115us/sample - loss: 0.6095 - acc: 0.7323 - val_loss: 0.8369 - val_acc: 0.6667\n",
            "Epoch 32/50\n",
            "127/127 [==============================] - 0s 99us/sample - loss: 0.5960 - acc: 0.7480 - val_loss: 0.8188 - val_acc: 0.6667\n",
            "Epoch 33/50\n",
            "127/127 [==============================] - 0s 123us/sample - loss: 0.5835 - acc: 0.7480 - val_loss: 0.8011 - val_acc: 0.6667\n",
            "Epoch 34/50\n",
            "127/127 [==============================] - 0s 88us/sample - loss: 0.5720 - acc: 0.7480 - val_loss: 0.7816 - val_acc: 0.6667\n",
            "Epoch 35/50\n",
            "127/127 [==============================] - 0s 91us/sample - loss: 0.5591 - acc: 0.7480 - val_loss: 0.7641 - val_acc: 0.6667\n",
            "Epoch 36/50\n",
            "127/127 [==============================] - 0s 106us/sample - loss: 0.5482 - acc: 0.7559 - val_loss: 0.7459 - val_acc: 0.6667\n",
            "Epoch 37/50\n",
            "127/127 [==============================] - 0s 164us/sample - loss: 0.5365 - acc: 0.7638 - val_loss: 0.7293 - val_acc: 0.7333\n",
            "Epoch 38/50\n",
            "127/127 [==============================] - 0s 99us/sample - loss: 0.5263 - acc: 0.7717 - val_loss: 0.7122 - val_acc: 0.7333\n",
            "Epoch 39/50\n",
            "127/127 [==============================] - 0s 96us/sample - loss: 0.5157 - acc: 0.7717 - val_loss: 0.6943 - val_acc: 0.7333\n",
            "Epoch 40/50\n",
            "127/127 [==============================] - 0s 105us/sample - loss: 0.5049 - acc: 0.7717 - val_loss: 0.6761 - val_acc: 0.8000\n",
            "Epoch 41/50\n",
            "127/127 [==============================] - 0s 107us/sample - loss: 0.4943 - acc: 0.7874 - val_loss: 0.6582 - val_acc: 0.8000\n",
            "Epoch 42/50\n",
            "127/127 [==============================] - 0s 101us/sample - loss: 0.4838 - acc: 0.8031 - val_loss: 0.6393 - val_acc: 0.8000\n",
            "Epoch 43/50\n",
            "127/127 [==============================] - 0s 104us/sample - loss: 0.4720 - acc: 0.8110 - val_loss: 0.6223 - val_acc: 0.8667\n",
            "Epoch 44/50\n",
            "127/127 [==============================] - 0s 99us/sample - loss: 0.4611 - acc: 0.8346 - val_loss: 0.6035 - val_acc: 0.8667\n",
            "Epoch 45/50\n",
            "127/127 [==============================] - 0s 97us/sample - loss: 0.4498 - acc: 0.8504 - val_loss: 0.5857 - val_acc: 0.8667\n",
            "Epoch 46/50\n",
            "127/127 [==============================] - 0s 96us/sample - loss: 0.4391 - acc: 0.8661 - val_loss: 0.5679 - val_acc: 0.8667\n",
            "Epoch 47/50\n",
            "127/127 [==============================] - 0s 109us/sample - loss: 0.4285 - acc: 0.8740 - val_loss: 0.5497 - val_acc: 0.8667\n",
            "Epoch 48/50\n",
            "127/127 [==============================] - 0s 108us/sample - loss: 0.4181 - acc: 0.8898 - val_loss: 0.5318 - val_acc: 0.8667\n",
            "Epoch 49/50\n",
            "127/127 [==============================] - 0s 133us/sample - loss: 0.4074 - acc: 0.9055 - val_loss: 0.5136 - val_acc: 0.8667\n",
            "Epoch 50/50\n",
            "127/127 [==============================] - 0s 104us/sample - loss: 0.3969 - acc: 0.9134 - val_loss: 0.4959 - val_acc: 0.8667\n"
          ],
          "name": "stdout"
        },
        {
          "output_type": "execute_result",
          "data": {
            "text/plain": [
              "<tensorflow.python.keras.callbacks.History at 0x7f8eb68a4f28>"
            ]
          },
          "metadata": {
            "tags": []
          },
          "execution_count": 15
        }
      ]
    },
    {
      "cell_type": "code",
      "metadata": {
        "id": "WFjoWy2TKchj",
        "colab_type": "code",
        "outputId": "05e60357-9a46-4a25-9f70-e5dd6b8b0310",
        "colab": {
          "base_uri": "https://localhost:8080/",
          "height": 53
        }
      },
      "source": [
        "test_loss, test_accuracy = model_MLP.evaluate(x=X_test_std, y=y_test)\n"
      ],
      "execution_count": 0,
      "outputs": [
        {
          "output_type": "stream",
          "text": [
            "36/36 [==============================] - 0s 264us/sample - loss: 0.4100 - acc: 0.8611\n"
          ],
          "name": "stdout"
        }
      ]
    },
    {
      "cell_type": "code",
      "metadata": {
        "id": "Gp-axvK5Kh6X",
        "colab_type": "code",
        "outputId": "c17cf790-ed2a-43d8-d6d5-f9407723430e",
        "colab": {
          "base_uri": "https://localhost:8080/",
          "height": 33
        }
      },
      "source": [
        "print(test_loss, test_accuracy)"
      ],
      "execution_count": 0,
      "outputs": [
        {
          "output_type": "stream",
          "text": [
            "0.41002004014121163 0.8611111\n"
          ],
          "name": "stdout"
        }
      ]
    },
    {
      "cell_type": "code",
      "metadata": {
        "id": "6av8FO7JKmcM",
        "colab_type": "code",
        "colab": {}
      },
      "source": [
        ""
      ],
      "execution_count": 0,
      "outputs": []
    }
  ]
}