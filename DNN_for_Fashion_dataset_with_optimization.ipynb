{
  "nbformat": 4,
  "nbformat_minor": 0,
  "metadata": {
    "colab": {
      "name": " DNN for Fashion dataset with optimization.ipynb",
      "provenance": [],
      "authorship_tag": "ABX9TyOEXrGFoV77eRyXMyb7jzV9",
      "include_colab_link": true
    },
    "kernelspec": {
      "name": "python3",
      "display_name": "Python 3"
    },
    "accelerator": "TPU"
  },
  "cells": [
    {
      "cell_type": "markdown",
      "metadata": {
        "id": "view-in-github",
        "colab_type": "text"
      },
      "source": [
        "<a href=\"https://colab.research.google.com/github/atulya97/Deep-Learning/blob/master/DNN_for_Fashion_dataset_with_optimization.ipynb\" target=\"_parent\"><img src=\"https://colab.research.google.com/assets/colab-badge.svg\" alt=\"Open In Colab\"/></a>"
      ]
    },
    {
      "cell_type": "code",
      "metadata": {
        "id": "HdI29CCp8RzI",
        "colab_type": "code",
        "colab": {}
      },
      "source": [
        "import numpy as np\n",
        "import pandas as pd\n",
        "import matplotlib.pyplot as plt\n",
        "import tensorflow as tf\n",
        "from tensorflow import keras"
      ],
      "execution_count": 0,
      "outputs": []
    },
    {
      "cell_type": "code",
      "metadata": {
        "id": "W-bDpP7y8fGX",
        "colab_type": "code",
        "colab": {}
      },
      "source": [
        "tf.random.set_seed(42)\n",
        "np.random.seed(42)\n"
      ],
      "execution_count": 0,
      "outputs": []
    },
    {
      "cell_type": "code",
      "metadata": {
        "id": "xjDdfOh_9BRU",
        "colab_type": "code",
        "colab": {}
      },
      "source": [
        "fashionDB=keras.datasets.fashion_mnist"
      ],
      "execution_count": 0,
      "outputs": []
    },
    {
      "cell_type": "code",
      "metadata": {
        "id": "pZOl28NI9VKV",
        "colab_type": "code",
        "colab": {
          "base_uri": "https://localhost:8080/",
          "height": 159
        },
        "outputId": "4ac0319a-b991-4a09-bbc1-050809570498"
      },
      "source": [
        "(X_train,y_train),(X_test,y_test)=fashionDB.load_data()"
      ],
      "execution_count": 7,
      "outputs": [
        {
          "output_type": "stream",
          "text": [
            "Downloading data from https://storage.googleapis.com/tensorflow/tf-keras-datasets/train-labels-idx1-ubyte.gz\n",
            "32768/29515 [=================================] - 0s 0us/step\n",
            "Downloading data from https://storage.googleapis.com/tensorflow/tf-keras-datasets/train-images-idx3-ubyte.gz\n",
            "26427392/26421880 [==============================] - 0s 0us/step\n",
            "Downloading data from https://storage.googleapis.com/tensorflow/tf-keras-datasets/t10k-labels-idx1-ubyte.gz\n",
            "8192/5148 [===============================================] - 0s 0us/step\n",
            "Downloading data from https://storage.googleapis.com/tensorflow/tf-keras-datasets/t10k-images-idx3-ubyte.gz\n",
            "4423680/4422102 [==============================] - 0s 0us/step\n"
          ],
          "name": "stdout"
        }
      ]
    },
    {
      "cell_type": "code",
      "metadata": {
        "id": "sEy3GZ5I9fbX",
        "colab_type": "code",
        "colab": {}
      },
      "source": [
        "X_train=X_train.reshape((60000,28*28))\n",
        "X_train=X_train.astype('float32')/255\n",
        "X_test=X_test.reshape((10000,28*28))\n",
        "X_test=X_test.astype('float32')/255\n"
      ],
      "execution_count": 0,
      "outputs": []
    },
    {
      "cell_type": "code",
      "metadata": {
        "id": "dVHW2Mjr-CoX",
        "colab_type": "code",
        "colab": {
          "base_uri": "https://localhost:8080/",
          "height": 35
        },
        "outputId": "520cc8ec-9b19-43ba-a252-fac58aec37a5"
      },
      "source": [
        "mu=X_train.mean()\n",
        "std=X_train.std()\n",
        "print(mu,std)"
      ],
      "execution_count": 10,
      "outputs": [
        {
          "output_type": "stream",
          "text": [
            "0.2860402 0.3530239\n"
          ],
          "name": "stdout"
        }
      ]
    },
    {
      "cell_type": "code",
      "metadata": {
        "id": "zyTmFLsD-M7N",
        "colab_type": "code",
        "colab": {}
      },
      "source": [
        "X_train_std = (X_train - mu)/std\n",
        "X_test_std = (X_test - mu)/std\n"
      ],
      "execution_count": 0,
      "outputs": []
    },
    {
      "cell_type": "code",
      "metadata": {
        "id": "f49lN6Cm-ZTx",
        "colab_type": "code",
        "colab": {}
      },
      "source": [
        "dnn=keras.models.Sequential()"
      ],
      "execution_count": 0,
      "outputs": []
    },
    {
      "cell_type": "code",
      "metadata": {
        "id": "okXGGSob-hLQ",
        "colab_type": "code",
        "colab": {}
      },
      "source": [
        "dnn.add(keras.layers.Dense(50,activation=\"relu\",input_shape=X_train.shape[1:]))"
      ],
      "execution_count": 0,
      "outputs": []
    },
    {
      "cell_type": "code",
      "metadata": {
        "id": "B6DovDVn-z3Q",
        "colab_type": "code",
        "colab": {}
      },
      "source": [
        "dnn.add(keras.layers.BatchNormalization())\n"
      ],
      "execution_count": 0,
      "outputs": []
    },
    {
      "cell_type": "code",
      "metadata": {
        "id": "aXA5r-Zy-2ri",
        "colab_type": "code",
        "colab": {}
      },
      "source": [
        "dnn.add(keras.layers.Dropout(0.1))\n"
      ],
      "execution_count": 0,
      "outputs": []
    },
    {
      "cell_type": "code",
      "metadata": {
        "id": "FQPUZ2en-_Rp",
        "colab_type": "code",
        "colab": {}
      },
      "source": [
        "\n",
        "\n",
        "dnn.add(keras.layers.Dense(30, activation=\"relu\"))"
      ],
      "execution_count": 0,
      "outputs": []
    },
    {
      "cell_type": "code",
      "metadata": {
        "id": "xW5fmbVQ_C-D",
        "colab_type": "code",
        "colab": {}
      },
      "source": [
        "dnn.add(keras.layers.Dense(10, activation=\"softmax\"))\n"
      ],
      "execution_count": 0,
      "outputs": []
    },
    {
      "cell_type": "code",
      "metadata": {
        "id": "dC2SHzth_GIr",
        "colab_type": "code",
        "colab": {
          "base_uri": "https://localhost:8080/",
          "height": 657
        },
        "outputId": "55e67c54-fb4f-4394-ca29-4c1dfa0d018b"
      },
      "source": [
        "dnn.summary()"
      ],
      "execution_count": 44,
      "outputs": [
        {
          "output_type": "stream",
          "text": [
            "Model: \"sequential\"\n",
            "_________________________________________________________________\n",
            "Layer (type)                 Output Shape              Param #   \n",
            "=================================================================\n",
            "dense (Dense)                (None, 50)                39250     \n",
            "_________________________________________________________________\n",
            "batch_normalization (BatchNo (None, 50)                200       \n",
            "_________________________________________________________________\n",
            "dropout (Dropout)            (None, 50)                0         \n",
            "_________________________________________________________________\n",
            "dense_1 (Dense)              (None, 30)                1530      \n",
            "_________________________________________________________________\n",
            "dense_2 (Dense)              (None, 10)                310       \n",
            "_________________________________________________________________\n",
            "dense_3 (Dense)              (None, 40)                440       \n",
            "_________________________________________________________________\n",
            "dense_4 (Dense)              (None, 30)                1230      \n",
            "_________________________________________________________________\n",
            "dense_5 (Dense)              (None, 20)                620       \n",
            "_________________________________________________________________\n",
            "dense_6 (Dense)              (None, 10)                210       \n",
            "_________________________________________________________________\n",
            "dense_7 (Dense)              (None, 40)                440       \n",
            "_________________________________________________________________\n",
            "dense_8 (Dense)              (None, 30)                1230      \n",
            "_________________________________________________________________\n",
            "dense_9 (Dense)              (None, 10)                310       \n",
            "_________________________________________________________________\n",
            "dense_10 (Dense)             (None, 30)                330       \n",
            "_________________________________________________________________\n",
            "dense_11 (Dense)             (None, 10)                310       \n",
            "=================================================================\n",
            "Total params: 46,410\n",
            "Trainable params: 46,310\n",
            "Non-trainable params: 100\n",
            "_________________________________________________________________\n"
          ],
          "name": "stdout"
        }
      ]
    },
    {
      "cell_type": "code",
      "metadata": {
        "id": "Hw6CoKOQ_IlJ",
        "colab_type": "code",
        "colab": {}
      },
      "source": [
        "dnn.compile(loss='sparse_categorical_crossentropy',optimizer='adam', metrics=['accuracy'])\n"
      ],
      "execution_count": 0,
      "outputs": []
    },
    {
      "cell_type": "code",
      "metadata": {
        "id": "kcWzcSHW_Pci",
        "colab_type": "code",
        "colab": {
          "base_uri": "https://localhost:8080/",
          "height": 944
        },
        "outputId": "10398d85-4e85-44c3-dfda-4336f1c07947"
      },
      "source": [
        "dnn.fit(x=X_train_std, y=y_train, validation_split=0.3, epochs=25,batch_size=16)\n"
      ],
      "execution_count": 46,
      "outputs": [
        {
          "output_type": "stream",
          "text": [
            "Epoch 1/25\n",
            "2625/2625 [==============================] - 8s 3ms/step - loss: 0.4645 - accuracy: 0.8745 - val_loss: 0.3596 - val_accuracy: 0.8865\n",
            "Epoch 2/25\n",
            "2625/2625 [==============================] - 7s 3ms/step - loss: 0.2306 - accuracy: 0.9208 - val_loss: 0.3756 - val_accuracy: 0.8843\n",
            "Epoch 3/25\n",
            "2625/2625 [==============================] - 7s 3ms/step - loss: 0.2227 - accuracy: 0.9227 - val_loss: 0.3777 - val_accuracy: 0.8892\n",
            "Epoch 4/25\n",
            "2625/2625 [==============================] - 7s 3ms/step - loss: 0.2265 - accuracy: 0.9219 - val_loss: 0.3657 - val_accuracy: 0.8861\n",
            "Epoch 5/25\n",
            "2625/2625 [==============================] - 7s 3ms/step - loss: 0.2219 - accuracy: 0.9219 - val_loss: 0.3652 - val_accuracy: 0.8852\n",
            "Epoch 6/25\n",
            "2625/2625 [==============================] - 7s 3ms/step - loss: 0.2239 - accuracy: 0.9226 - val_loss: 0.3562 - val_accuracy: 0.8888\n",
            "Epoch 7/25\n",
            "2625/2625 [==============================] - 7s 3ms/step - loss: 0.2239 - accuracy: 0.9222 - val_loss: 0.3589 - val_accuracy: 0.8868\n",
            "Epoch 8/25\n",
            "2625/2625 [==============================] - 7s 3ms/step - loss: 0.2198 - accuracy: 0.9227 - val_loss: 0.3628 - val_accuracy: 0.8872\n",
            "Epoch 9/25\n",
            "2625/2625 [==============================] - 7s 3ms/step - loss: 0.2222 - accuracy: 0.9198 - val_loss: 0.3684 - val_accuracy: 0.8832\n",
            "Epoch 10/25\n",
            "2625/2625 [==============================] - 7s 3ms/step - loss: 0.2234 - accuracy: 0.9200 - val_loss: 0.3653 - val_accuracy: 0.8876\n",
            "Epoch 11/25\n",
            "2625/2625 [==============================] - 7s 3ms/step - loss: 0.2201 - accuracy: 0.9214 - val_loss: 0.3499 - val_accuracy: 0.8902\n",
            "Epoch 12/25\n",
            "2625/2625 [==============================] - 8s 3ms/step - loss: 0.2187 - accuracy: 0.9224 - val_loss: 0.3823 - val_accuracy: 0.8851\n",
            "Epoch 13/25\n",
            "2625/2625 [==============================] - 8s 3ms/step - loss: 0.2194 - accuracy: 0.9226 - val_loss: 0.3733 - val_accuracy: 0.8854\n",
            "Epoch 14/25\n",
            "2625/2625 [==============================] - 8s 3ms/step - loss: 0.2156 - accuracy: 0.9248 - val_loss: 0.3638 - val_accuracy: 0.8857\n",
            "Epoch 15/25\n",
            "2625/2625 [==============================] - 8s 3ms/step - loss: 0.2213 - accuracy: 0.9228 - val_loss: 0.3626 - val_accuracy: 0.8884\n",
            "Epoch 16/25\n",
            "2625/2625 [==============================] - 7s 3ms/step - loss: 0.2210 - accuracy: 0.9224 - val_loss: 0.3427 - val_accuracy: 0.8894\n",
            "Epoch 17/25\n",
            "2625/2625 [==============================] - 7s 3ms/step - loss: 0.2157 - accuracy: 0.9250 - val_loss: 0.3624 - val_accuracy: 0.8862\n",
            "Epoch 18/25\n",
            "2625/2625 [==============================] - 7s 3ms/step - loss: 0.2225 - accuracy: 0.9226 - val_loss: 0.3915 - val_accuracy: 0.8839\n",
            "Epoch 19/25\n",
            "2625/2625 [==============================] - 7s 3ms/step - loss: 0.2213 - accuracy: 0.9215 - val_loss: 0.3671 - val_accuracy: 0.8894\n",
            "Epoch 20/25\n",
            "2625/2625 [==============================] - 7s 3ms/step - loss: 0.2198 - accuracy: 0.9214 - val_loss: 0.3544 - val_accuracy: 0.8889\n",
            "Epoch 21/25\n",
            "2625/2625 [==============================] - 7s 3ms/step - loss: 0.2181 - accuracy: 0.9235 - val_loss: 0.3475 - val_accuracy: 0.8890\n",
            "Epoch 22/25\n",
            "2625/2625 [==============================] - 7s 3ms/step - loss: 0.2186 - accuracy: 0.9224 - val_loss: 0.3615 - val_accuracy: 0.8872\n",
            "Epoch 23/25\n",
            "2625/2625 [==============================] - 7s 3ms/step - loss: 0.2221 - accuracy: 0.9224 - val_loss: 0.3481 - val_accuracy: 0.8898\n",
            "Epoch 24/25\n",
            "2625/2625 [==============================] - 7s 3ms/step - loss: 0.2187 - accuracy: 0.9239 - val_loss: 0.3589 - val_accuracy: 0.8871\n",
            "Epoch 25/25\n",
            "2625/2625 [==============================] - 7s 3ms/step - loss: 0.2136 - accuracy: 0.9229 - val_loss: 0.3653 - val_accuracy: 0.8861\n"
          ],
          "name": "stdout"
        },
        {
          "output_type": "execute_result",
          "data": {
            "text/plain": [
              "<tensorflow.python.keras.callbacks.History at 0x7f06ce00e048>"
            ]
          },
          "metadata": {
            "tags": []
          },
          "execution_count": 46
        }
      ]
    },
    {
      "cell_type": "code",
      "metadata": {
        "id": "EFRpvhnv_TIm",
        "colab_type": "code",
        "colab": {
          "base_uri": "https://localhost:8080/",
          "height": 35
        },
        "outputId": "2aacd5a7-884b-4fcc-97c1-66938772b6ca"
      },
      "source": [
        "test_loss, test_accuracy = dnn.evaluate(x=X_test_std, y=y_test)\n"
      ],
      "execution_count": 47,
      "outputs": [
        {
          "output_type": "stream",
          "text": [
            "313/313 [==============================] - 0s 1ms/step - loss: 0.4258 - accuracy: 0.8733\n"
          ],
          "name": "stdout"
        }
      ]
    },
    {
      "cell_type": "code",
      "metadata": {
        "id": "kcuCqLoj_YTE",
        "colab_type": "code",
        "colab": {
          "base_uri": "https://localhost:8080/",
          "height": 35
        },
        "outputId": "4d5365e0-ac03-4266-9dae-a2a123c262bc"
      },
      "source": [
        "print(test_loss  ,   test_accuracy)"
      ],
      "execution_count": 48,
      "outputs": [
        {
          "output_type": "stream",
          "text": [
            "0.4257591664791107 0.8733000159263611\n"
          ],
          "name": "stdout"
        }
      ]
    },
    {
      "cell_type": "code",
      "metadata": {
        "id": "8zISQKBv_c4t",
        "colab_type": "code",
        "colab": {}
      },
      "source": [
        ""
      ],
      "execution_count": 0,
      "outputs": []
    }
  ]
}