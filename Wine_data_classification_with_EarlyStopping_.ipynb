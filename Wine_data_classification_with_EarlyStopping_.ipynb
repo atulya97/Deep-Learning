{
  "nbformat": 4,
  "nbformat_minor": 0,
  "metadata": {
    "colab": {
      "name": "Wine data classification with EarlyStopping .ipynb",
      "provenance": [],
      "authorship_tag": "ABX9TyM+ZRjeiO2wBGtbssoUHjre",
      "include_colab_link": true
    },
    "kernelspec": {
      "name": "python3",
      "display_name": "Python 3"
    }
  },
  "cells": [
    {
      "cell_type": "markdown",
      "metadata": {
        "id": "view-in-github",
        "colab_type": "text"
      },
      "source": [
        "<a href=\"https://colab.research.google.com/github/atulya97/Deep-Learning/blob/master/Wine_data_classification_with_EarlyStopping_.ipynb\" target=\"_parent\"><img src=\"https://colab.research.google.com/assets/colab-badge.svg\" alt=\"Open In Colab\"/></a>"
      ]
    },
    {
      "cell_type": "code",
      "metadata": {
        "id": "-2ByhIgCRKbG",
        "colab_type": "code",
        "colab": {}
      },
      "source": [
        "import numpy as np \n",
        "import pandas as pd \n",
        "import matplotlib.pyplot as plt\n"
      ],
      "execution_count": 0,
      "outputs": []
    },
    {
      "cell_type": "code",
      "metadata": {
        "id": "6MDzQfJPRUa5",
        "colab_type": "code",
        "colab": {}
      },
      "source": [
        "from sklearn.datasets import load_wine"
      ],
      "execution_count": 0,
      "outputs": []
    },
    {
      "cell_type": "code",
      "metadata": {
        "id": "MqoKomJWRW9I",
        "colab_type": "code",
        "colab": {
          "base_uri": "https://localhost:8080/",
          "height": 79
        },
        "outputId": "94a10a86-3e4b-4b95-997c-ec7c6c56f506"
      },
      "source": [
        "import tensorflow as tf \n",
        "from tensorflow import keras\n"
      ],
      "execution_count": 3,
      "outputs": [
        {
          "output_type": "display_data",
          "data": {
            "text/html": [
              "<p style=\"color: red;\">\n",
              "The default version of TensorFlow in Colab will soon switch to TensorFlow 2.x.<br>\n",
              "We recommend you <a href=\"https://www.tensorflow.org/guide/migrate\" target=\"_blank\">upgrade</a> now \n",
              "or ensure your notebook will continue to use TensorFlow 1.x via the <code>%tensorflow_version 1.x</code> magic:\n",
              "<a href=\"https://colab.research.google.com/notebooks/tensorflow_version.ipynb\" target=\"_blank\">more info</a>.</p>\n"
            ],
            "text/plain": [
              "<IPython.core.display.HTML object>"
            ]
          },
          "metadata": {
            "tags": []
          }
        }
      ]
    },
    {
      "cell_type": "code",
      "metadata": {
        "id": "frA-yY89RaT0",
        "colab_type": "code",
        "colab": {}
      },
      "source": [
        "tf.set_random_seed(42) \n",
        "np.random.seed(42)\n"
      ],
      "execution_count": 0,
      "outputs": []
    },
    {
      "cell_type": "code",
      "metadata": {
        "id": "UUkHEBXMRf4Q",
        "colab_type": "code",
        "colab": {}
      },
      "source": [
        "wineData = load_wine()\n",
        "# Load the attributes and target in X and y\n",
        "X = wineData.data \n",
        "y = wineData.target\n"
      ],
      "execution_count": 0,
      "outputs": []
    },
    {
      "cell_type": "code",
      "metadata": {
        "id": "ygamjwXRRlyS",
        "colab_type": "code",
        "colab": {}
      },
      "source": [
        "from sklearn.model_selection import train_test_split\n",
        "X_train, X_test, y_train, y_test = train_test_split(X, y, test_size=0.2,stratify=y, random_state=42)\n"
      ],
      "execution_count": 0,
      "outputs": []
    },
    {
      "cell_type": "code",
      "metadata": {
        "id": "JGBZZ9bxRsc2",
        "colab_type": "code",
        "colab": {}
      },
      "source": [
        "from sklearn.preprocessing import StandardScaler \n",
        "sc = StandardScaler()\n"
      ],
      "execution_count": 0,
      "outputs": []
    },
    {
      "cell_type": "code",
      "metadata": {
        "id": "jgw2gBzyRvru",
        "colab_type": "code",
        "colab": {
          "base_uri": "https://localhost:8080/",
          "height": 33
        },
        "outputId": "e5979c12-bee2-49ab-836a-6e7f2c304e8a"
      },
      "source": [
        "sc.fit(X_train)"
      ],
      "execution_count": 9,
      "outputs": [
        {
          "output_type": "execute_result",
          "data": {
            "text/plain": [
              "StandardScaler(copy=True, with_mean=True, with_std=True)"
            ]
          },
          "metadata": {
            "tags": []
          },
          "execution_count": 9
        }
      ]
    },
    {
      "cell_type": "code",
      "metadata": {
        "id": "F-Kx2Ix5RxIS",
        "colab_type": "code",
        "colab": {}
      },
      "source": [
        "X_train_std = sc.transform(X_train) \n",
        "X_test_std = sc.transform(X_test)\n"
      ],
      "execution_count": 0,
      "outputs": []
    },
    {
      "cell_type": "code",
      "metadata": {
        "id": "PI8uWuCcR4aR",
        "colab_type": "code",
        "colab": {}
      },
      "source": [
        "model_DNN = keras.models.Sequential()"
      ],
      "execution_count": 0,
      "outputs": []
    },
    {
      "cell_type": "code",
      "metadata": {
        "id": "bjLxO1DlR6-0",
        "colab_type": "code",
        "colab": {
          "base_uri": "https://localhost:8080/",
          "height": 87
        },
        "outputId": "a48259e1-fb15-4041-e47f-117bd7c3587d"
      },
      "source": [
        "model_DNN.add(keras.layers.Dense(units=15, activation='relu', input_shape= X_train.shape[1:]))\n"
      ],
      "execution_count": 12,
      "outputs": [
        {
          "output_type": "stream",
          "text": [
            "WARNING:tensorflow:From /usr/local/lib/python3.6/dist-packages/tensorflow_core/python/ops/resource_variable_ops.py:1630: calling BaseResourceVariable.__init__ (from tensorflow.python.ops.resource_variable_ops) with constraint is deprecated and will be removed in a future version.\n",
            "Instructions for updating:\n",
            "If using Keras pass *_constraint arguments to layers.\n"
          ],
          "name": "stdout"
        }
      ]
    },
    {
      "cell_type": "code",
      "metadata": {
        "id": "3lYQY7KSR-wG",
        "colab_type": "code",
        "colab": {}
      },
      "source": [
        "model_DNN.add(keras.layers.BatchNormalization())\n",
        "model_DNN.add(keras.layers.Dense(units=12, activation='relu'))\n",
        "model_DNN.add(keras.layers.Dense(units=8, activation='relu')) \n",
        "model_DNN.add(keras.layers.Dense(units=4, activation='relu'))\n"
      ],
      "execution_count": 0,
      "outputs": []
    },
    {
      "cell_type": "code",
      "metadata": {
        "id": "HCRG6XsvSCLe",
        "colab_type": "code",
        "colab": {
          "base_uri": "https://localhost:8080/",
          "height": 351
        },
        "outputId": "54bfc6ba-13cf-47a6-dfcb-62ca72762503"
      },
      "source": [
        "model_DNN.add(keras.layers.Dense(units=3, activation='softmax'))\n",
        "model_DNN.summary()"
      ],
      "execution_count": 14,
      "outputs": [
        {
          "output_type": "stream",
          "text": [
            "Model: \"sequential\"\n",
            "_________________________________________________________________\n",
            "Layer (type)                 Output Shape              Param #   \n",
            "=================================================================\n",
            "dense (Dense)                (None, 15)                210       \n",
            "_________________________________________________________________\n",
            "batch_normalization (BatchNo (None, 15)                60        \n",
            "_________________________________________________________________\n",
            "dense_1 (Dense)              (None, 12)                192       \n",
            "_________________________________________________________________\n",
            "dense_2 (Dense)              (None, 8)                 104       \n",
            "_________________________________________________________________\n",
            "dense_3 (Dense)              (None, 4)                 36        \n",
            "_________________________________________________________________\n",
            "dense_4 (Dense)              (None, 3)                 15        \n",
            "=================================================================\n",
            "Total params: 617\n",
            "Trainable params: 587\n",
            "Non-trainable params: 30\n",
            "_________________________________________________________________\n"
          ],
          "name": "stdout"
        }
      ]
    },
    {
      "cell_type": "code",
      "metadata": {
        "id": "LcUmguRdSIH4",
        "colab_type": "code",
        "colab": {}
      },
      "source": [
        "model_DNN.compile(loss='sparse_categorical_crossentropy',optimizer='adam', metrics=['accuracy'])\n"
      ],
      "execution_count": 0,
      "outputs": []
    },
    {
      "cell_type": "code",
      "metadata": {
        "id": "lCO-IFDlSNTa",
        "colab_type": "code",
        "colab": {
          "base_uri": "https://localhost:8080/",
          "height": 1000
        },
        "outputId": "37fddc95-a8e8-4b8f-e12b-911a366a47a3"
      },
      "source": [
        "cb_early_stopping = keras.callbacks.EarlyStopping(monitor='val_loss',patience=10, restore_best_weights=True)\n",
        "model_DNN.fit(x=X_train_std, y=y_train, validation_split=0.1,epochs=500, batch_size=16, callbacks=[cb_early_stopping])\n"
      ],
      "execution_count": 16,
      "outputs": [
        {
          "output_type": "stream",
          "text": [
            "Train on 127 samples, validate on 15 samples\n",
            "Epoch 1/500\n",
            "127/127 [==============================] - 0s 3ms/sample - loss: 1.0069 - acc: 0.5354 - val_loss: 1.0319 - val_acc: 0.4667\n",
            "Epoch 2/500\n",
            "127/127 [==============================] - 0s 239us/sample - loss: 0.9595 - acc: 0.5906 - val_loss: 1.0029 - val_acc: 0.5333\n",
            "Epoch 3/500\n",
            "127/127 [==============================] - 0s 169us/sample - loss: 0.9296 - acc: 0.6693 - val_loss: 0.9728 - val_acc: 0.8000\n",
            "Epoch 4/500\n",
            "127/127 [==============================] - 0s 187us/sample - loss: 0.8970 - acc: 0.7559 - val_loss: 0.9334 - val_acc: 0.8667\n",
            "Epoch 5/500\n",
            "127/127 [==============================] - 0s 169us/sample - loss: 0.8370 - acc: 0.8425 - val_loss: 0.8866 - val_acc: 0.8667\n",
            "Epoch 6/500\n",
            "127/127 [==============================] - 0s 177us/sample - loss: 0.7899 - acc: 0.8740 - val_loss: 0.8335 - val_acc: 0.8667\n",
            "Epoch 7/500\n",
            "127/127 [==============================] - 0s 163us/sample - loss: 0.7430 - acc: 0.8740 - val_loss: 0.7800 - val_acc: 0.8667\n",
            "Epoch 8/500\n",
            "127/127 [==============================] - 0s 168us/sample - loss: 0.7017 - acc: 0.8898 - val_loss: 0.7245 - val_acc: 0.8667\n",
            "Epoch 9/500\n",
            "127/127 [==============================] - 0s 213us/sample - loss: 0.6267 - acc: 0.9370 - val_loss: 0.6617 - val_acc: 0.8667\n",
            "Epoch 10/500\n",
            "127/127 [==============================] - 0s 203us/sample - loss: 0.6053 - acc: 0.8898 - val_loss: 0.6024 - val_acc: 0.8667\n",
            "Epoch 11/500\n",
            "127/127 [==============================] - 0s 207us/sample - loss: 0.5581 - acc: 0.8898 - val_loss: 0.5485 - val_acc: 0.8667\n",
            "Epoch 12/500\n",
            "127/127 [==============================] - 0s 158us/sample - loss: 0.4750 - acc: 0.9213 - val_loss: 0.4974 - val_acc: 0.8667\n",
            "Epoch 13/500\n",
            "127/127 [==============================] - 0s 174us/sample - loss: 0.4563 - acc: 0.9213 - val_loss: 0.4476 - val_acc: 0.8667\n",
            "Epoch 14/500\n",
            "127/127 [==============================] - 0s 192us/sample - loss: 0.4010 - acc: 0.9370 - val_loss: 0.4019 - val_acc: 0.9333\n",
            "Epoch 15/500\n",
            "127/127 [==============================] - 0s 210us/sample - loss: 0.3490 - acc: 0.9606 - val_loss: 0.3597 - val_acc: 0.9333\n",
            "Epoch 16/500\n",
            "127/127 [==============================] - 0s 178us/sample - loss: 0.3271 - acc: 0.9449 - val_loss: 0.3201 - val_acc: 0.9333\n",
            "Epoch 17/500\n",
            "127/127 [==============================] - 0s 151us/sample - loss: 0.2764 - acc: 0.9685 - val_loss: 0.2875 - val_acc: 0.9333\n",
            "Epoch 18/500\n",
            "127/127 [==============================] - 0s 160us/sample - loss: 0.2576 - acc: 0.9606 - val_loss: 0.2543 - val_acc: 1.0000\n",
            "Epoch 19/500\n",
            "127/127 [==============================] - 0s 166us/sample - loss: 0.2527 - acc: 0.9528 - val_loss: 0.2269 - val_acc: 1.0000\n",
            "Epoch 20/500\n",
            "127/127 [==============================] - 0s 169us/sample - loss: 0.2017 - acc: 0.9843 - val_loss: 0.2092 - val_acc: 1.0000\n",
            "Epoch 21/500\n",
            "127/127 [==============================] - 0s 195us/sample - loss: 0.1853 - acc: 0.9685 - val_loss: 0.1923 - val_acc: 1.0000\n",
            "Epoch 22/500\n",
            "127/127 [==============================] - 0s 167us/sample - loss: 0.1686 - acc: 0.9764 - val_loss: 0.1784 - val_acc: 1.0000\n",
            "Epoch 23/500\n",
            "127/127 [==============================] - 0s 176us/sample - loss: 0.1475 - acc: 0.9606 - val_loss: 0.1532 - val_acc: 1.0000\n",
            "Epoch 24/500\n",
            "127/127 [==============================] - 0s 175us/sample - loss: 0.1373 - acc: 0.9764 - val_loss: 0.1456 - val_acc: 1.0000\n",
            "Epoch 25/500\n",
            "127/127 [==============================] - 0s 182us/sample - loss: 0.1164 - acc: 0.9843 - val_loss: 0.1309 - val_acc: 1.0000\n",
            "Epoch 26/500\n",
            "127/127 [==============================] - 0s 178us/sample - loss: 0.0998 - acc: 0.9843 - val_loss: 0.1162 - val_acc: 1.0000\n",
            "Epoch 27/500\n",
            "127/127 [==============================] - 0s 183us/sample - loss: 0.0927 - acc: 0.9921 - val_loss: 0.1005 - val_acc: 1.0000\n",
            "Epoch 28/500\n",
            "127/127 [==============================] - 0s 186us/sample - loss: 0.1088 - acc: 0.9764 - val_loss: 0.0919 - val_acc: 1.0000\n",
            "Epoch 29/500\n",
            "127/127 [==============================] - 0s 182us/sample - loss: 0.1086 - acc: 0.9843 - val_loss: 0.0886 - val_acc: 1.0000\n",
            "Epoch 30/500\n",
            "127/127 [==============================] - 0s 172us/sample - loss: 0.0623 - acc: 1.0000 - val_loss: 0.0868 - val_acc: 1.0000\n",
            "Epoch 31/500\n",
            "127/127 [==============================] - 0s 214us/sample - loss: 0.0706 - acc: 1.0000 - val_loss: 0.0829 - val_acc: 1.0000\n",
            "Epoch 32/500\n",
            "127/127 [==============================] - 0s 314us/sample - loss: 0.0839 - acc: 0.9764 - val_loss: 0.0788 - val_acc: 1.0000\n",
            "Epoch 33/500\n",
            "127/127 [==============================] - 0s 173us/sample - loss: 0.0651 - acc: 1.0000 - val_loss: 0.0718 - val_acc: 1.0000\n",
            "Epoch 34/500\n",
            "127/127 [==============================] - 0s 166us/sample - loss: 0.1422 - acc: 0.9685 - val_loss: 0.0718 - val_acc: 1.0000\n",
            "Epoch 35/500\n",
            "127/127 [==============================] - 0s 176us/sample - loss: 0.0564 - acc: 1.0000 - val_loss: 0.0607 - val_acc: 1.0000\n",
            "Epoch 36/500\n",
            "127/127 [==============================] - 0s 196us/sample - loss: 0.0939 - acc: 0.9843 - val_loss: 0.0556 - val_acc: 1.0000\n",
            "Epoch 37/500\n",
            "127/127 [==============================] - 0s 167us/sample - loss: 0.0621 - acc: 0.9921 - val_loss: 0.0507 - val_acc: 1.0000\n",
            "Epoch 38/500\n",
            "127/127 [==============================] - 0s 171us/sample - loss: 0.0614 - acc: 0.9921 - val_loss: 0.0474 - val_acc: 1.0000\n",
            "Epoch 39/500\n",
            "127/127 [==============================] - 0s 149us/sample - loss: 0.0352 - acc: 1.0000 - val_loss: 0.0450 - val_acc: 1.0000\n",
            "Epoch 40/500\n",
            "127/127 [==============================] - 0s 188us/sample - loss: 0.0463 - acc: 1.0000 - val_loss: 0.0425 - val_acc: 1.0000\n",
            "Epoch 41/500\n",
            "127/127 [==============================] - 0s 195us/sample - loss: 0.0332 - acc: 1.0000 - val_loss: 0.0403 - val_acc: 1.0000\n",
            "Epoch 42/500\n",
            "127/127 [==============================] - 0s 174us/sample - loss: 0.0834 - acc: 0.9606 - val_loss: 0.0446 - val_acc: 1.0000\n",
            "Epoch 43/500\n",
            "127/127 [==============================] - 0s 176us/sample - loss: 0.0882 - acc: 0.9764 - val_loss: 0.0486 - val_acc: 1.0000\n",
            "Epoch 44/500\n",
            "127/127 [==============================] - 0s 177us/sample - loss: 0.0399 - acc: 0.9843 - val_loss: 0.0439 - val_acc: 1.0000\n",
            "Epoch 45/500\n",
            "127/127 [==============================] - 0s 225us/sample - loss: 0.0309 - acc: 1.0000 - val_loss: 0.0416 - val_acc: 1.0000\n",
            "Epoch 46/500\n",
            "127/127 [==============================] - 0s 228us/sample - loss: 0.0310 - acc: 1.0000 - val_loss: 0.0397 - val_acc: 1.0000\n",
            "Epoch 47/500\n",
            "127/127 [==============================] - 0s 203us/sample - loss: 0.0276 - acc: 1.0000 - val_loss: 0.0377 - val_acc: 1.0000\n",
            "Epoch 48/500\n",
            "127/127 [==============================] - 0s 164us/sample - loss: 0.0202 - acc: 1.0000 - val_loss: 0.0337 - val_acc: 1.0000\n",
            "Epoch 49/500\n",
            "127/127 [==============================] - 0s 167us/sample - loss: 0.0383 - acc: 0.9921 - val_loss: 0.0305 - val_acc: 1.0000\n",
            "Epoch 50/500\n",
            "127/127 [==============================] - 0s 174us/sample - loss: 0.0247 - acc: 0.9921 - val_loss: 0.0284 - val_acc: 1.0000\n",
            "Epoch 51/500\n",
            "127/127 [==============================] - 0s 167us/sample - loss: 0.0473 - acc: 0.9764 - val_loss: 0.0286 - val_acc: 1.0000\n",
            "Epoch 52/500\n",
            "127/127 [==============================] - 0s 163us/sample - loss: 0.0340 - acc: 0.9921 - val_loss: 0.0244 - val_acc: 1.0000\n",
            "Epoch 53/500\n",
            "127/127 [==============================] - 0s 194us/sample - loss: 0.0451 - acc: 0.9843 - val_loss: 0.0211 - val_acc: 1.0000\n",
            "Epoch 54/500\n",
            "127/127 [==============================] - 0s 172us/sample - loss: 0.0207 - acc: 1.0000 - val_loss: 0.0181 - val_acc: 1.0000\n",
            "Epoch 55/500\n",
            "127/127 [==============================] - 0s 171us/sample - loss: 0.0220 - acc: 1.0000 - val_loss: 0.0168 - val_acc: 1.0000\n",
            "Epoch 56/500\n",
            "127/127 [==============================] - 0s 193us/sample - loss: 0.0215 - acc: 1.0000 - val_loss: 0.0160 - val_acc: 1.0000\n",
            "Epoch 57/500\n",
            "127/127 [==============================] - 0s 174us/sample - loss: 0.0212 - acc: 0.9921 - val_loss: 0.0155 - val_acc: 1.0000\n",
            "Epoch 58/500\n",
            "127/127 [==============================] - 0s 167us/sample - loss: 0.0116 - acc: 1.0000 - val_loss: 0.0156 - val_acc: 1.0000\n",
            "Epoch 59/500\n",
            "127/127 [==============================] - 0s 152us/sample - loss: 0.0182 - acc: 1.0000 - val_loss: 0.0141 - val_acc: 1.0000\n",
            "Epoch 60/500\n",
            "127/127 [==============================] - 0s 187us/sample - loss: 0.0371 - acc: 0.9921 - val_loss: 0.0133 - val_acc: 1.0000\n",
            "Epoch 61/500\n",
            "127/127 [==============================] - 0s 162us/sample - loss: 0.0497 - acc: 0.9921 - val_loss: 0.0161 - val_acc: 1.0000\n",
            "Epoch 62/500\n",
            "127/127 [==============================] - 0s 205us/sample - loss: 0.0113 - acc: 1.0000 - val_loss: 0.0197 - val_acc: 1.0000\n",
            "Epoch 63/500\n",
            "127/127 [==============================] - 0s 166us/sample - loss: 0.0186 - acc: 1.0000 - val_loss: 0.0222 - val_acc: 1.0000\n",
            "Epoch 64/500\n",
            "127/127 [==============================] - 0s 149us/sample - loss: 0.0145 - acc: 1.0000 - val_loss: 0.0286 - val_acc: 1.0000\n",
            "Epoch 65/500\n",
            "127/127 [==============================] - 0s 169us/sample - loss: 0.0843 - acc: 0.9843 - val_loss: 0.0285 - val_acc: 1.0000\n",
            "Epoch 66/500\n",
            "127/127 [==============================] - 0s 148us/sample - loss: 0.0137 - acc: 1.0000 - val_loss: 0.0209 - val_acc: 1.0000\n",
            "Epoch 67/500\n",
            "127/127 [==============================] - 0s 171us/sample - loss: 0.0160 - acc: 1.0000 - val_loss: 0.0160 - val_acc: 1.0000\n",
            "Epoch 68/500\n",
            "127/127 [==============================] - 0s 184us/sample - loss: 0.0203 - acc: 0.9921 - val_loss: 0.0128 - val_acc: 1.0000\n",
            "Epoch 69/500\n",
            "127/127 [==============================] - 0s 172us/sample - loss: 0.0174 - acc: 1.0000 - val_loss: 0.0105 - val_acc: 1.0000\n",
            "Epoch 70/500\n",
            "127/127 [==============================] - 0s 198us/sample - loss: 0.0167 - acc: 1.0000 - val_loss: 0.0098 - val_acc: 1.0000\n",
            "Epoch 71/500\n",
            "127/127 [==============================] - 0s 149us/sample - loss: 0.0096 - acc: 1.0000 - val_loss: 0.0099 - val_acc: 1.0000\n",
            "Epoch 72/500\n",
            "127/127 [==============================] - 0s 163us/sample - loss: 0.0193 - acc: 0.9921 - val_loss: 0.0097 - val_acc: 1.0000\n",
            "Epoch 73/500\n",
            "127/127 [==============================] - 0s 154us/sample - loss: 0.0062 - acc: 1.0000 - val_loss: 0.0102 - val_acc: 1.0000\n",
            "Epoch 74/500\n",
            "127/127 [==============================] - 0s 152us/sample - loss: 0.0138 - acc: 1.0000 - val_loss: 0.0102 - val_acc: 1.0000\n",
            "Epoch 75/500\n",
            "127/127 [==============================] - 0s 175us/sample - loss: 0.0328 - acc: 1.0000 - val_loss: 0.0087 - val_acc: 1.0000\n",
            "Epoch 76/500\n",
            "127/127 [==============================] - 0s 166us/sample - loss: 0.0084 - acc: 1.0000 - val_loss: 0.0076 - val_acc: 1.0000\n",
            "Epoch 77/500\n",
            "127/127 [==============================] - 0s 168us/sample - loss: 0.0588 - acc: 0.9843 - val_loss: 0.0076 - val_acc: 1.0000\n",
            "Epoch 78/500\n",
            "127/127 [==============================] - 0s 148us/sample - loss: 0.0182 - acc: 0.9921 - val_loss: 0.0112 - val_acc: 1.0000\n",
            "Epoch 79/500\n",
            "127/127 [==============================] - 0s 180us/sample - loss: 0.0068 - acc: 1.0000 - val_loss: 0.0136 - val_acc: 1.0000\n",
            "Epoch 80/500\n",
            "127/127 [==============================] - 0s 184us/sample - loss: 0.0078 - acc: 1.0000 - val_loss: 0.0143 - val_acc: 1.0000\n",
            "Epoch 81/500\n",
            "127/127 [==============================] - 0s 190us/sample - loss: 0.0251 - acc: 0.9921 - val_loss: 0.0143 - val_acc: 1.0000\n",
            "Epoch 82/500\n",
            "127/127 [==============================] - 0s 170us/sample - loss: 0.0123 - acc: 1.0000 - val_loss: 0.0139 - val_acc: 1.0000\n",
            "Epoch 83/500\n",
            "127/127 [==============================] - 0s 193us/sample - loss: 0.0043 - acc: 1.0000 - val_loss: 0.0133 - val_acc: 1.0000\n",
            "Epoch 84/500\n",
            "127/127 [==============================] - 0s 176us/sample - loss: 0.0077 - acc: 1.0000 - val_loss: 0.0118 - val_acc: 1.0000\n",
            "Epoch 85/500\n",
            "127/127 [==============================] - 0s 151us/sample - loss: 0.0043 - acc: 1.0000 - val_loss: 0.0108 - val_acc: 1.0000\n",
            "Epoch 86/500\n",
            "127/127 [==============================] - 0s 639us/sample - loss: 0.0048 - acc: 1.0000 - val_loss: 0.0102 - val_acc: 1.0000\n"
          ],
          "name": "stdout"
        },
        {
          "output_type": "execute_result",
          "data": {
            "text/plain": [
              "<tensorflow.python.keras.callbacks.History at 0x7f51274b8fd0>"
            ]
          },
          "metadata": {
            "tags": []
          },
          "execution_count": 16
        }
      ]
    },
    {
      "cell_type": "code",
      "metadata": {
        "id": "VDNi1dMuSW-e",
        "colab_type": "code",
        "colab": {
          "base_uri": "https://localhost:8080/",
          "height": 33
        },
        "outputId": "f2ec82a8-1ed6-48d5-fa81-2ddf87db3a59"
      },
      "source": [
        "test_loss, test_accuracy = model_DNN.evaluate(x=X_test_std, y=y_test)\n"
      ],
      "execution_count": 17,
      "outputs": [
        {
          "output_type": "stream",
          "text": [
            "36/36 [==============================] - 0s 294us/sample - loss: 0.0592 - acc: 0.9722\n"
          ],
          "name": "stdout"
        }
      ]
    },
    {
      "cell_type": "code",
      "metadata": {
        "id": "rkcuCHfFSZR5",
        "colab_type": "code",
        "colab": {
          "base_uri": "https://localhost:8080/",
          "height": 33
        },
        "outputId": "bb185440-1b28-4d9d-b65b-7fce4f996d0b"
      },
      "source": [
        "print(test_loss, test_accuracy)\n"
      ],
      "execution_count": 18,
      "outputs": [
        {
          "output_type": "stream",
          "text": [
            "0.059167482337215915 0.9722222\n"
          ],
          "name": "stdout"
        }
      ]
    },
    {
      "cell_type": "code",
      "metadata": {
        "id": "SdPFfQIESb87",
        "colab_type": "code",
        "colab": {}
      },
      "source": [
        ""
      ],
      "execution_count": 0,
      "outputs": []
    }
  ]
}