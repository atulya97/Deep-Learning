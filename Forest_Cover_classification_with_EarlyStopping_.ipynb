{
  "nbformat": 4,
  "nbformat_minor": 0,
  "metadata": {
    "colab": {
      "name": " Forest Cover classification with EarlyStopping .ipynb",
      "provenance": [],
      "authorship_tag": "ABX9TyPylxhvrk9QWGf/VXtiIEN0",
      "include_colab_link": true
    },
    "kernelspec": {
      "name": "python3",
      "display_name": "Python 3"
    }
  },
  "cells": [
    {
      "cell_type": "markdown",
      "metadata": {
        "id": "view-in-github",
        "colab_type": "text"
      },
      "source": [
        "<a href=\"https://colab.research.google.com/github/atulya97/Deep-Learning/blob/master/Forest_Cover_classification_with_EarlyStopping_.ipynb\" target=\"_parent\"><img src=\"https://colab.research.google.com/assets/colab-badge.svg\" alt=\"Open In Colab\"/></a>"
      ]
    },
    {
      "cell_type": "code",
      "metadata": {
        "id": "3xOlVYVgSvJj",
        "colab_type": "code",
        "colab": {}
      },
      "source": [
        "import numpy as np \n",
        "import pandas as pd \n",
        "import matplotlib.pyplot as plt\n",
        "# Load the dataset from sklearn \n",
        "from sklearn.datasets import fetch_covtype\n",
        "# Importing both TensorFlow and its high level API - Keras. \n",
        "import tensorflow as tf \n",
        "from tensorflow import keras\n"
      ],
      "execution_count": 0,
      "outputs": []
    },
    {
      "cell_type": "code",
      "metadata": {
        "id": "6ZkWMxOgS9H7",
        "colab_type": "code",
        "colab": {
          "base_uri": "https://localhost:8080/",
          "height": 178
        },
        "outputId": "7f409172-8dfc-4887-d52b-03b546d5c6ec"
      },
      "source": [
        "tf.set_random_seed(42)\n",
        "np.random,seed(42)"
      ],
      "execution_count": 5,
      "outputs": [
        {
          "output_type": "error",
          "ename": "NameError",
          "evalue": "ignored",
          "traceback": [
            "\u001b[0;31m---------------------------------------------------------------------------\u001b[0m",
            "\u001b[0;31mNameError\u001b[0m                                 Traceback (most recent call last)",
            "\u001b[0;32m<ipython-input-5-8858d90b34c3>\u001b[0m in \u001b[0;36m<module>\u001b[0;34m()\u001b[0m\n\u001b[1;32m      1\u001b[0m \u001b[0mtf\u001b[0m\u001b[0;34m.\u001b[0m\u001b[0mset_random_seed\u001b[0m\u001b[0;34m(\u001b[0m\u001b[0;36m42\u001b[0m\u001b[0;34m)\u001b[0m\u001b[0;34m\u001b[0m\u001b[0;34m\u001b[0m\u001b[0m\n\u001b[0;32m----> 2\u001b[0;31m \u001b[0mnp\u001b[0m\u001b[0;34m.\u001b[0m\u001b[0mrandom\u001b[0m\u001b[0;34m,\u001b[0m\u001b[0mseed\u001b[0m\u001b[0;34m(\u001b[0m\u001b[0;36m42\u001b[0m\u001b[0;34m)\u001b[0m\u001b[0;34m\u001b[0m\u001b[0;34m\u001b[0m\u001b[0m\n\u001b[0m",
            "\u001b[0;31mNameError\u001b[0m: name 'seed' is not defined"
          ]
        }
      ]
    },
    {
      "cell_type": "code",
      "metadata": {
        "id": "eBwOLDqlTEnN",
        "colab_type": "code",
        "colab": {
          "base_uri": "https://localhost:8080/",
          "height": 84
        },
        "outputId": "756b588c-da95-43f6-d471-5d294bf6f9f5"
      },
      "source": [
        "X, y = fetch_covtype(return_X_y=True)\n",
        "print(type(X)) \n",
        "print(X.shape) \n",
        "print(y.shape)"
      ],
      "execution_count": 6,
      "outputs": [
        {
          "output_type": "stream",
          "text": [
            "Downloading https://ndownloader.figshare.com/files/5976039\n"
          ],
          "name": "stderr"
        },
        {
          "output_type": "stream",
          "text": [
            "<class 'numpy.ndarray'>\n",
            "(581012, 54)\n",
            "(581012,)\n"
          ],
          "name": "stdout"
        }
      ]
    },
    {
      "cell_type": "code",
      "metadata": {
        "id": "xlV7LE6wTMU7",
        "colab_type": "code",
        "colab": {
          "base_uri": "https://localhost:8080/",
          "height": 33
        },
        "outputId": "e3c7908f-ed84-4245-932b-8417aec61437"
      },
      "source": [
        "X_10 = X[:,:10]\n",
        "print(X_10.shape) "
      ],
      "execution_count": 7,
      "outputs": [
        {
          "output_type": "stream",
          "text": [
            "(581012, 10)\n"
          ],
          "name": "stdout"
        }
      ]
    },
    {
      "cell_type": "code",
      "metadata": {
        "id": "q1PcA9bMTTtw",
        "colab_type": "code",
        "colab": {}
      },
      "source": [
        "from sklearn.model_selection import train_test_split\n",
        "X10_train, X10_test, y10_train, y10_test = train_test_split(X_10, y, test_size=0.1,stratify=y, random_state=42)\n"
      ],
      "execution_count": 0,
      "outputs": []
    },
    {
      "cell_type": "code",
      "metadata": {
        "id": "AM9NIDtFTeZR",
        "colab_type": "code",
        "colab": {
          "base_uri": "https://localhost:8080/",
          "height": 67
        },
        "outputId": "f84e9b15-cbec-4158-9c04-264dac796c29"
      },
      "source": [
        "print(X10_test.shape) \n",
        "X = X10_test \n",
        "y = y10_test\n",
        "print(set(y))\n",
        "y = y-1 \n",
        "print(set(y)) "
      ],
      "execution_count": 12,
      "outputs": [
        {
          "output_type": "stream",
          "text": [
            "(58102, 10)\n",
            "{1, 2, 3, 4, 5, 6, 7}\n",
            "{0, 1, 2, 3, 4, 5, 6}\n"
          ],
          "name": "stdout"
        }
      ]
    },
    {
      "cell_type": "code",
      "metadata": {
        "id": "ngA6lgk0TviE",
        "colab_type": "code",
        "colab": {}
      },
      "source": [
        "from sklearn.model_selection import train_test_split\n",
        "X_train, X_test, y_train, y_test = train_test_split(X, y, test_size=0.2,stratify=y, random_state=42)\n"
      ],
      "execution_count": 0,
      "outputs": []
    },
    {
      "cell_type": "code",
      "metadata": {
        "id": "Ugyh1mp-T8BX",
        "colab_type": "code",
        "colab": {}
      },
      "source": [
        "from sklearn.preprocessing import StandardScaler \n",
        "sc = StandardScaler()\n",
        "sc.fit(X_train)\n",
        "X_train_std = sc.transform(X_train) \n",
        "X_test_std = sc.transform(X_test)\n"
      ],
      "execution_count": 0,
      "outputs": []
    },
    {
      "cell_type": "code",
      "metadata": {
        "id": "ULossLGSUOl_",
        "colab_type": "code",
        "colab": {
          "base_uri": "https://localhost:8080/",
          "height": 421
        },
        "outputId": "28a82f51-5511-43f4-b198-8a54c0d2add0"
      },
      "source": [
        "model_DNN = keras.models.Sequential()\n",
        "model_DNN.add(keras.layers.Dense(units=25, activation='relu', input_shape= X_train.shape[1:]))\n",
        "model_DNN.add(keras.layers.BatchNormalization())\n",
        "model_DNN.add(keras.layers.Dense(units=20, activation='relu'))\n",
        "model_DNN.add(keras.layers.Dense(units= 15, activation='relu')) \n",
        "model_DNN.add(keras.layers.Dense(units=10, activation='relu'))\n",
        "#output layer\n",
        "model_DNN.add(keras.layers.Dense(units=7, activation='sigmoid'))\n",
        "#summary\n",
        "model_DNN.summary()\n",
        "\n"
      ],
      "execution_count": 16,
      "outputs": [
        {
          "output_type": "stream",
          "text": [
            "WARNING:tensorflow:From /usr/local/lib/python3.6/dist-packages/tensorflow_core/python/ops/resource_variable_ops.py:1630: calling BaseResourceVariable.__init__ (from tensorflow.python.ops.resource_variable_ops) with constraint is deprecated and will be removed in a future version.\n",
            "Instructions for updating:\n",
            "If using Keras pass *_constraint arguments to layers.\n",
            "Model: \"sequential\"\n",
            "_________________________________________________________________\n",
            "Layer (type)                 Output Shape              Param #   \n",
            "=================================================================\n",
            "dense (Dense)                (None, 25)                275       \n",
            "_________________________________________________________________\n",
            "batch_normalization (BatchNo (None, 25)                100       \n",
            "_________________________________________________________________\n",
            "dense_1 (Dense)              (None, 20)                520       \n",
            "_________________________________________________________________\n",
            "dense_2 (Dense)              (None, 15)                315       \n",
            "_________________________________________________________________\n",
            "dense_3 (Dense)              (None, 10)                160       \n",
            "_________________________________________________________________\n",
            "dense_4 (Dense)              (None, 7)                 77        \n",
            "=================================================================\n",
            "Total params: 1,447\n",
            "Trainable params: 1,397\n",
            "Non-trainable params: 50\n",
            "_________________________________________________________________\n"
          ],
          "name": "stdout"
        }
      ]
    },
    {
      "cell_type": "code",
      "metadata": {
        "id": "_KX6U6IAUnz5",
        "colab_type": "code",
        "colab": {}
      },
      "source": [
        "model_DNN.compile(loss='sparse_categorical_crossentropy',optimizer='adam', metrics=['accuracy'])\n",
        "cb_early_stopping = keras.callbacks.EarlyStopping(monitor='val_loss',patience=10, restore_best_weights=True)"
      ],
      "execution_count": 0,
      "outputs": []
    },
    {
      "cell_type": "code",
      "metadata": {
        "id": "v6O_QZrFUy8u",
        "colab_type": "code",
        "colab": {
          "base_uri": "https://localhost:8080/",
          "height": 1000
        },
        "outputId": "8a7f7d3a-b6c3-4bba-a4fc-6903ee2c3c84"
      },
      "source": [
        "model_DNN.fit(x=X_train_std, y=y_train, validation_split=0.1,epochs=100, batch_size=16, callbacks=[cb_early_stopping])\n"
      ],
      "execution_count": 18,
      "outputs": [
        {
          "output_type": "stream",
          "text": [
            "WARNING:tensorflow:From /usr/local/lib/python3.6/dist-packages/tensorflow_core/python/ops/math_grad.py:1424: where (from tensorflow.python.ops.array_ops) is deprecated and will be removed in a future version.\n",
            "Instructions for updating:\n",
            "Use tf.where in 2.0, which has the same broadcast rule as np.where\n",
            "Train on 41832 samples, validate on 4649 samples\n",
            "Epoch 1/100\n",
            "41832/41832 [==============================] - 6s 137us/sample - loss: 0.8376 - acc: 0.6374 - val_loss: 0.6710 - val_acc: 0.7131\n",
            "Epoch 2/100\n",
            "41832/41832 [==============================] - 5s 123us/sample - loss: 0.7283 - acc: 0.6851 - val_loss: 0.6512 - val_acc: 0.7210\n",
            "Epoch 3/100\n",
            "41832/41832 [==============================] - 5s 129us/sample - loss: 0.7054 - acc: 0.6915 - val_loss: 0.6490 - val_acc: 0.7120\n",
            "Epoch 4/100\n",
            "41832/41832 [==============================] - 5s 129us/sample - loss: 0.6988 - acc: 0.6955 - val_loss: 0.6282 - val_acc: 0.7214\n",
            "Epoch 5/100\n",
            "41832/41832 [==============================] - 5s 124us/sample - loss: 0.6882 - acc: 0.6980 - val_loss: 0.6314 - val_acc: 0.7236\n",
            "Epoch 6/100\n",
            "41832/41832 [==============================] - 5s 127us/sample - loss: 0.6790 - acc: 0.7026 - val_loss: 0.6229 - val_acc: 0.7270\n",
            "Epoch 7/100\n",
            "41832/41832 [==============================] - 5s 125us/sample - loss: 0.6734 - acc: 0.7048 - val_loss: 0.6162 - val_acc: 0.7296\n",
            "Epoch 8/100\n",
            "41832/41832 [==============================] - 5s 130us/sample - loss: 0.6699 - acc: 0.7063 - val_loss: 0.6224 - val_acc: 0.7182\n",
            "Epoch 9/100\n",
            "41832/41832 [==============================] - 5s 129us/sample - loss: 0.6660 - acc: 0.7081 - val_loss: 0.6210 - val_acc: 0.7257\n",
            "Epoch 10/100\n",
            "41832/41832 [==============================] - 5s 131us/sample - loss: 0.6635 - acc: 0.7093 - val_loss: 0.6252 - val_acc: 0.7242\n",
            "Epoch 11/100\n",
            "41832/41832 [==============================] - 5s 128us/sample - loss: 0.6611 - acc: 0.7111 - val_loss: 0.6013 - val_acc: 0.7382\n",
            "Epoch 12/100\n",
            "41832/41832 [==============================] - 6s 132us/sample - loss: 0.6585 - acc: 0.7121 - val_loss: 0.6052 - val_acc: 0.7344\n",
            "Epoch 13/100\n",
            "41832/41832 [==============================] - 6s 137us/sample - loss: 0.6575 - acc: 0.7111 - val_loss: 0.6076 - val_acc: 0.7309\n",
            "Epoch 14/100\n",
            "41832/41832 [==============================] - 5s 126us/sample - loss: 0.6520 - acc: 0.7131 - val_loss: 0.6039 - val_acc: 0.7376\n",
            "Epoch 15/100\n",
            "41832/41832 [==============================] - 5s 126us/sample - loss: 0.6527 - acc: 0.7138 - val_loss: 0.6020 - val_acc: 0.7365\n",
            "Epoch 16/100\n",
            "41832/41832 [==============================] - 5s 127us/sample - loss: 0.6515 - acc: 0.7146 - val_loss: 0.5981 - val_acc: 0.7339\n",
            "Epoch 17/100\n",
            "41832/41832 [==============================] - 5s 125us/sample - loss: 0.6486 - acc: 0.7164 - val_loss: 0.5932 - val_acc: 0.7406\n",
            "Epoch 18/100\n",
            "41832/41832 [==============================] - 5s 125us/sample - loss: 0.6465 - acc: 0.7178 - val_loss: 0.5989 - val_acc: 0.7436\n",
            "Epoch 19/100\n",
            "41832/41832 [==============================] - 5s 129us/sample - loss: 0.6430 - acc: 0.7171 - val_loss: 0.6075 - val_acc: 0.7399\n",
            "Epoch 20/100\n",
            "41832/41832 [==============================] - 5s 129us/sample - loss: 0.6444 - acc: 0.7170 - val_loss: 0.5917 - val_acc: 0.7344\n",
            "Epoch 21/100\n",
            "41832/41832 [==============================] - 5s 128us/sample - loss: 0.6421 - acc: 0.7209 - val_loss: 0.5865 - val_acc: 0.7432\n",
            "Epoch 22/100\n",
            "41832/41832 [==============================] - 5s 128us/sample - loss: 0.6429 - acc: 0.7172 - val_loss: 0.5966 - val_acc: 0.7397\n",
            "Epoch 23/100\n",
            "41832/41832 [==============================] - 5s 127us/sample - loss: 0.6405 - acc: 0.7187 - val_loss: 0.6090 - val_acc: 0.7397\n",
            "Epoch 24/100\n",
            "41832/41832 [==============================] - 5s 125us/sample - loss: 0.6402 - acc: 0.7210 - val_loss: 0.5873 - val_acc: 0.7436\n",
            "Epoch 25/100\n",
            "41832/41832 [==============================] - 5s 124us/sample - loss: 0.6371 - acc: 0.7209 - val_loss: 0.5935 - val_acc: 0.7395\n",
            "Epoch 26/100\n",
            "41832/41832 [==============================] - 5s 126us/sample - loss: 0.6389 - acc: 0.7195 - val_loss: 0.5887 - val_acc: 0.7430\n",
            "Epoch 27/100\n",
            "41832/41832 [==============================] - 5s 127us/sample - loss: 0.6360 - acc: 0.7187 - val_loss: 0.5890 - val_acc: 0.7365\n",
            "Epoch 28/100\n",
            "41832/41832 [==============================] - 5s 123us/sample - loss: 0.6352 - acc: 0.7207 - val_loss: 0.5879 - val_acc: 0.7529\n",
            "Epoch 29/100\n",
            "41832/41832 [==============================] - 5s 123us/sample - loss: 0.6339 - acc: 0.7222 - val_loss: 0.5884 - val_acc: 0.7410\n",
            "Epoch 30/100\n",
            "41832/41832 [==============================] - 5s 127us/sample - loss: 0.6310 - acc: 0.7244 - val_loss: 0.5798 - val_acc: 0.7464\n",
            "Epoch 31/100\n",
            "41832/41832 [==============================] - 5s 129us/sample - loss: 0.6371 - acc: 0.7204 - val_loss: 0.5838 - val_acc: 0.7449\n",
            "Epoch 32/100\n",
            "41832/41832 [==============================] - 5s 128us/sample - loss: 0.6346 - acc: 0.7234 - val_loss: 0.5850 - val_acc: 0.7412\n",
            "Epoch 33/100\n",
            "41832/41832 [==============================] - 5s 128us/sample - loss: 0.6332 - acc: 0.7227 - val_loss: 0.5809 - val_acc: 0.7432\n",
            "Epoch 34/100\n",
            "41832/41832 [==============================] - 5s 128us/sample - loss: 0.6314 - acc: 0.7232 - val_loss: 0.5823 - val_acc: 0.7391\n",
            "Epoch 35/100\n",
            "41832/41832 [==============================] - 5s 126us/sample - loss: 0.6314 - acc: 0.7245 - val_loss: 0.5822 - val_acc: 0.7432\n",
            "Epoch 36/100\n",
            "41832/41832 [==============================] - 5s 122us/sample - loss: 0.6290 - acc: 0.7231 - val_loss: 0.5835 - val_acc: 0.7419\n",
            "Epoch 37/100\n",
            "41832/41832 [==============================] - 5s 126us/sample - loss: 0.6328 - acc: 0.7212 - val_loss: 0.5812 - val_acc: 0.7466\n",
            "Epoch 38/100\n",
            "41832/41832 [==============================] - 5s 126us/sample - loss: 0.6305 - acc: 0.7215 - val_loss: 0.5831 - val_acc: 0.7440\n",
            "Epoch 39/100\n",
            "41832/41832 [==============================] - 5s 125us/sample - loss: 0.6292 - acc: 0.7239 - val_loss: 0.5782 - val_acc: 0.7445\n",
            "Epoch 40/100\n",
            "41832/41832 [==============================] - 5s 125us/sample - loss: 0.6288 - acc: 0.7256 - val_loss: 0.5792 - val_acc: 0.7447\n",
            "Epoch 41/100\n",
            "41832/41832 [==============================] - 5s 125us/sample - loss: 0.6300 - acc: 0.7244 - val_loss: 0.5780 - val_acc: 0.7434\n",
            "Epoch 42/100\n",
            "41832/41832 [==============================] - 5s 127us/sample - loss: 0.6285 - acc: 0.7232 - val_loss: 0.5795 - val_acc: 0.7408\n",
            "Epoch 43/100\n",
            "41832/41832 [==============================] - 5s 128us/sample - loss: 0.6313 - acc: 0.7231 - val_loss: 0.5811 - val_acc: 0.7442\n",
            "Epoch 44/100\n",
            "41832/41832 [==============================] - 5s 129us/sample - loss: 0.6252 - acc: 0.7270 - val_loss: 0.5777 - val_acc: 0.7468\n",
            "Epoch 45/100\n",
            "41832/41832 [==============================] - 5s 128us/sample - loss: 0.6261 - acc: 0.7255 - val_loss: 0.5836 - val_acc: 0.7436\n",
            "Epoch 46/100\n",
            "41832/41832 [==============================] - 5s 126us/sample - loss: 0.6247 - acc: 0.7254 - val_loss: 0.5769 - val_acc: 0.7462\n",
            "Epoch 47/100\n",
            "41832/41832 [==============================] - 5s 124us/sample - loss: 0.6273 - acc: 0.7270 - val_loss: 0.5811 - val_acc: 0.7449\n",
            "Epoch 48/100\n",
            "41832/41832 [==============================] - 6s 138us/sample - loss: 0.6279 - acc: 0.7244 - val_loss: 0.5800 - val_acc: 0.7496\n",
            "Epoch 49/100\n",
            "41832/41832 [==============================] - 6s 138us/sample - loss: 0.6251 - acc: 0.7270 - val_loss: 0.5832 - val_acc: 0.7470\n",
            "Epoch 50/100\n",
            "41832/41832 [==============================] - 6s 137us/sample - loss: 0.6255 - acc: 0.7253 - val_loss: 0.5796 - val_acc: 0.7417\n",
            "Epoch 51/100\n",
            "41832/41832 [==============================] - 6s 136us/sample - loss: 0.6243 - acc: 0.7276 - val_loss: 0.5814 - val_acc: 0.7460\n",
            "Epoch 52/100\n",
            "41832/41832 [==============================] - 5s 125us/sample - loss: 0.6284 - acc: 0.7228 - val_loss: 0.5815 - val_acc: 0.7421\n",
            "Epoch 53/100\n",
            "41832/41832 [==============================] - 5s 128us/sample - loss: 0.6260 - acc: 0.7238 - val_loss: 0.5820 - val_acc: 0.7464\n",
            "Epoch 54/100\n",
            "41832/41832 [==============================] - 5s 127us/sample - loss: 0.6268 - acc: 0.7253 - val_loss: 0.5692 - val_acc: 0.7468\n",
            "Epoch 55/100\n",
            "41832/41832 [==============================] - 5s 129us/sample - loss: 0.6214 - acc: 0.7292 - val_loss: 0.5691 - val_acc: 0.7466\n",
            "Epoch 56/100\n",
            "41832/41832 [==============================] - 5s 126us/sample - loss: 0.6220 - acc: 0.7282 - val_loss: 0.5671 - val_acc: 0.7516\n",
            "Epoch 57/100\n",
            "41832/41832 [==============================] - 5s 128us/sample - loss: 0.6245 - acc: 0.7252 - val_loss: 0.5736 - val_acc: 0.7485\n",
            "Epoch 58/100\n",
            "41832/41832 [==============================] - 5s 123us/sample - loss: 0.6230 - acc: 0.7282 - val_loss: 0.5720 - val_acc: 0.7537\n",
            "Epoch 59/100\n",
            "41832/41832 [==============================] - 5s 125us/sample - loss: 0.6206 - acc: 0.7265 - val_loss: 0.5757 - val_acc: 0.7520\n",
            "Epoch 60/100\n",
            "41832/41832 [==============================] - 5s 125us/sample - loss: 0.6229 - acc: 0.7281 - val_loss: 0.5756 - val_acc: 0.7501\n",
            "Epoch 61/100\n",
            "41832/41832 [==============================] - 5s 127us/sample - loss: 0.6175 - acc: 0.7295 - val_loss: 0.5716 - val_acc: 0.7462\n",
            "Epoch 62/100\n",
            "41832/41832 [==============================] - 5s 125us/sample - loss: 0.6193 - acc: 0.7291 - val_loss: 0.5678 - val_acc: 0.7556\n",
            "Epoch 63/100\n",
            "41832/41832 [==============================] - 5s 124us/sample - loss: 0.6196 - acc: 0.7273 - val_loss: 0.5670 - val_acc: 0.7526\n",
            "Epoch 64/100\n",
            "41832/41832 [==============================] - 5s 127us/sample - loss: 0.6212 - acc: 0.7286 - val_loss: 0.5719 - val_acc: 0.7509\n",
            "Epoch 65/100\n",
            "41832/41832 [==============================] - 5s 127us/sample - loss: 0.6209 - acc: 0.7267 - val_loss: 0.5648 - val_acc: 0.7475\n",
            "Epoch 66/100\n",
            "41832/41832 [==============================] - 5s 127us/sample - loss: 0.6214 - acc: 0.7288 - val_loss: 0.5693 - val_acc: 0.7507\n",
            "Epoch 67/100\n",
            "41832/41832 [==============================] - 5s 128us/sample - loss: 0.6191 - acc: 0.7286 - val_loss: 0.5680 - val_acc: 0.7464\n",
            "Epoch 68/100\n",
            "41832/41832 [==============================] - 5s 128us/sample - loss: 0.6214 - acc: 0.7274 - val_loss: 0.5643 - val_acc: 0.7556\n",
            "Epoch 69/100\n",
            "41832/41832 [==============================] - 5s 127us/sample - loss: 0.6191 - acc: 0.7282 - val_loss: 0.5825 - val_acc: 0.7427\n",
            "Epoch 70/100\n",
            "41832/41832 [==============================] - 5s 128us/sample - loss: 0.6208 - acc: 0.7265 - val_loss: 0.5665 - val_acc: 0.7516\n",
            "Epoch 71/100\n",
            "41832/41832 [==============================] - 6s 138us/sample - loss: 0.6182 - acc: 0.7276 - val_loss: 0.5703 - val_acc: 0.7496\n",
            "Epoch 72/100\n",
            "41832/41832 [==============================] - 5s 127us/sample - loss: 0.6177 - acc: 0.7280 - val_loss: 0.5640 - val_acc: 0.7522\n",
            "Epoch 73/100\n",
            "41832/41832 [==============================] - 5s 126us/sample - loss: 0.6197 - acc: 0.7296 - val_loss: 0.5710 - val_acc: 0.7509\n",
            "Epoch 74/100\n",
            "41832/41832 [==============================] - 5s 125us/sample - loss: 0.6174 - acc: 0.7307 - val_loss: 0.5644 - val_acc: 0.7516\n",
            "Epoch 75/100\n",
            "41832/41832 [==============================] - 5s 127us/sample - loss: 0.6168 - acc: 0.7316 - val_loss: 0.5704 - val_acc: 0.7460\n",
            "Epoch 76/100\n",
            "41832/41832 [==============================] - 5s 129us/sample - loss: 0.6193 - acc: 0.7301 - val_loss: 0.5709 - val_acc: 0.7492\n",
            "Epoch 77/100\n",
            "41832/41832 [==============================] - 5s 127us/sample - loss: 0.6170 - acc: 0.7299 - val_loss: 0.5786 - val_acc: 0.7559\n",
            "Epoch 78/100\n",
            "41832/41832 [==============================] - 5s 127us/sample - loss: 0.6187 - acc: 0.7284 - val_loss: 0.5648 - val_acc: 0.7529\n",
            "Epoch 79/100\n",
            "41832/41832 [==============================] - 5s 129us/sample - loss: 0.6183 - acc: 0.7291 - val_loss: 0.5669 - val_acc: 0.7483\n",
            "Epoch 80/100\n",
            "41832/41832 [==============================] - 5s 127us/sample - loss: 0.6169 - acc: 0.7289 - val_loss: 0.5632 - val_acc: 0.7554\n",
            "Epoch 81/100\n",
            "41832/41832 [==============================] - 5s 123us/sample - loss: 0.6177 - acc: 0.7303 - val_loss: 0.5687 - val_acc: 0.7505\n",
            "Epoch 82/100\n",
            "41832/41832 [==============================] - 5s 127us/sample - loss: 0.6193 - acc: 0.7275 - val_loss: 0.5635 - val_acc: 0.7458\n",
            "Epoch 83/100\n",
            "41832/41832 [==============================] - 5s 125us/sample - loss: 0.6201 - acc: 0.7295 - val_loss: 0.5651 - val_acc: 0.7544\n",
            "Epoch 84/100\n",
            "41832/41832 [==============================] - 5s 124us/sample - loss: 0.6166 - acc: 0.7307 - val_loss: 0.5692 - val_acc: 0.7496\n",
            "Epoch 85/100\n",
            "41832/41832 [==============================] - 5s 125us/sample - loss: 0.6178 - acc: 0.7315 - val_loss: 0.5674 - val_acc: 0.7546\n",
            "Epoch 86/100\n",
            "41832/41832 [==============================] - 5s 124us/sample - loss: 0.6157 - acc: 0.7303 - val_loss: 0.5661 - val_acc: 0.7492\n",
            "Epoch 87/100\n",
            "41832/41832 [==============================] - 5s 127us/sample - loss: 0.6175 - acc: 0.7289 - val_loss: 0.5683 - val_acc: 0.7464\n",
            "Epoch 88/100\n",
            "41832/41832 [==============================] - 5s 128us/sample - loss: 0.6147 - acc: 0.7300 - val_loss: 0.5718 - val_acc: 0.7477\n",
            "Epoch 89/100\n",
            "41832/41832 [==============================] - 5s 128us/sample - loss: 0.6152 - acc: 0.7291 - val_loss: 0.5682 - val_acc: 0.7481\n",
            "Epoch 90/100\n",
            "41832/41832 [==============================] - 5s 128us/sample - loss: 0.6152 - acc: 0.7302 - val_loss: 0.5647 - val_acc: 0.7518\n"
          ],
          "name": "stdout"
        },
        {
          "output_type": "execute_result",
          "data": {
            "text/plain": [
              "<tensorflow.python.keras.callbacks.History at 0x7f789df3ea90>"
            ]
          },
          "metadata": {
            "tags": []
          },
          "execution_count": 18
        }
      ]
    },
    {
      "cell_type": "code",
      "metadata": {
        "id": "qT7RayJpU86v",
        "colab_type": "code",
        "colab": {
          "base_uri": "https://localhost:8080/",
          "height": 70
        },
        "outputId": "16b45941-f13b-4093-8818-4b1c43bbf755"
      },
      "source": [
        "test_loss, test_accuracy = model_DNN.evaluate(x=X_test_std, y=y_test)\n",
        "print(test_loss, test_accuracy)"
      ],
      "execution_count": 19,
      "outputs": [
        {
          "output_type": "stream",
          "text": [
            "11621/11621 [==============================] - 0s 28us/sample - loss: 0.5824 - acc: 0.7529\n",
            "0.5824143876923555 0.7528612\n"
          ],
          "name": "stdout"
        }
      ]
    },
    {
      "cell_type": "code",
      "metadata": {
        "id": "TAqljYLtVCf5",
        "colab_type": "code",
        "colab": {}
      },
      "source": [
        ""
      ],
      "execution_count": 0,
      "outputs": []
    }
  ]
}