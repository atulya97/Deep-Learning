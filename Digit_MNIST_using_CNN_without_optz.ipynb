{
  "nbformat": 4,
  "nbformat_minor": 0,
  "metadata": {
    "colab": {
      "name": "Digit MNIST using CNN without optz.ipynb",
      "provenance": [],
      "authorship_tag": "ABX9TyMotDB2LWvId4VMgFxsd+Hi",
      "include_colab_link": true
    },
    "kernelspec": {
      "name": "python3",
      "display_name": "Python 3"
    },
    "accelerator": "GPU"
  },
  "cells": [
    {
      "cell_type": "markdown",
      "metadata": {
        "id": "view-in-github",
        "colab_type": "text"
      },
      "source": [
        "<a href=\"https://colab.research.google.com/github/atulya97/Deep-Learning/blob/master/Digit_MNIST_using_CNN_without_optz.ipynb\" target=\"_parent\"><img src=\"https://colab.research.google.com/assets/colab-badge.svg\" alt=\"Open In Colab\"/></a>"
      ]
    },
    {
      "cell_type": "code",
      "metadata": {
        "id": "SJ_gVQevWWsk",
        "colab_type": "code",
        "colab": {}
      },
      "source": [
        "import numpy as np \n",
        "import pandas as pd \n",
        "import matplotlib.pyplot as plt\n",
        "import tensorflow as tf \n",
        "from tensorflow import keras\n"
      ],
      "execution_count": 0,
      "outputs": []
    },
    {
      "cell_type": "code",
      "metadata": {
        "id": "E0fw_KykYkv9",
        "colab_type": "code",
        "colab": {}
      },
      "source": [
        "tf.random.set_seed(42)\n",
        "np.random.seed(42)"
      ],
      "execution_count": 0,
      "outputs": []
    },
    {
      "cell_type": "code",
      "metadata": {
        "id": "lN1MuIjRYoIT",
        "colab_type": "code",
        "colab": {}
      },
      "source": [
        "mnistDB = keras.datasets.mnist\n"
      ],
      "execution_count": 0,
      "outputs": []
    },
    {
      "cell_type": "code",
      "metadata": {
        "id": "e1Z1xrJ7Y1az",
        "colab_type": "code",
        "colab": {
          "base_uri": "https://localhost:8080/",
          "height": 51
        },
        "outputId": "05bdd3a2-5dbf-428f-91e0-df9d33826bb3"
      },
      "source": [
        "(X_train, y_train),(X_test, y_test) = mnistDB.load_data() #it returns  4 values as two tuples..\n"
      ],
      "execution_count": 4,
      "outputs": [
        {
          "output_type": "stream",
          "text": [
            "Downloading data from https://storage.googleapis.com/tensorflow/tf-keras-datasets/mnist.npz\n",
            "11493376/11490434 [==============================] - 0s 0us/step\n"
          ],
          "name": "stdout"
        }
      ]
    },
    {
      "cell_type": "code",
      "metadata": {
        "id": "Qa4uHzJFY8Rs",
        "colab_type": "code",
        "colab": {}
      },
      "source": [
        "X_train = X_train.reshape((60000, 28, 28, 1)) #1 indicates it is a grey scale ie 1 channel..\n",
        "X_train = X_train.astype('float32')/255\n",
        "X_test = X_test.reshape((10000, 28, 28, 1))\n",
        "X_test = X_test.astype('float32')/255"
      ],
      "execution_count": 0,
      "outputs": []
    },
    {
      "cell_type": "code",
      "metadata": {
        "id": "ByW32WC5aBvd",
        "colab_type": "code",
        "colab": {}
      },
      "source": [
        "cnn = keras.models.Sequential()"
      ],
      "execution_count": 0,
      "outputs": []
    },
    {
      "cell_type": "code",
      "metadata": {
        "id": "Jy-pE-izaj0d",
        "colab_type": "code",
        "colab": {}
      },
      "source": [
        "cnn.add(keras.layers.Conv2D(64, (3,3), activation=\"relu\",input_shape=X_train.shape[1:]))"
      ],
      "execution_count": 0,
      "outputs": []
    },
    {
      "cell_type": "code",
      "metadata": {
        "id": "QkbmpPEoa7bT",
        "colab_type": "code",
        "colab": {}
      },
      "source": [
        "cnn.add(keras.layers.MaxPool2D(2,2))"
      ],
      "execution_count": 0,
      "outputs": []
    },
    {
      "cell_type": "code",
      "metadata": {
        "id": "r8Q_1CB2dERh",
        "colab_type": "code",
        "colab": {}
      },
      "source": [
        "cnn.add(keras.layers.Conv2D(64, (3,3), activation=\"relu\"))"
      ],
      "execution_count": 0,
      "outputs": []
    },
    {
      "cell_type": "code",
      "metadata": {
        "id": "XYt9Z7iPdRm5",
        "colab_type": "code",
        "colab": {}
      },
      "source": [
        "cnn.add(keras.layers.MaxPool2D(2,2))"
      ],
      "execution_count": 0,
      "outputs": []
    },
    {
      "cell_type": "code",
      "metadata": {
        "id": "3vBmriVYdkV8",
        "colab_type": "code",
        "colab": {}
      },
      "source": [
        "cnn.add(keras.layers.Conv2D(64, (3,3), activation=\"relu\"))"
      ],
      "execution_count": 0,
      "outputs": []
    },
    {
      "cell_type": "code",
      "metadata": {
        "id": "1ZlFbacKdmr8",
        "colab_type": "code",
        "colab": {}
      },
      "source": [
        "cnn.add(keras.layers.Flatten())"
      ],
      "execution_count": 0,
      "outputs": []
    },
    {
      "cell_type": "code",
      "metadata": {
        "id": "oCoLI1Q9d0pp",
        "colab_type": "code",
        "colab": {}
      },
      "source": [
        "cnn.add(keras.layers.Dense(64,activation='relu'))"
      ],
      "execution_count": 0,
      "outputs": []
    },
    {
      "cell_type": "code",
      "metadata": {
        "id": "1h9puLZEeHSq",
        "colab_type": "code",
        "colab": {}
      },
      "source": [
        "cnn.add(keras.layers.Dense(10,activation='softmax'))"
      ],
      "execution_count": 0,
      "outputs": []
    },
    {
      "cell_type": "code",
      "metadata": {
        "id": "7V5VVRmsePKo",
        "colab_type": "code",
        "outputId": "16013432-9ce7-4383-c870-7ca0bca50c4c",
        "colab": {
          "base_uri": "https://localhost:8080/",
          "height": 425
        }
      },
      "source": [
        "cnn.summary()"
      ],
      "execution_count": 15,
      "outputs": [
        {
          "output_type": "stream",
          "text": [
            "Model: \"sequential\"\n",
            "_________________________________________________________________\n",
            "Layer (type)                 Output Shape              Param #   \n",
            "=================================================================\n",
            "conv2d (Conv2D)              (None, 26, 26, 64)        640       \n",
            "_________________________________________________________________\n",
            "max_pooling2d (MaxPooling2D) (None, 13, 13, 64)        0         \n",
            "_________________________________________________________________\n",
            "conv2d_1 (Conv2D)            (None, 11, 11, 64)        36928     \n",
            "_________________________________________________________________\n",
            "max_pooling2d_1 (MaxPooling2 (None, 5, 5, 64)          0         \n",
            "_________________________________________________________________\n",
            "conv2d_2 (Conv2D)            (None, 3, 3, 64)          36928     \n",
            "_________________________________________________________________\n",
            "flatten (Flatten)            (None, 576)               0         \n",
            "_________________________________________________________________\n",
            "dense (Dense)                (None, 64)                36928     \n",
            "_________________________________________________________________\n",
            "dense_1 (Dense)              (None, 10)                650       \n",
            "=================================================================\n",
            "Total params: 112,074\n",
            "Trainable params: 112,074\n",
            "Non-trainable params: 0\n",
            "_________________________________________________________________\n"
          ],
          "name": "stdout"
        }
      ]
    },
    {
      "cell_type": "code",
      "metadata": {
        "id": "5IhTG5bOeSL4",
        "colab_type": "code",
        "colab": {}
      },
      "source": [
        "cnn.compile(loss='sparse_categorical_crossentropy',optimizer='adam', metrics=['accuracy'])#rms/adam"
      ],
      "execution_count": 0,
      "outputs": []
    },
    {
      "cell_type": "code",
      "metadata": {
        "id": "X44O2TMwfJsp",
        "colab_type": "code",
        "outputId": "81ade558-72ec-4e33-9419-1c9c2de66e06",
        "colab": {
          "base_uri": "https://localhost:8080/",
          "height": 377
        }
      },
      "source": [
        "history= cnn.fit(x=X_train,y=y_train,validation_split=0.3,epochs=10,batch_size=16)"
      ],
      "execution_count": 17,
      "outputs": [
        {
          "output_type": "stream",
          "text": [
            "Epoch 1/10\n",
            "2625/2625 [==============================] - 8s 3ms/step - loss: 0.1442 - accuracy: 0.9561 - val_loss: 0.0872 - val_accuracy: 0.9724\n",
            "Epoch 2/10\n",
            "2625/2625 [==============================] - 8s 3ms/step - loss: 0.0491 - accuracy: 0.9846 - val_loss: 0.0479 - val_accuracy: 0.9857\n",
            "Epoch 3/10\n",
            "2625/2625 [==============================] - 8s 3ms/step - loss: 0.0344 - accuracy: 0.9888 - val_loss: 0.0548 - val_accuracy: 0.9822\n",
            "Epoch 4/10\n",
            "2625/2625 [==============================] - 8s 3ms/step - loss: 0.0251 - accuracy: 0.9920 - val_loss: 0.0549 - val_accuracy: 0.9844\n",
            "Epoch 5/10\n",
            "2625/2625 [==============================] - 8s 3ms/step - loss: 0.0218 - accuracy: 0.9930 - val_loss: 0.0650 - val_accuracy: 0.9836\n",
            "Epoch 6/10\n",
            "2625/2625 [==============================] - 8s 3ms/step - loss: 0.0179 - accuracy: 0.9944 - val_loss: 0.0473 - val_accuracy: 0.9874\n",
            "Epoch 7/10\n",
            "2625/2625 [==============================] - 8s 3ms/step - loss: 0.0143 - accuracy: 0.9954 - val_loss: 0.0459 - val_accuracy: 0.9891\n",
            "Epoch 8/10\n",
            "2625/2625 [==============================] - 8s 3ms/step - loss: 0.0136 - accuracy: 0.9956 - val_loss: 0.0684 - val_accuracy: 0.9847\n",
            "Epoch 9/10\n",
            "2625/2625 [==============================] - 8s 3ms/step - loss: 0.0127 - accuracy: 0.9959 - val_loss: 0.0532 - val_accuracy: 0.9874\n",
            "Epoch 10/10\n",
            "2625/2625 [==============================] - 8s 3ms/step - loss: 0.0103 - accuracy: 0.9966 - val_loss: 0.0532 - val_accuracy: 0.9874\n"
          ],
          "name": "stdout"
        }
      ]
    },
    {
      "cell_type": "code",
      "metadata": {
        "id": "OUap75NFfT2g",
        "colab_type": "code",
        "outputId": "be8b7f74-e609-478e-a68c-61fb9a98de5a",
        "colab": {
          "base_uri": "https://localhost:8080/",
          "height": 51
        }
      },
      "source": [
        "test_loss, test_accuracy = cnn.evaluate(x=X_test, y=y_test)\n",
        "print(test_loss, test_accuracy)"
      ],
      "execution_count": 18,
      "outputs": [
        {
          "output_type": "stream",
          "text": [
            "313/313 [==============================] - 1s 2ms/step - loss: 0.0459 - accuracy: 0.9892\n",
            "0.04594903439283371 0.9891999959945679\n"
          ],
          "name": "stdout"
        }
      ]
    },
    {
      "cell_type": "code",
      "metadata": {
        "id": "diOMzFP0fgWm",
        "colab_type": "code",
        "colab": {
          "base_uri": "https://localhost:8080/",
          "height": 34
        },
        "outputId": "1a954136-9b5c-4fbf-9de8-32e9999ca3a7"
      },
      "source": [
        "print(history)"
      ],
      "execution_count": 19,
      "outputs": [
        {
          "output_type": "stream",
          "text": [
            "<tensorflow.python.keras.callbacks.History object at 0x7efe2008f160>\n"
          ],
          "name": "stdout"
        }
      ]
    },
    {
      "cell_type": "code",
      "metadata": {
        "id": "75hJ0EI2Pz7L",
        "colab_type": "code",
        "colab": {}
      },
      "source": [
        "import matplotlib.pyplot as plt\n"
      ],
      "execution_count": 0,
      "outputs": []
    },
    {
      "cell_type": "code",
      "metadata": {
        "id": "UfFxt23RQGLq",
        "colab_type": "code",
        "colab": {}
      },
      "source": [
        "loss_train=history.history['accuracy']\n",
        "loss_val=history.history['val_accuracy']\n",
        "\n"
      ],
      "execution_count": 0,
      "outputs": []
    },
    {
      "cell_type": "code",
      "metadata": {
        "id": "Lbil1HZHQ9SB",
        "colab_type": "code",
        "colab": {
          "base_uri": "https://localhost:8080/",
          "height": 295
        },
        "outputId": "8dcf6021-800b-4589-98d0-583b28c8843a"
      },
      "source": [
        "epochs=range(1,11)\n",
        "plt.plot(epochs,loss_train, 'g' ,label='Training accuracy')\n",
        "plt.plot(epochs,loss_val,'b',label='validation accuracy')\n",
        "plt.title('Training and Validation accuracy')\n",
        "plt.xlabel('Epochs')\n",
        "plt.ylabel('Accuracy')\n",
        "plt.legend()\n",
        "plt.show()"
      ],
      "execution_count": 22,
      "outputs": [
        {
          "output_type": "display_data",
          "data": {
            "image/png": "[encoded data removed]",
            "text/plain": [
              "<Figure size 432x288 with 1 Axes>"
            ]
          },
          "metadata": {
            "tags": []
          }
        }
      ]
    },
    {
      "cell_type": "code",
      "metadata": {
        "id": "bU69M55nSGWU",
        "colab_type": "code",
        "colab": {}
      },
      "source": [
        ""
      ],
      "execution_count": 0,
      "outputs": []
    }
  ]
}