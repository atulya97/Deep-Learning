{
  "nbformat": 4,
  "nbformat_minor": 0,
  "metadata": {
    "colab": {
      "name": "MSE and MAE.ipynb",
      "provenance": [],
      "collapsed_sections": [],
      "authorship_tag": "ABX9TyNOcglT4N9jSRhQQcE2/a/c",
      "include_colab_link": true
    },
    "kernelspec": {
      "name": "python3",
      "display_name": "Python 3"
    }
  },
  "cells": [
    {
      "cell_type": "markdown",
      "metadata": {
        "id": "view-in-github",
        "colab_type": "text"
      },
      "source": [
        "<a href=\"https://colab.research.google.com/github/atulya97/Deep-Learning/blob/master/MSE_and_MAE.ipynb\" target=\"_parent\"><img src=\"https://colab.research.google.com/assets/colab-badge.svg\" alt=\"Open In Colab\"/></a>"
      ]
    },
    {
      "cell_type": "code",
      "metadata": {
        "id": "eMW7IJcmEV1z",
        "colab_type": "code",
        "colab": {}
      },
      "source": [
        "from sklearn.metrics import mean_squared_error"
      ],
      "execution_count": 0,
      "outputs": []
    },
    {
      "cell_type": "code",
      "metadata": {
        "id": "fyEMNqsUEoCG",
        "colab_type": "code",
        "colab": {}
      },
      "source": [
        "y_true=[3,-0.5,2,7]\n",
        "y_pred=[2.5,0.0,2,8]\n",
        "mse=mean_squared_error(y_true,y_pred)"
      ],
      "execution_count": 0,
      "outputs": []
    },
    {
      "cell_type": "code",
      "metadata": {
        "id": "9ChRay8bE1tl",
        "colab_type": "code",
        "outputId": "eb6b97aa-bfd8-44aa-8bcc-6619531f1d2b",
        "colab": {
          "base_uri": "https://localhost:8080/",
          "height": 50
        }
      },
      "source": [
        "print(\"MSE:%f\\n\"%mse)"
      ],
      "execution_count": 0,
      "outputs": [
        {
          "output_type": "stream",
          "text": [
            "MSE:0.375000\n",
            "\n"
          ],
          "name": "stdout"
        }
      ]
    },
    {
      "cell_type": "code",
      "metadata": {
        "id": "EVleKaezE9fN",
        "colab_type": "code",
        "colab": {}
      },
      "source": [
        "y_true=[[0.5,1],[-1,1],[7,-6]]\n",
        "y_pred=[[0,2],[-1,2],[8,-5]]\n",
        "mse=mean_squared_error(y_true,y_pred)\n"
      ],
      "execution_count": 0,
      "outputs": []
    },
    {
      "cell_type": "code",
      "metadata": {
        "colab_type": "code",
        "outputId": "b4cc5255-c009-4574-be7f-a762e7028c55",
        "id": "LW02DWb4FpD4",
        "colab": {
          "base_uri": "https://localhost:8080/",
          "height": 50
        }
      },
      "source": [
        "print(\"MSE:%f\\n\"%mse)"
      ],
      "execution_count": 0,
      "outputs": [
        {
          "output_type": "stream",
          "text": [
            "MSE:0.708333\n",
            "\n"
          ],
          "name": "stdout"
        }
      ]
    },
    {
      "cell_type": "code",
      "metadata": {
        "id": "wkc6MagDFjiP",
        "colab_type": "code",
        "outputId": "5b80f1a0-ddc5-4a99-d28c-a1324f6118a7",
        "colab": {
          "base_uri": "https://localhost:8080/",
          "height": 50
        }
      },
      "source": [
        "mse=mean_squared_error(y_true,y_pred,multioutput='raw_values')\n",
        "print(\"MSE:{}\\n\".format(mse))"
      ],
      "execution_count": 0,
      "outputs": [
        {
          "output_type": "stream",
          "text": [
            "MSE:[0.41666667 1.        ]\n",
            "\n"
          ],
          "name": "stdout"
        }
      ]
    },
    {
      "cell_type": "code",
      "metadata": {
        "id": "rBtnJGy6GBPW",
        "colab_type": "code",
        "outputId": "fde69de7-9b10-412c-970c-a82e9846ace1",
        "colab": {
          "base_uri": "https://localhost:8080/",
          "height": 50
        }
      },
      "source": [
        "mse=mean_squared_error(y_true,y_pred,multioutput=[0.3,0.7])\n",
        "print(\"MSE:%f\\n\"%mse)"
      ],
      "execution_count": 0,
      "outputs": [
        {
          "output_type": "stream",
          "text": [
            "MSE:0.825000\n",
            "\n"
          ],
          "name": "stdout"
        }
      ]
    },
    {
      "cell_type": "code",
      "metadata": {
        "id": "2sf54Ll-GVWY",
        "colab_type": "code",
        "colab": {}
      },
      "source": [
        ""
      ],
      "execution_count": 0,
      "outputs": []
    }
  ]
}