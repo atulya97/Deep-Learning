{
  "nbformat": 4,
  "nbformat_minor": 0,
  "metadata": {
    "colab": {
      "name": "DNN for Forest Cover dataset .ipynb",
      "provenance": [],
      "authorship_tag": "ABX9TyMqh7UfFDXFvMZDYZHQE2Qs",
      "include_colab_link": true
    },
    "kernelspec": {
      "name": "python3",
      "display_name": "Python 3"
    }
  },
  "cells": [
    {
      "cell_type": "markdown",
      "metadata": {
        "id": "view-in-github",
        "colab_type": "text"
      },
      "source": [
        "<a href=\"https://colab.research.google.com/github/atulya97/Deep-Learning/blob/master/DNN_for_Forest_Cover_dataset_.ipynb\" target=\"_parent\"><img src=\"https://colab.research.google.com/assets/colab-badge.svg\" alt=\"Open In Colab\"/></a>"
      ]
    },
    {
      "cell_type": "code",
      "metadata": {
        "id": "k4d4k6V4XG2I",
        "colab_type": "code",
        "colab": {}
      },
      "source": [
        "import numpy as np\n",
        "import pandas as pd\n",
        "import matplotlib as plt"
      ],
      "execution_count": 0,
      "outputs": []
    },
    {
      "cell_type": "code",
      "metadata": {
        "id": "6Kxr1NvRYW8w",
        "colab_type": "code",
        "colab": {}
      },
      "source": [
        "from sklearn.datasets import fetch_covtype"
      ],
      "execution_count": 0,
      "outputs": []
    },
    {
      "cell_type": "code",
      "metadata": {
        "id": "1VJD9pKfYgh9",
        "colab_type": "code",
        "colab": {}
      },
      "source": [
        "import tensorflow as tf\n",
        "from tensorflow import keras"
      ],
      "execution_count": 0,
      "outputs": []
    },
    {
      "cell_type": "code",
      "metadata": {
        "id": "jMgm1mofYnoY",
        "colab_type": "code",
        "colab": {}
      },
      "source": [
        "tf.set_random_seed(42)\n",
        "np.random.seed(42)"
      ],
      "execution_count": 0,
      "outputs": []
    },
    {
      "cell_type": "code",
      "metadata": {
        "id": "PEIrqE_xYvMB",
        "colab_type": "code",
        "colab": {
          "base_uri": "https://localhost:8080/",
          "height": 84
        },
        "outputId": "7b6a4e40-002d-4bbe-fbd9-affd30f8626f"
      },
      "source": [
        "X,y=fetch_covtype(return_X_y=True)\n",
        "print(type(X))\n",
        "print(X.shape)\n",
        "print(y.shape)"
      ],
      "execution_count": 5,
      "outputs": [
        {
          "output_type": "stream",
          "text": [
            "Downloading https://ndownloader.figshare.com/files/5976039\n"
          ],
          "name": "stderr"
        },
        {
          "output_type": "stream",
          "text": [
            "<class 'numpy.ndarray'>\n",
            "(581012, 54)\n",
            "(581012,)\n"
          ],
          "name": "stdout"
        }
      ]
    },
    {
      "cell_type": "code",
      "metadata": {
        "id": "0NDc9CXtY_R_",
        "colab_type": "code",
        "colab": {
          "base_uri": "https://localhost:8080/",
          "height": 33
        },
        "outputId": "5c3f4d79-a111-4e5d-f94e-1e21a03f64a7"
      },
      "source": [
        "X_10=X[:,:10]\n",
        "print(X_10.shape)"
      ],
      "execution_count": 6,
      "outputs": [
        {
          "output_type": "stream",
          "text": [
            "(581012, 10)\n"
          ],
          "name": "stdout"
        }
      ]
    },
    {
      "cell_type": "code",
      "metadata": {
        "id": "SA6SJ2DqZTHq",
        "colab_type": "code",
        "colab": {}
      },
      "source": [
        "from sklearn.model_selection import train_test_split"
      ],
      "execution_count": 0,
      "outputs": []
    },
    {
      "cell_type": "code",
      "metadata": {
        "id": "r_iELVRtZbkb",
        "colab_type": "code",
        "colab": {}
      },
      "source": [
        "X10_train,X10_test,y10_train,y10_test=train_test_split(X_10,y,test_size=0.1,stratify=y,random_state=42)"
      ],
      "execution_count": 0,
      "outputs": []
    },
    {
      "cell_type": "code",
      "metadata": {
        "id": "TC473gGkZ90i",
        "colab_type": "code",
        "colab": {
          "base_uri": "https://localhost:8080/",
          "height": 33
        },
        "outputId": "931350f7-5704-4a69-9dc3-c873afb3ef04"
      },
      "source": [
        "print(X10_test.shape)"
      ],
      "execution_count": 9,
      "outputs": [
        {
          "output_type": "stream",
          "text": [
            "(58102, 10)\n"
          ],
          "name": "stdout"
        }
      ]
    },
    {
      "cell_type": "code",
      "metadata": {
        "id": "GYeb4qY9aC3n",
        "colab_type": "code",
        "colab": {
          "base_uri": "https://localhost:8080/",
          "height": 33
        },
        "outputId": "685da789-c280-4553-b23a-724680f3d2f6"
      },
      "source": [
        "X=X10_test\n",
        "y=y10_test\n",
        "print(set(y))"
      ],
      "execution_count": 10,
      "outputs": [
        {
          "output_type": "stream",
          "text": [
            "{1, 2, 3, 4, 5, 6, 7}\n"
          ],
          "name": "stdout"
        }
      ]
    },
    {
      "cell_type": "code",
      "metadata": {
        "id": "EOjpWBETaMYF",
        "colab_type": "code",
        "colab": {
          "base_uri": "https://localhost:8080/",
          "height": 33
        },
        "outputId": "d39dc6c1-aa13-4adb-83a0-b0d3ac452c9e"
      },
      "source": [
        "y=y-1\n",
        "print(set(y))\n"
      ],
      "execution_count": 11,
      "outputs": [
        {
          "output_type": "stream",
          "text": [
            "{0, 1, 2, 3, 4, 5, 6}\n"
          ],
          "name": "stdout"
        }
      ]
    },
    {
      "cell_type": "code",
      "metadata": {
        "id": "xOuEV0DYaSEU",
        "colab_type": "code",
        "colab": {}
      },
      "source": [
        "from sklearn.model_selection import train_test_split\n",
        "X_train, X_test, y_train, y_test = train_test_split(X, y, test_size=0.2,stratify=y, random_state=42)\n"
      ],
      "execution_count": 0,
      "outputs": []
    },
    {
      "cell_type": "code",
      "metadata": {
        "id": "wJXtAkL6abVu",
        "colab_type": "code",
        "colab": {}
      },
      "source": [
        "from sklearn.preprocessing import StandardScaler\n",
        "sc=StandardScaler()"
      ],
      "execution_count": 0,
      "outputs": []
    },
    {
      "cell_type": "code",
      "metadata": {
        "id": "qmYYyRNjanvX",
        "colab_type": "code",
        "colab": {
          "base_uri": "https://localhost:8080/",
          "height": 33
        },
        "outputId": "318eb6c0-8d1d-420a-f628-2bc12d0515f4"
      },
      "source": [
        "sc.fit(X_train)"
      ],
      "execution_count": 14,
      "outputs": [
        {
          "output_type": "execute_result",
          "data": {
            "text/plain": [
              "StandardScaler(copy=True, with_mean=True, with_std=True)"
            ]
          },
          "metadata": {
            "tags": []
          },
          "execution_count": 14
        }
      ]
    },
    {
      "cell_type": "code",
      "metadata": {
        "id": "h_oVUzqhasHu",
        "colab_type": "code",
        "colab": {}
      },
      "source": [
        "X_train_std=sc.transform(X_train)"
      ],
      "execution_count": 0,
      "outputs": []
    },
    {
      "cell_type": "code",
      "metadata": {
        "id": "14n4hDavax4q",
        "colab_type": "code",
        "colab": {}
      },
      "source": [
        "X_test_std=sc.transform(X_test)"
      ],
      "execution_count": 0,
      "outputs": []
    },
    {
      "cell_type": "code",
      "metadata": {
        "id": "uQ-jpotNa3x_",
        "colab_type": "code",
        "colab": {}
      },
      "source": [
        "model_DNN=keras.models.Sequential()"
      ],
      "execution_count": 0,
      "outputs": []
    },
    {
      "cell_type": "code",
      "metadata": {
        "id": "ckepWpiDbJVS",
        "colab_type": "code",
        "colab": {
          "base_uri": "https://localhost:8080/",
          "height": 87
        },
        "outputId": "029f575c-ad9d-456c-a986-16bdcd747ab1"
      },
      "source": [
        "model_DNN.add(keras.layers.Dense(units=25,activation='relu',input_shape=X_train.shape[1:]))"
      ],
      "execution_count": 18,
      "outputs": [
        {
          "output_type": "stream",
          "text": [
            "WARNING:tensorflow:From /usr/local/lib/python3.6/dist-packages/tensorflow_core/python/ops/resource_variable_ops.py:1630: calling BaseResourceVariable.__init__ (from tensorflow.python.ops.resource_variable_ops) with constraint is deprecated and will be removed in a future version.\n",
            "Instructions for updating:\n",
            "If using Keras pass *_constraint arguments to layers.\n"
          ],
          "name": "stdout"
        }
      ]
    },
    {
      "cell_type": "code",
      "metadata": {
        "id": "dWf4gojjbo1B",
        "colab_type": "code",
        "colab": {}
      },
      "source": [
        "model_DNN.add(keras.layers.Dropout(0.1))\n",
        "\n",
        "model_DNN.add(keras.layers.Dense(units=20, activation='relu'))\n",
        "\n",
        "model_DNN.add(keras.layers.Dropout(0.1))\n",
        "\n",
        "model_DNN.add(keras.layers.Dense(units= 15, activation='relu')) \n",
        "\n",
        "model_DNN.add(keras.layers.Dense(units=10, activation='relu'))\n"
      ],
      "execution_count": 0,
      "outputs": []
    },
    {
      "cell_type": "code",
      "metadata": {
        "id": "1GvKYuMib2Lk",
        "colab_type": "code",
        "colab": {}
      },
      "source": [
        "model_DNN.add(keras.layers.Dense(units=7, activation='sigmoid'))\n"
      ],
      "execution_count": 0,
      "outputs": []
    },
    {
      "cell_type": "code",
      "metadata": {
        "id": "GgKeYVFLb4ni",
        "colab_type": "code",
        "colab": {
          "base_uri": "https://localhost:8080/",
          "height": 385
        },
        "outputId": "038f3322-8ca2-4348-afa5-e9dbfb248f2e"
      },
      "source": [
        "model_DNN.summary()\n"
      ],
      "execution_count": 21,
      "outputs": [
        {
          "output_type": "stream",
          "text": [
            "Model: \"sequential\"\n",
            "_________________________________________________________________\n",
            "Layer (type)                 Output Shape              Param #   \n",
            "=================================================================\n",
            "dense (Dense)                (None, 25)                275       \n",
            "_________________________________________________________________\n",
            "dropout (Dropout)            (None, 25)                0         \n",
            "_________________________________________________________________\n",
            "dense_1 (Dense)              (None, 20)                520       \n",
            "_________________________________________________________________\n",
            "dropout_1 (Dropout)          (None, 20)                0         \n",
            "_________________________________________________________________\n",
            "dense_2 (Dense)              (None, 15)                315       \n",
            "_________________________________________________________________\n",
            "dense_3 (Dense)              (None, 10)                160       \n",
            "_________________________________________________________________\n",
            "dense_4 (Dense)              (None, 7)                 77        \n",
            "=================================================================\n",
            "Total params: 1,347\n",
            "Trainable params: 1,347\n",
            "Non-trainable params: 0\n",
            "_________________________________________________________________\n"
          ],
          "name": "stdout"
        }
      ]
    },
    {
      "cell_type": "code",
      "metadata": {
        "id": "fWntTIgob62n",
        "colab_type": "code",
        "colab": {}
      },
      "source": [
        "model_DNN.compile(loss='sparse_categorical_crossentropy',optimizer='adam', metrics=['accuracy'])\n"
      ],
      "execution_count": 0,
      "outputs": []
    },
    {
      "cell_type": "code",
      "metadata": {
        "id": "4wTD1jpqb_-Q",
        "colab_type": "code",
        "colab": {
          "base_uri": "https://localhost:8080/",
          "height": 1000
        },
        "outputId": "27d35bf1-f6de-4fe0-ef81-b4fbe30c7111"
      },
      "source": [
        "model_DNN.fit(x=X_train_std, y=y_train, validation_split=0.1, epochs=50, batch_size=16)\n",
        "\n",
        "test_loss, test_accuracy = model_DNN.evaluate(x=X_test_std, y=y_test) \n"
      ],
      "execution_count": 23,
      "outputs": [
        {
          "output_type": "stream",
          "text": [
            "WARNING:tensorflow:From /usr/local/lib/python3.6/dist-packages/tensorflow_core/python/ops/math_grad.py:1424: where (from tensorflow.python.ops.array_ops) is deprecated and will be removed in a future version.\n",
            "Instructions for updating:\n",
            "Use tf.where in 2.0, which has the same broadcast rule as np.where\n",
            "Train on 41832 samples, validate on 4649 samples\n",
            "Epoch 1/50\n",
            "41832/41832 [==============================] - 5s 120us/sample - loss: 0.9029 - acc: 0.5383 - val_loss: 0.6974 - val_acc: 0.7017\n",
            "Epoch 2/50\n",
            "41832/41832 [==============================] - 5s 110us/sample - loss: 0.7395 - acc: 0.6808 - val_loss: 0.6759 - val_acc: 0.7062\n",
            "Epoch 3/50\n",
            "41832/41832 [==============================] - 5s 109us/sample - loss: 0.7181 - acc: 0.6868 - val_loss: 0.6589 - val_acc: 0.7135\n",
            "Epoch 4/50\n",
            "41832/41832 [==============================] - 5s 110us/sample - loss: 0.7072 - acc: 0.6879 - val_loss: 0.6582 - val_acc: 0.7133\n",
            "Epoch 5/50\n",
            "41832/41832 [==============================] - 5s 109us/sample - loss: 0.7004 - acc: 0.6892 - val_loss: 0.6659 - val_acc: 0.7146\n",
            "Epoch 6/50\n",
            "41832/41832 [==============================] - 5s 109us/sample - loss: 0.6948 - acc: 0.6916 - val_loss: 0.6489 - val_acc: 0.7178\n",
            "Epoch 7/50\n",
            "41832/41832 [==============================] - 5s 108us/sample - loss: 0.6916 - acc: 0.6930 - val_loss: 0.6442 - val_acc: 0.7124\n",
            "Epoch 8/50\n",
            "41832/41832 [==============================] - 5s 109us/sample - loss: 0.6855 - acc: 0.6931 - val_loss: 0.6437 - val_acc: 0.7174\n",
            "Epoch 9/50\n",
            "41832/41832 [==============================] - 5s 109us/sample - loss: 0.6850 - acc: 0.6942 - val_loss: 0.6434 - val_acc: 0.7122\n",
            "Epoch 10/50\n",
            "41832/41832 [==============================] - 5s 108us/sample - loss: 0.6808 - acc: 0.6960 - val_loss: 0.6449 - val_acc: 0.7191\n",
            "Epoch 11/50\n",
            "41832/41832 [==============================] - 5s 109us/sample - loss: 0.6784 - acc: 0.6965 - val_loss: 0.6405 - val_acc: 0.7191\n",
            "Epoch 12/50\n",
            "41832/41832 [==============================] - 5s 109us/sample - loss: 0.6768 - acc: 0.6953 - val_loss: 0.6319 - val_acc: 0.7219\n",
            "Epoch 13/50\n",
            "41832/41832 [==============================] - 5s 109us/sample - loss: 0.6732 - acc: 0.6981 - val_loss: 0.6351 - val_acc: 0.7165\n",
            "Epoch 14/50\n",
            "41832/41832 [==============================] - 5s 111us/sample - loss: 0.6703 - acc: 0.7000 - val_loss: 0.6320 - val_acc: 0.7202\n",
            "Epoch 15/50\n",
            "41832/41832 [==============================] - 5s 111us/sample - loss: 0.6681 - acc: 0.7005 - val_loss: 0.6247 - val_acc: 0.7214\n",
            "Epoch 16/50\n",
            "41832/41832 [==============================] - 5s 111us/sample - loss: 0.6670 - acc: 0.7002 - val_loss: 0.6249 - val_acc: 0.7199\n",
            "Epoch 17/50\n",
            "41832/41832 [==============================] - 5s 109us/sample - loss: 0.6671 - acc: 0.6989 - val_loss: 0.6256 - val_acc: 0.7195\n",
            "Epoch 18/50\n",
            "41832/41832 [==============================] - 5s 110us/sample - loss: 0.6654 - acc: 0.7002 - val_loss: 0.6276 - val_acc: 0.7199\n",
            "Epoch 19/50\n",
            "41832/41832 [==============================] - 5s 110us/sample - loss: 0.6646 - acc: 0.7009 - val_loss: 0.6138 - val_acc: 0.7199\n",
            "Epoch 20/50\n",
            "41832/41832 [==============================] - 5s 111us/sample - loss: 0.6612 - acc: 0.7013 - val_loss: 0.6155 - val_acc: 0.7219\n",
            "Epoch 21/50\n",
            "41832/41832 [==============================] - 5s 110us/sample - loss: 0.6579 - acc: 0.7033 - val_loss: 0.6127 - val_acc: 0.7253\n",
            "Epoch 22/50\n",
            "41832/41832 [==============================] - 5s 110us/sample - loss: 0.6583 - acc: 0.7021 - val_loss: 0.6122 - val_acc: 0.7217\n",
            "Epoch 23/50\n",
            "41832/41832 [==============================] - 5s 111us/sample - loss: 0.6589 - acc: 0.7038 - val_loss: 0.6143 - val_acc: 0.7210\n",
            "Epoch 24/50\n",
            "41832/41832 [==============================] - 5s 109us/sample - loss: 0.6560 - acc: 0.7045 - val_loss: 0.6189 - val_acc: 0.7197\n",
            "Epoch 25/50\n",
            "41832/41832 [==============================] - 5s 109us/sample - loss: 0.6551 - acc: 0.7034 - val_loss: 0.6062 - val_acc: 0.7260\n",
            "Epoch 26/50\n",
            "41832/41832 [==============================] - 5s 109us/sample - loss: 0.6526 - acc: 0.7054 - val_loss: 0.6109 - val_acc: 0.7253\n",
            "Epoch 27/50\n",
            "41832/41832 [==============================] - 5s 110us/sample - loss: 0.6548 - acc: 0.7034 - val_loss: 0.6094 - val_acc: 0.7240\n",
            "Epoch 28/50\n",
            "41832/41832 [==============================] - 5s 109us/sample - loss: 0.6554 - acc: 0.7038 - val_loss: 0.6115 - val_acc: 0.7253\n",
            "Epoch 29/50\n",
            "41832/41832 [==============================] - 5s 111us/sample - loss: 0.6524 - acc: 0.7049 - val_loss: 0.6058 - val_acc: 0.7285\n",
            "Epoch 30/50\n",
            "41832/41832 [==============================] - 5s 111us/sample - loss: 0.6511 - acc: 0.7045 - val_loss: 0.6091 - val_acc: 0.7270\n",
            "Epoch 31/50\n",
            "41832/41832 [==============================] - 5s 111us/sample - loss: 0.6499 - acc: 0.7066 - val_loss: 0.6150 - val_acc: 0.7260\n",
            "Epoch 32/50\n",
            "41832/41832 [==============================] - 5s 109us/sample - loss: 0.6491 - acc: 0.7065 - val_loss: 0.6077 - val_acc: 0.7294\n",
            "Epoch 33/50\n",
            "41832/41832 [==============================] - 5s 109us/sample - loss: 0.6487 - acc: 0.7065 - val_loss: 0.6073 - val_acc: 0.7331\n",
            "Epoch 34/50\n",
            "41832/41832 [==============================] - 5s 110us/sample - loss: 0.6508 - acc: 0.7041 - val_loss: 0.6017 - val_acc: 0.7270\n",
            "Epoch 35/50\n",
            "41832/41832 [==============================] - 5s 109us/sample - loss: 0.6495 - acc: 0.7057 - val_loss: 0.6069 - val_acc: 0.7313\n",
            "Epoch 36/50\n",
            "41832/41832 [==============================] - 5s 111us/sample - loss: 0.6466 - acc: 0.7084 - val_loss: 0.6016 - val_acc: 0.7270\n",
            "Epoch 37/50\n",
            "41832/41832 [==============================] - 5s 110us/sample - loss: 0.6458 - acc: 0.7069 - val_loss: 0.6113 - val_acc: 0.7285\n",
            "Epoch 38/50\n",
            "41832/41832 [==============================] - 5s 111us/sample - loss: 0.6460 - acc: 0.7073 - val_loss: 0.6087 - val_acc: 0.7290\n",
            "Epoch 39/50\n",
            "41832/41832 [==============================] - 5s 110us/sample - loss: 0.6452 - acc: 0.7074 - val_loss: 0.5994 - val_acc: 0.7303\n",
            "Epoch 40/50\n",
            "41832/41832 [==============================] - 5s 110us/sample - loss: 0.6427 - acc: 0.7087 - val_loss: 0.5955 - val_acc: 0.7288\n",
            "Epoch 41/50\n",
            "41832/41832 [==============================] - 5s 110us/sample - loss: 0.6416 - acc: 0.7075 - val_loss: 0.6113 - val_acc: 0.7298\n",
            "Epoch 42/50\n",
            "41832/41832 [==============================] - 5s 111us/sample - loss: 0.6450 - acc: 0.7067 - val_loss: 0.5965 - val_acc: 0.7346\n",
            "Epoch 43/50\n",
            "41832/41832 [==============================] - 5s 111us/sample - loss: 0.6435 - acc: 0.7067 - val_loss: 0.5936 - val_acc: 0.7264\n",
            "Epoch 44/50\n",
            "41832/41832 [==============================] - 5s 110us/sample - loss: 0.6422 - acc: 0.7088 - val_loss: 0.5920 - val_acc: 0.7320\n",
            "Epoch 45/50\n",
            "41832/41832 [==============================] - 5s 111us/sample - loss: 0.6426 - acc: 0.7093 - val_loss: 0.5950 - val_acc: 0.7350\n",
            "Epoch 46/50\n",
            "41832/41832 [==============================] - 5s 110us/sample - loss: 0.6409 - acc: 0.7093 - val_loss: 0.5938 - val_acc: 0.7324\n",
            "Epoch 47/50\n",
            "41832/41832 [==============================] - 5s 109us/sample - loss: 0.6404 - acc: 0.7088 - val_loss: 0.5930 - val_acc: 0.7354\n",
            "Epoch 48/50\n",
            "41832/41832 [==============================] - 5s 110us/sample - loss: 0.6400 - acc: 0.7112 - val_loss: 0.6085 - val_acc: 0.7305\n",
            "Epoch 49/50\n",
            "41832/41832 [==============================] - 5s 109us/sample - loss: 0.6404 - acc: 0.7092 - val_loss: 0.5889 - val_acc: 0.7339\n",
            "Epoch 50/50\n",
            "41832/41832 [==============================] - 5s 109us/sample - loss: 0.6367 - acc: 0.7109 - val_loss: 0.5900 - val_acc: 0.7270\n",
            "11621/11621 [==============================] - 0s 23us/sample - loss: 0.6090 - acc: 0.7187\n"
          ],
          "name": "stdout"
        }
      ]
    },
    {
      "cell_type": "code",
      "metadata": {
        "id": "arUL7iJ1cfSd",
        "colab_type": "code",
        "colab": {
          "base_uri": "https://localhost:8080/",
          "height": 33
        },
        "outputId": "a1193b7d-a696-4971-c6d2-d0cee6c44878"
      },
      "source": [
        "print(test_loss, test_accuracy)"
      ],
      "execution_count": 24,
      "outputs": [
        {
          "output_type": "stream",
          "text": [
            "0.6089755332148862 0.7186989\n"
          ],
          "name": "stdout"
        }
      ]
    },
    {
      "cell_type": "code",
      "metadata": {
        "id": "JERf_f_HcnGL",
        "colab_type": "code",
        "colab": {}
      },
      "source": [
        ""
      ],
      "execution_count": 0,
      "outputs": []
    }
  ]
}